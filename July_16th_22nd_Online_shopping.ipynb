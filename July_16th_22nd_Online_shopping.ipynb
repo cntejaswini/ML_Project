{
  "cells": [
    {
      "cell_type": "code",
      "execution_count": 1,
      "id": "b1b4a0c4",
      "metadata": {
        "id": "b1b4a0c4"
      },
      "outputs": [],
      "source": [
        "# July 16th  Online shopping\n",
        "\n"
      ]
    },
    {
      "cell_type": "markdown",
      "id": "90ea7eaf",
      "metadata": {
        "id": "90ea7eaf"
      },
      "source": [
        "#### problem statements\n",
        "(1)customer Segmentation (clustering) on the basis of their buying patter (Recency,Frequency,Monetary)\n",
        "(2)Identify the business trend- Day,Month,Season,Time by Invoice count.\n"
      ]
    },
    {
      "cell_type": "code",
      "execution_count": 2,
      "id": "17856941",
      "metadata": {
        "id": "17856941"
      },
      "outputs": [],
      "source": [
        "import pandas as pd\n",
        "import numpy as np\n",
        "import matplotlib.pyplot as plt\n",
        "import seaborn as sns\n",
        "import warnings\n",
        "from sklearn.model_selection import train_test_split\n",
        "warnings.filterwarnings(\"ignore\")"
      ]
    },
    {
      "cell_type": "code",
      "execution_count": 3,
      "id": "e60941a6",
      "metadata": {
        "id": "e60941a6"
      },
      "outputs": [],
      "source": [
        "import sqlite3\n",
        "import pandas as pd\n",
        "\n",
        "# Connect to SQLite3 database\n",
        "conn = sqlite3.connect('shopping.db')\n",
        "\n",
        "# Write your SQL query to fetch data from the database\n",
        "sql_query = \"\"\"\n",
        "SELECT * FROM shopping;\n",
        "\"\"\"\n",
        "\n",
        "# Execute the SQL query and fetch data into a Pandas DataFrame\n",
        "data = pd.read_sql_query(sql_query, conn)\n",
        "\n",
        "# Close the connection to the database\n",
        "conn.close()\n"
      ]
    },
    {
      "cell_type": "code",
      "execution_count": 4,
      "id": "b4c43672",
      "metadata": {
        "id": "b4c43672",
        "outputId": "5535e08d-fca5-451a-dc8d-4b6d80fbbfa3"
      },
      "outputs": [
        {
          "name": "stdout",
          "output_type": "stream",
          "text": [
            "Train set shape: (433527, 9)\n",
            "Test set shape: (108382, 9)\n",
            "       InvoiceNo StockCode lower                       Description  Quantity  \\\n",
            "209268    555200     71459  None    HANGING JAM JAR T-LIGHT HOLDER        24   \n",
            "207108    554974     21128  None                GOLD FISHING GNOME         4   \n",
            "167085    550972     21086  None       SET/6 RED SPOTTY PAPER CUPS         4   \n",
            "471836    576652     22812  None  PACK 3 BOXES CHRISTMAS PANETTONE         3   \n",
            "115865    546157     22180  None                    RETROSPOT LAMP         2   \n",
            "\n",
            "           InvoiceDate  UnitPrice  CustomerID         Country  \n",
            "209268    6/1/11 12:05       0.85     17315.0  United Kingdom  \n",
            "207108   5/27/11 17:14       6.95     14031.0  United Kingdom  \n",
            "167085   4/21/11 17:05       0.65     14031.0  United Kingdom  \n",
            "471836  11/16/11 10:39       1.95     17198.0  United Kingdom  \n",
            "115865    3/10/11 8:40       9.95     13502.0  United Kingdom  \n"
          ]
        }
      ],
      "source": [
        "df=data.copy()\n",
        "df.head()\n",
        "\n",
        "train_df, test_df = train_test_split(df, test_size=0.2, random_state=42)\n",
        "\n",
        "# Display the shapes of the train and test sets\n",
        "print(\"Train set shape:\", train_df.shape)\n",
        "print(\"Test set shape:\", test_df.shape)\n",
        "print(test_df.head())"
      ]
    },
    {
      "cell_type": "code",
      "execution_count": 5,
      "id": "d8310ef0",
      "metadata": {
        "id": "d8310ef0",
        "outputId": "2de7b39e-302f-461f-e00b-36e622d4cfcb"
      },
      "outputs": [
        {
          "name": "stdout",
          "output_type": "stream",
          "text": [
            "<class 'pandas.core.frame.DataFrame'>\n",
            "RangeIndex: 541909 entries, 0 to 541908\n",
            "Data columns (total 9 columns):\n",
            " #   Column       Non-Null Count   Dtype  \n",
            "---  ------       --------------   -----  \n",
            " 0   InvoiceNo    541909 non-null  object \n",
            " 1   StockCode    541909 non-null  object \n",
            " 2   lower        1816 non-null    object \n",
            " 3   Description  540455 non-null  object \n",
            " 4   Quantity     541909 non-null  int64  \n",
            " 5   InvoiceDate  541909 non-null  object \n",
            " 6   UnitPrice    541909 non-null  float64\n",
            " 7   CustomerID   406829 non-null  float64\n",
            " 8   Country      541909 non-null  object \n",
            "dtypes: float64(2), int64(1), object(6)\n",
            "memory usage: 37.2+ MB\n"
          ]
        }
      ],
      "source": [
        "df.info()"
      ]
    },
    {
      "cell_type": "code",
      "execution_count": 6,
      "id": "64221e33",
      "metadata": {
        "id": "64221e33"
      },
      "outputs": [],
      "source": [
        "# to solve the first problem --- clustering on basis of R F M\n",
        "# we drop the unwanted columns"
      ]
    },
    {
      "cell_type": "code",
      "execution_count": 7,
      "id": "e300aba4",
      "metadata": {
        "id": "e300aba4"
      },
      "outputs": [],
      "source": [
        "df1=df.drop([\"StockCode\",\"lower\",\"Description\",\"Country\"],axis=1)"
      ]
    },
    {
      "cell_type": "code",
      "execution_count": 8,
      "id": "d6b2b757",
      "metadata": {
        "id": "d6b2b757",
        "outputId": "2dcd76f2-4c93-4b40-de05-6ee04bfb8cfc"
      },
      "outputs": [
        {
          "data": {
            "text/html": [
              "<div>\n",
              "<style scoped>\n",
              "    .dataframe tbody tr th:only-of-type {\n",
              "        vertical-align: middle;\n",
              "    }\n",
              "\n",
              "    .dataframe tbody tr th {\n",
              "        vertical-align: top;\n",
              "    }\n",
              "\n",
              "    .dataframe thead th {\n",
              "        text-align: right;\n",
              "    }\n",
              "</style>\n",
              "<table border=\"1\" class=\"dataframe\">\n",
              "  <thead>\n",
              "    <tr style=\"text-align: right;\">\n",
              "      <th></th>\n",
              "      <th>InvoiceNo</th>\n",
              "      <th>Quantity</th>\n",
              "      <th>InvoiceDate</th>\n",
              "      <th>UnitPrice</th>\n",
              "      <th>CustomerID</th>\n",
              "    </tr>\n",
              "  </thead>\n",
              "  <tbody>\n",
              "    <tr>\n",
              "      <th>0</th>\n",
              "      <td>536365</td>\n",
              "      <td>6</td>\n",
              "      <td>12/1/10 8:26</td>\n",
              "      <td>2.55</td>\n",
              "      <td>17850.0</td>\n",
              "    </tr>\n",
              "    <tr>\n",
              "      <th>1</th>\n",
              "      <td>536365</td>\n",
              "      <td>6</td>\n",
              "      <td>12/1/10 8:26</td>\n",
              "      <td>3.39</td>\n",
              "      <td>17850.0</td>\n",
              "    </tr>\n",
              "    <tr>\n",
              "      <th>2</th>\n",
              "      <td>536365</td>\n",
              "      <td>8</td>\n",
              "      <td>12/1/10 8:26</td>\n",
              "      <td>2.75</td>\n",
              "      <td>17850.0</td>\n",
              "    </tr>\n",
              "    <tr>\n",
              "      <th>3</th>\n",
              "      <td>536365</td>\n",
              "      <td>6</td>\n",
              "      <td>12/1/10 8:26</td>\n",
              "      <td>3.39</td>\n",
              "      <td>17850.0</td>\n",
              "    </tr>\n",
              "    <tr>\n",
              "      <th>4</th>\n",
              "      <td>536365</td>\n",
              "      <td>6</td>\n",
              "      <td>12/1/10 8:26</td>\n",
              "      <td>3.39</td>\n",
              "      <td>17850.0</td>\n",
              "    </tr>\n",
              "  </tbody>\n",
              "</table>\n",
              "</div>"
            ],
            "text/plain": [
              "  InvoiceNo  Quantity   InvoiceDate  UnitPrice  CustomerID\n",
              "0    536365         6  12/1/10 8:26       2.55     17850.0\n",
              "1    536365         6  12/1/10 8:26       3.39     17850.0\n",
              "2    536365         8  12/1/10 8:26       2.75     17850.0\n",
              "3    536365         6  12/1/10 8:26       3.39     17850.0\n",
              "4    536365         6  12/1/10 8:26       3.39     17850.0"
            ]
          },
          "execution_count": 8,
          "metadata": {},
          "output_type": "execute_result"
        }
      ],
      "source": [
        "df1.head()"
      ]
    },
    {
      "cell_type": "code",
      "execution_count": 9,
      "id": "2d9fd5b7",
      "metadata": {
        "id": "2d9fd5b7",
        "outputId": "c5c503ae-4032-4496-ec12-4adfaaefc5a0"
      },
      "outputs": [
        {
          "data": {
            "text/plain": [
              "InvoiceNo           0\n",
              "Quantity            0\n",
              "InvoiceDate         0\n",
              "UnitPrice           0\n",
              "CustomerID     135080\n",
              "dtype: int64"
            ]
          },
          "execution_count": 9,
          "metadata": {},
          "output_type": "execute_result"
        }
      ],
      "source": [
        "df1.isnull().sum()"
      ]
    },
    {
      "cell_type": "code",
      "execution_count": 10,
      "id": "ecb86b9e",
      "metadata": {
        "id": "ecb86b9e"
      },
      "outputs": [],
      "source": [
        "# as we are working on customer clustering  we can not impute customer id , if it is not there."
      ]
    },
    {
      "cell_type": "code",
      "execution_count": 11,
      "id": "91100685",
      "metadata": {
        "id": "91100685"
      },
      "outputs": [],
      "source": [
        "df1.dropna(axis=0,inplace=True)"
      ]
    },
    {
      "cell_type": "code",
      "execution_count": 12,
      "id": "973d13d5",
      "metadata": {
        "id": "973d13d5",
        "outputId": "345851bc-566d-41c3-cd37-7f4c31496606"
      },
      "outputs": [
        {
          "data": {
            "text/plain": [
              "InvoiceNo      0\n",
              "Quantity       0\n",
              "InvoiceDate    0\n",
              "UnitPrice      0\n",
              "CustomerID     0\n",
              "dtype: int64"
            ]
          },
          "execution_count": 12,
          "metadata": {},
          "output_type": "execute_result"
        }
      ],
      "source": [
        "df1.isnull().sum()"
      ]
    },
    {
      "cell_type": "code",
      "execution_count": 13,
      "id": "8c537f9a",
      "metadata": {
        "id": "8c537f9a",
        "outputId": "1e6c7666-7461-48a3-d4bc-d07f53d6c644"
      },
      "outputs": [
        {
          "data": {
            "text/html": [
              "<div>\n",
              "<style scoped>\n",
              "    .dataframe tbody tr th:only-of-type {\n",
              "        vertical-align: middle;\n",
              "    }\n",
              "\n",
              "    .dataframe tbody tr th {\n",
              "        vertical-align: top;\n",
              "    }\n",
              "\n",
              "    .dataframe thead th {\n",
              "        text-align: right;\n",
              "    }\n",
              "</style>\n",
              "<table border=\"1\" class=\"dataframe\">\n",
              "  <thead>\n",
              "    <tr style=\"text-align: right;\">\n",
              "      <th></th>\n",
              "      <th>Quantity</th>\n",
              "      <th>UnitPrice</th>\n",
              "      <th>CustomerID</th>\n",
              "    </tr>\n",
              "  </thead>\n",
              "  <tbody>\n",
              "    <tr>\n",
              "      <th>count</th>\n",
              "      <td>406829.000000</td>\n",
              "      <td>406829.000000</td>\n",
              "      <td>406829.000000</td>\n",
              "    </tr>\n",
              "    <tr>\n",
              "      <th>mean</th>\n",
              "      <td>12.061303</td>\n",
              "      <td>3.460471</td>\n",
              "      <td>15287.690570</td>\n",
              "    </tr>\n",
              "    <tr>\n",
              "      <th>std</th>\n",
              "      <td>248.693370</td>\n",
              "      <td>69.315162</td>\n",
              "      <td>1713.600303</td>\n",
              "    </tr>\n",
              "    <tr>\n",
              "      <th>min</th>\n",
              "      <td>-80995.000000</td>\n",
              "      <td>0.000000</td>\n",
              "      <td>12346.000000</td>\n",
              "    </tr>\n",
              "    <tr>\n",
              "      <th>25%</th>\n",
              "      <td>2.000000</td>\n",
              "      <td>1.250000</td>\n",
              "      <td>13953.000000</td>\n",
              "    </tr>\n",
              "    <tr>\n",
              "      <th>50%</th>\n",
              "      <td>5.000000</td>\n",
              "      <td>1.950000</td>\n",
              "      <td>15152.000000</td>\n",
              "    </tr>\n",
              "    <tr>\n",
              "      <th>75%</th>\n",
              "      <td>12.000000</td>\n",
              "      <td>3.750000</td>\n",
              "      <td>16791.000000</td>\n",
              "    </tr>\n",
              "    <tr>\n",
              "      <th>max</th>\n",
              "      <td>80995.000000</td>\n",
              "      <td>38970.000000</td>\n",
              "      <td>18287.000000</td>\n",
              "    </tr>\n",
              "  </tbody>\n",
              "</table>\n",
              "</div>"
            ],
            "text/plain": [
              "            Quantity      UnitPrice     CustomerID\n",
              "count  406829.000000  406829.000000  406829.000000\n",
              "mean       12.061303       3.460471   15287.690570\n",
              "std       248.693370      69.315162    1713.600303\n",
              "min    -80995.000000       0.000000   12346.000000\n",
              "25%         2.000000       1.250000   13953.000000\n",
              "50%         5.000000       1.950000   15152.000000\n",
              "75%        12.000000       3.750000   16791.000000\n",
              "max     80995.000000   38970.000000   18287.000000"
            ]
          },
          "execution_count": 13,
          "metadata": {},
          "output_type": "execute_result"
        }
      ],
      "source": [
        "df1.describe()"
      ]
    },
    {
      "cell_type": "code",
      "execution_count": 14,
      "id": "ddf0aedb",
      "metadata": {
        "id": "ddf0aedb",
        "outputId": "5bf7f2b8-1066-4d44-db46-9ab8ec41e8af"
      },
      "outputs": [
        {
          "data": {
            "text/html": [
              "<div>\n",
              "<style scoped>\n",
              "    .dataframe tbody tr th:only-of-type {\n",
              "        vertical-align: middle;\n",
              "    }\n",
              "\n",
              "    .dataframe tbody tr th {\n",
              "        vertical-align: top;\n",
              "    }\n",
              "\n",
              "    .dataframe thead th {\n",
              "        text-align: right;\n",
              "    }\n",
              "</style>\n",
              "<table border=\"1\" class=\"dataframe\">\n",
              "  <thead>\n",
              "    <tr style=\"text-align: right;\">\n",
              "      <th></th>\n",
              "      <th>count</th>\n",
              "      <th>mean</th>\n",
              "      <th>std</th>\n",
              "      <th>min</th>\n",
              "      <th>25%</th>\n",
              "      <th>50%</th>\n",
              "      <th>75%</th>\n",
              "      <th>max</th>\n",
              "    </tr>\n",
              "  </thead>\n",
              "  <tbody>\n",
              "    <tr>\n",
              "      <th>Quantity</th>\n",
              "      <td>406829.0</td>\n",
              "      <td>12.061303</td>\n",
              "      <td>248.693370</td>\n",
              "      <td>-80995.0</td>\n",
              "      <td>2.00</td>\n",
              "      <td>5.00</td>\n",
              "      <td>12.00</td>\n",
              "      <td>80995.0</td>\n",
              "    </tr>\n",
              "    <tr>\n",
              "      <th>UnitPrice</th>\n",
              "      <td>406829.0</td>\n",
              "      <td>3.460471</td>\n",
              "      <td>69.315162</td>\n",
              "      <td>0.0</td>\n",
              "      <td>1.25</td>\n",
              "      <td>1.95</td>\n",
              "      <td>3.75</td>\n",
              "      <td>38970.0</td>\n",
              "    </tr>\n",
              "    <tr>\n",
              "      <th>CustomerID</th>\n",
              "      <td>406829.0</td>\n",
              "      <td>15287.690570</td>\n",
              "      <td>1713.600303</td>\n",
              "      <td>12346.0</td>\n",
              "      <td>13953.00</td>\n",
              "      <td>15152.00</td>\n",
              "      <td>16791.00</td>\n",
              "      <td>18287.0</td>\n",
              "    </tr>\n",
              "  </tbody>\n",
              "</table>\n",
              "</div>"
            ],
            "text/plain": [
              "               count          mean          std      min       25%       50%  \\\n",
              "Quantity    406829.0     12.061303   248.693370 -80995.0      2.00      5.00   \n",
              "UnitPrice   406829.0      3.460471    69.315162      0.0      1.25      1.95   \n",
              "CustomerID  406829.0  15287.690570  1713.600303  12346.0  13953.00  15152.00   \n",
              "\n",
              "                 75%      max  \n",
              "Quantity       12.00  80995.0  \n",
              "UnitPrice       3.75  38970.0  \n",
              "CustomerID  16791.00  18287.0  "
            ]
          },
          "execution_count": 14,
          "metadata": {},
          "output_type": "execute_result"
        }
      ],
      "source": [
        "df1.describe().T"
      ]
    },
    {
      "cell_type": "code",
      "execution_count": 15,
      "id": "716bf2a2",
      "metadata": {
        "id": "716bf2a2"
      },
      "outputs": [],
      "source": [
        "# The quantity is -ve bcoz of return or defective item\n",
        "# Unit price can be zero becoz of some offer"
      ]
    },
    {
      "cell_type": "code",
      "execution_count": 16,
      "id": "f1aba3e0",
      "metadata": {
        "id": "f1aba3e0",
        "outputId": "8018d080-1323-4264-fc73-76eba5a67f0d"
      },
      "outputs": [
        {
          "data": {
            "text/plain": [
              "40"
            ]
          },
          "execution_count": 16,
          "metadata": {},
          "output_type": "execute_result"
        }
      ],
      "source": [
        "df1[df1[\"UnitPrice\"]==0][\"UnitPrice\"].count()"
      ]
    },
    {
      "cell_type": "code",
      "execution_count": 17,
      "id": "fb3aaafd",
      "metadata": {
        "id": "fb3aaafd",
        "outputId": "7a57cf14-712c-4145-b6c8-24f1348ee5c8"
      },
      "outputs": [
        {
          "data": {
            "text/html": [
              "<div>\n",
              "<style scoped>\n",
              "    .dataframe tbody tr th:only-of-type {\n",
              "        vertical-align: middle;\n",
              "    }\n",
              "\n",
              "    .dataframe tbody tr th {\n",
              "        vertical-align: top;\n",
              "    }\n",
              "\n",
              "    .dataframe thead th {\n",
              "        text-align: right;\n",
              "    }\n",
              "</style>\n",
              "<table border=\"1\" class=\"dataframe\">\n",
              "  <thead>\n",
              "    <tr style=\"text-align: right;\">\n",
              "      <th></th>\n",
              "      <th>InvoiceNo</th>\n",
              "      <th>Quantity</th>\n",
              "      <th>InvoiceDate</th>\n",
              "      <th>UnitPrice</th>\n",
              "      <th>CustomerID</th>\n",
              "    </tr>\n",
              "  </thead>\n",
              "  <tbody>\n",
              "    <tr>\n",
              "      <th>9302</th>\n",
              "      <td>537197</td>\n",
              "      <td>1</td>\n",
              "      <td>12/5/10 14:02</td>\n",
              "      <td>0.0</td>\n",
              "      <td>12647.0</td>\n",
              "    </tr>\n",
              "    <tr>\n",
              "      <th>33576</th>\n",
              "      <td>539263</td>\n",
              "      <td>4</td>\n",
              "      <td>12/16/10 14:36</td>\n",
              "      <td>0.0</td>\n",
              "      <td>16560.0</td>\n",
              "    </tr>\n",
              "    <tr>\n",
              "      <th>40089</th>\n",
              "      <td>539722</td>\n",
              "      <td>10</td>\n",
              "      <td>12/21/10 13:45</td>\n",
              "      <td>0.0</td>\n",
              "      <td>14911.0</td>\n",
              "    </tr>\n",
              "    <tr>\n",
              "      <th>47068</th>\n",
              "      <td>540372</td>\n",
              "      <td>24</td>\n",
              "      <td>1/6/11 16:41</td>\n",
              "      <td>0.0</td>\n",
              "      <td>13081.0</td>\n",
              "    </tr>\n",
              "    <tr>\n",
              "      <th>47070</th>\n",
              "      <td>540372</td>\n",
              "      <td>24</td>\n",
              "      <td>1/6/11 16:41</td>\n",
              "      <td>0.0</td>\n",
              "      <td>13081.0</td>\n",
              "    </tr>\n",
              "    <tr>\n",
              "      <th>56674</th>\n",
              "      <td>541109</td>\n",
              "      <td>1</td>\n",
              "      <td>1/13/11 15:10</td>\n",
              "      <td>0.0</td>\n",
              "      <td>15107.0</td>\n",
              "    </tr>\n",
              "    <tr>\n",
              "      <th>86789</th>\n",
              "      <td>543599</td>\n",
              "      <td>16</td>\n",
              "      <td>2/10/11 13:08</td>\n",
              "      <td>0.0</td>\n",
              "      <td>17560.0</td>\n",
              "    </tr>\n",
              "    <tr>\n",
              "      <th>130188</th>\n",
              "      <td>547417</td>\n",
              "      <td>36</td>\n",
              "      <td>3/23/11 10:25</td>\n",
              "      <td>0.0</td>\n",
              "      <td>13239.0</td>\n",
              "    </tr>\n",
              "    <tr>\n",
              "      <th>139453</th>\n",
              "      <td>548318</td>\n",
              "      <td>5</td>\n",
              "      <td>3/30/11 12:45</td>\n",
              "      <td>0.0</td>\n",
              "      <td>13113.0</td>\n",
              "    </tr>\n",
              "    <tr>\n",
              "      <th>145208</th>\n",
              "      <td>548871</td>\n",
              "      <td>2</td>\n",
              "      <td>4/4/11 14:42</td>\n",
              "      <td>0.0</td>\n",
              "      <td>14410.0</td>\n",
              "    </tr>\n",
              "    <tr>\n",
              "      <th>157042</th>\n",
              "      <td>550188</td>\n",
              "      <td>1</td>\n",
              "      <td>4/14/11 18:57</td>\n",
              "      <td>0.0</td>\n",
              "      <td>12457.0</td>\n",
              "    </tr>\n",
              "    <tr>\n",
              "      <th>187613</th>\n",
              "      <td>553000</td>\n",
              "      <td>4</td>\n",
              "      <td>5/12/11 15:21</td>\n",
              "      <td>0.0</td>\n",
              "      <td>17667.0</td>\n",
              "    </tr>\n",
              "    <tr>\n",
              "      <th>198383</th>\n",
              "      <td>554037</td>\n",
              "      <td>80</td>\n",
              "      <td>5/20/11 14:13</td>\n",
              "      <td>0.0</td>\n",
              "      <td>12415.0</td>\n",
              "    </tr>\n",
              "    <tr>\n",
              "      <th>279324</th>\n",
              "      <td>561284</td>\n",
              "      <td>1</td>\n",
              "      <td>7/26/11 12:24</td>\n",
              "      <td>0.0</td>\n",
              "      <td>16818.0</td>\n",
              "    </tr>\n",
              "    <tr>\n",
              "      <th>282912</th>\n",
              "      <td>561669</td>\n",
              "      <td>11</td>\n",
              "      <td>7/28/11 17:09</td>\n",
              "      <td>0.0</td>\n",
              "      <td>12507.0</td>\n",
              "    </tr>\n",
              "    <tr>\n",
              "      <th>285657</th>\n",
              "      <td>561916</td>\n",
              "      <td>1</td>\n",
              "      <td>8/1/11 11:44</td>\n",
              "      <td>0.0</td>\n",
              "      <td>15581.0</td>\n",
              "    </tr>\n",
              "    <tr>\n",
              "      <th>298054</th>\n",
              "      <td>562973</td>\n",
              "      <td>240</td>\n",
              "      <td>8/11/11 11:42</td>\n",
              "      <td>0.0</td>\n",
              "      <td>14911.0</td>\n",
              "    </tr>\n",
              "    <tr>\n",
              "      <th>314745</th>\n",
              "      <td>564651</td>\n",
              "      <td>96</td>\n",
              "      <td>8/26/11 14:19</td>\n",
              "      <td>0.0</td>\n",
              "      <td>14646.0</td>\n",
              "    </tr>\n",
              "    <tr>\n",
              "      <th>314746</th>\n",
              "      <td>564651</td>\n",
              "      <td>192</td>\n",
              "      <td>8/26/11 14:19</td>\n",
              "      <td>0.0</td>\n",
              "      <td>14646.0</td>\n",
              "    </tr>\n",
              "    <tr>\n",
              "      <th>314747</th>\n",
              "      <td>564651</td>\n",
              "      <td>144</td>\n",
              "      <td>8/26/11 14:19</td>\n",
              "      <td>0.0</td>\n",
              "      <td>14646.0</td>\n",
              "    </tr>\n",
              "  </tbody>\n",
              "</table>\n",
              "</div>"
            ],
            "text/plain": [
              "       InvoiceNo  Quantity     InvoiceDate  UnitPrice  CustomerID\n",
              "9302      537197         1   12/5/10 14:02        0.0     12647.0\n",
              "33576     539263         4  12/16/10 14:36        0.0     16560.0\n",
              "40089     539722        10  12/21/10 13:45        0.0     14911.0\n",
              "47068     540372        24    1/6/11 16:41        0.0     13081.0\n",
              "47070     540372        24    1/6/11 16:41        0.0     13081.0\n",
              "56674     541109         1   1/13/11 15:10        0.0     15107.0\n",
              "86789     543599        16   2/10/11 13:08        0.0     17560.0\n",
              "130188    547417        36   3/23/11 10:25        0.0     13239.0\n",
              "139453    548318         5   3/30/11 12:45        0.0     13113.0\n",
              "145208    548871         2    4/4/11 14:42        0.0     14410.0\n",
              "157042    550188         1   4/14/11 18:57        0.0     12457.0\n",
              "187613    553000         4   5/12/11 15:21        0.0     17667.0\n",
              "198383    554037        80   5/20/11 14:13        0.0     12415.0\n",
              "279324    561284         1   7/26/11 12:24        0.0     16818.0\n",
              "282912    561669        11   7/28/11 17:09        0.0     12507.0\n",
              "285657    561916         1    8/1/11 11:44        0.0     15581.0\n",
              "298054    562973       240   8/11/11 11:42        0.0     14911.0\n",
              "314745    564651        96   8/26/11 14:19        0.0     14646.0\n",
              "314746    564651       192   8/26/11 14:19        0.0     14646.0\n",
              "314747    564651       144   8/26/11 14:19        0.0     14646.0"
            ]
          },
          "execution_count": 17,
          "metadata": {},
          "output_type": "execute_result"
        }
      ],
      "source": [
        "df1[df1[\"UnitPrice\"]==0].head(20)"
      ]
    },
    {
      "cell_type": "code",
      "execution_count": 18,
      "id": "8fee6908",
      "metadata": {
        "id": "8fee6908"
      },
      "outputs": [],
      "source": [
        "# we want to continue with only those observation having +ve quantity"
      ]
    },
    {
      "cell_type": "code",
      "execution_count": 19,
      "id": "7cea76bb",
      "metadata": {
        "id": "7cea76bb"
      },
      "outputs": [],
      "source": [
        "df1=df1[df1[\"Quantity\"]>0]"
      ]
    },
    {
      "cell_type": "code",
      "execution_count": 20,
      "id": "59c61dff",
      "metadata": {
        "id": "59c61dff",
        "outputId": "f5a17dd5-fe38-41c5-d2b7-d8d54be18804"
      },
      "outputs": [
        {
          "data": {
            "text/html": [
              "<div>\n",
              "<style scoped>\n",
              "    .dataframe tbody tr th:only-of-type {\n",
              "        vertical-align: middle;\n",
              "    }\n",
              "\n",
              "    .dataframe tbody tr th {\n",
              "        vertical-align: top;\n",
              "    }\n",
              "\n",
              "    .dataframe thead th {\n",
              "        text-align: right;\n",
              "    }\n",
              "</style>\n",
              "<table border=\"1\" class=\"dataframe\">\n",
              "  <thead>\n",
              "    <tr style=\"text-align: right;\">\n",
              "      <th></th>\n",
              "      <th>count</th>\n",
              "      <th>mean</th>\n",
              "      <th>std</th>\n",
              "      <th>min</th>\n",
              "      <th>25%</th>\n",
              "      <th>50%</th>\n",
              "      <th>75%</th>\n",
              "      <th>max</th>\n",
              "    </tr>\n",
              "  </thead>\n",
              "  <tbody>\n",
              "    <tr>\n",
              "      <th>Quantity</th>\n",
              "      <td>397924.0</td>\n",
              "      <td>13.021823</td>\n",
              "      <td>180.420210</td>\n",
              "      <td>1.0</td>\n",
              "      <td>2.00</td>\n",
              "      <td>6.00</td>\n",
              "      <td>12.00</td>\n",
              "      <td>80995.00</td>\n",
              "    </tr>\n",
              "    <tr>\n",
              "      <th>UnitPrice</th>\n",
              "      <td>397924.0</td>\n",
              "      <td>3.116174</td>\n",
              "      <td>22.096788</td>\n",
              "      <td>0.0</td>\n",
              "      <td>1.25</td>\n",
              "      <td>1.95</td>\n",
              "      <td>3.75</td>\n",
              "      <td>8142.75</td>\n",
              "    </tr>\n",
              "    <tr>\n",
              "      <th>CustomerID</th>\n",
              "      <td>397924.0</td>\n",
              "      <td>15294.315171</td>\n",
              "      <td>1713.169877</td>\n",
              "      <td>12346.0</td>\n",
              "      <td>13969.00</td>\n",
              "      <td>15159.00</td>\n",
              "      <td>16795.00</td>\n",
              "      <td>18287.00</td>\n",
              "    </tr>\n",
              "  </tbody>\n",
              "</table>\n",
              "</div>"
            ],
            "text/plain": [
              "               count          mean          std      min       25%       50%  \\\n",
              "Quantity    397924.0     13.021823   180.420210      1.0      2.00      6.00   \n",
              "UnitPrice   397924.0      3.116174    22.096788      0.0      1.25      1.95   \n",
              "CustomerID  397924.0  15294.315171  1713.169877  12346.0  13969.00  15159.00   \n",
              "\n",
              "                 75%       max  \n",
              "Quantity       12.00  80995.00  \n",
              "UnitPrice       3.75   8142.75  \n",
              "CustomerID  16795.00  18287.00  "
            ]
          },
          "execution_count": 20,
          "metadata": {},
          "output_type": "execute_result"
        }
      ],
      "source": [
        "df1.describe().T"
      ]
    },
    {
      "cell_type": "code",
      "execution_count": 21,
      "id": "221b6364",
      "metadata": {
        "id": "221b6364",
        "outputId": "ff4041a9-5c14-4fb2-9cbd-9b056c927a73"
      },
      "outputs": [
        {
          "data": {
            "text/html": [
              "<div>\n",
              "<style scoped>\n",
              "    .dataframe tbody tr th:only-of-type {\n",
              "        vertical-align: middle;\n",
              "    }\n",
              "\n",
              "    .dataframe tbody tr th {\n",
              "        vertical-align: top;\n",
              "    }\n",
              "\n",
              "    .dataframe thead th {\n",
              "        text-align: right;\n",
              "    }\n",
              "</style>\n",
              "<table border=\"1\" class=\"dataframe\">\n",
              "  <thead>\n",
              "    <tr style=\"text-align: right;\">\n",
              "      <th></th>\n",
              "      <th>InvoiceNo</th>\n",
              "      <th>Quantity</th>\n",
              "      <th>InvoiceDate</th>\n",
              "      <th>UnitPrice</th>\n",
              "      <th>CustomerID</th>\n",
              "    </tr>\n",
              "  </thead>\n",
              "  <tbody>\n",
              "    <tr>\n",
              "      <th>0</th>\n",
              "      <td>536365</td>\n",
              "      <td>6</td>\n",
              "      <td>12/1/10 8:26</td>\n",
              "      <td>2.55</td>\n",
              "      <td>17850.0</td>\n",
              "    </tr>\n",
              "    <tr>\n",
              "      <th>1</th>\n",
              "      <td>536365</td>\n",
              "      <td>6</td>\n",
              "      <td>12/1/10 8:26</td>\n",
              "      <td>3.39</td>\n",
              "      <td>17850.0</td>\n",
              "    </tr>\n",
              "    <tr>\n",
              "      <th>2</th>\n",
              "      <td>536365</td>\n",
              "      <td>8</td>\n",
              "      <td>12/1/10 8:26</td>\n",
              "      <td>2.75</td>\n",
              "      <td>17850.0</td>\n",
              "    </tr>\n",
              "    <tr>\n",
              "      <th>3</th>\n",
              "      <td>536365</td>\n",
              "      <td>6</td>\n",
              "      <td>12/1/10 8:26</td>\n",
              "      <td>3.39</td>\n",
              "      <td>17850.0</td>\n",
              "    </tr>\n",
              "    <tr>\n",
              "      <th>4</th>\n",
              "      <td>536365</td>\n",
              "      <td>6</td>\n",
              "      <td>12/1/10 8:26</td>\n",
              "      <td>3.39</td>\n",
              "      <td>17850.0</td>\n",
              "    </tr>\n",
              "  </tbody>\n",
              "</table>\n",
              "</div>"
            ],
            "text/plain": [
              "  InvoiceNo  Quantity   InvoiceDate  UnitPrice  CustomerID\n",
              "0    536365         6  12/1/10 8:26       2.55     17850.0\n",
              "1    536365         6  12/1/10 8:26       3.39     17850.0\n",
              "2    536365         8  12/1/10 8:26       2.75     17850.0\n",
              "3    536365         6  12/1/10 8:26       3.39     17850.0\n",
              "4    536365         6  12/1/10 8:26       3.39     17850.0"
            ]
          },
          "execution_count": 21,
          "metadata": {},
          "output_type": "execute_result"
        }
      ],
      "source": [
        "df1.head()"
      ]
    },
    {
      "cell_type": "code",
      "execution_count": 22,
      "id": "5a7f086c",
      "metadata": {
        "id": "5a7f086c"
      },
      "outputs": [],
      "source": [
        "df1[\"Total\"]=df1[\"Quantity\"]*df1[\"UnitPrice\"]"
      ]
    },
    {
      "cell_type": "code",
      "execution_count": 23,
      "id": "e8913f74",
      "metadata": {
        "id": "e8913f74",
        "outputId": "57711b45-d81a-4bc6-e82e-bfdab29d2057"
      },
      "outputs": [
        {
          "data": {
            "text/html": [
              "<div>\n",
              "<style scoped>\n",
              "    .dataframe tbody tr th:only-of-type {\n",
              "        vertical-align: middle;\n",
              "    }\n",
              "\n",
              "    .dataframe tbody tr th {\n",
              "        vertical-align: top;\n",
              "    }\n",
              "\n",
              "    .dataframe thead th {\n",
              "        text-align: right;\n",
              "    }\n",
              "</style>\n",
              "<table border=\"1\" class=\"dataframe\">\n",
              "  <thead>\n",
              "    <tr style=\"text-align: right;\">\n",
              "      <th></th>\n",
              "      <th>InvoiceNo</th>\n",
              "      <th>Quantity</th>\n",
              "      <th>InvoiceDate</th>\n",
              "      <th>UnitPrice</th>\n",
              "      <th>CustomerID</th>\n",
              "      <th>Total</th>\n",
              "    </tr>\n",
              "  </thead>\n",
              "  <tbody>\n",
              "    <tr>\n",
              "      <th>0</th>\n",
              "      <td>536365</td>\n",
              "      <td>6</td>\n",
              "      <td>12/1/10 8:26</td>\n",
              "      <td>2.55</td>\n",
              "      <td>17850.0</td>\n",
              "      <td>15.30</td>\n",
              "    </tr>\n",
              "    <tr>\n",
              "      <th>1</th>\n",
              "      <td>536365</td>\n",
              "      <td>6</td>\n",
              "      <td>12/1/10 8:26</td>\n",
              "      <td>3.39</td>\n",
              "      <td>17850.0</td>\n",
              "      <td>20.34</td>\n",
              "    </tr>\n",
              "    <tr>\n",
              "      <th>2</th>\n",
              "      <td>536365</td>\n",
              "      <td>8</td>\n",
              "      <td>12/1/10 8:26</td>\n",
              "      <td>2.75</td>\n",
              "      <td>17850.0</td>\n",
              "      <td>22.00</td>\n",
              "    </tr>\n",
              "    <tr>\n",
              "      <th>3</th>\n",
              "      <td>536365</td>\n",
              "      <td>6</td>\n",
              "      <td>12/1/10 8:26</td>\n",
              "      <td>3.39</td>\n",
              "      <td>17850.0</td>\n",
              "      <td>20.34</td>\n",
              "    </tr>\n",
              "    <tr>\n",
              "      <th>4</th>\n",
              "      <td>536365</td>\n",
              "      <td>6</td>\n",
              "      <td>12/1/10 8:26</td>\n",
              "      <td>3.39</td>\n",
              "      <td>17850.0</td>\n",
              "      <td>20.34</td>\n",
              "    </tr>\n",
              "  </tbody>\n",
              "</table>\n",
              "</div>"
            ],
            "text/plain": [
              "  InvoiceNo  Quantity   InvoiceDate  UnitPrice  CustomerID  Total\n",
              "0    536365         6  12/1/10 8:26       2.55     17850.0  15.30\n",
              "1    536365         6  12/1/10 8:26       3.39     17850.0  20.34\n",
              "2    536365         8  12/1/10 8:26       2.75     17850.0  22.00\n",
              "3    536365         6  12/1/10 8:26       3.39     17850.0  20.34\n",
              "4    536365         6  12/1/10 8:26       3.39     17850.0  20.34"
            ]
          },
          "execution_count": 23,
          "metadata": {},
          "output_type": "execute_result"
        }
      ],
      "source": [
        "df1.head()"
      ]
    },
    {
      "cell_type": "code",
      "execution_count": 24,
      "id": "85a5d012",
      "metadata": {
        "id": "85a5d012"
      },
      "outputs": [],
      "source": [
        "# drop the column Quantity  Unit price"
      ]
    },
    {
      "cell_type": "code",
      "execution_count": 25,
      "id": "24e1a008",
      "metadata": {
        "id": "24e1a008"
      },
      "outputs": [],
      "source": [
        "df2=df1.drop([\"Quantity\",\"UnitPrice\"],axis=1)"
      ]
    },
    {
      "cell_type": "code",
      "execution_count": 26,
      "id": "7afa011b",
      "metadata": {
        "id": "7afa011b",
        "outputId": "e4f4d285-f73d-467f-9d97-c5f959ea2b16"
      },
      "outputs": [
        {
          "data": {
            "text/html": [
              "<div>\n",
              "<style scoped>\n",
              "    .dataframe tbody tr th:only-of-type {\n",
              "        vertical-align: middle;\n",
              "    }\n",
              "\n",
              "    .dataframe tbody tr th {\n",
              "        vertical-align: top;\n",
              "    }\n",
              "\n",
              "    .dataframe thead th {\n",
              "        text-align: right;\n",
              "    }\n",
              "</style>\n",
              "<table border=\"1\" class=\"dataframe\">\n",
              "  <thead>\n",
              "    <tr style=\"text-align: right;\">\n",
              "      <th></th>\n",
              "      <th>InvoiceNo</th>\n",
              "      <th>InvoiceDate</th>\n",
              "      <th>CustomerID</th>\n",
              "      <th>Total</th>\n",
              "    </tr>\n",
              "  </thead>\n",
              "  <tbody>\n",
              "    <tr>\n",
              "      <th>0</th>\n",
              "      <td>536365</td>\n",
              "      <td>12/1/10 8:26</td>\n",
              "      <td>17850.0</td>\n",
              "      <td>15.30</td>\n",
              "    </tr>\n",
              "    <tr>\n",
              "      <th>1</th>\n",
              "      <td>536365</td>\n",
              "      <td>12/1/10 8:26</td>\n",
              "      <td>17850.0</td>\n",
              "      <td>20.34</td>\n",
              "    </tr>\n",
              "    <tr>\n",
              "      <th>2</th>\n",
              "      <td>536365</td>\n",
              "      <td>12/1/10 8:26</td>\n",
              "      <td>17850.0</td>\n",
              "      <td>22.00</td>\n",
              "    </tr>\n",
              "    <tr>\n",
              "      <th>3</th>\n",
              "      <td>536365</td>\n",
              "      <td>12/1/10 8:26</td>\n",
              "      <td>17850.0</td>\n",
              "      <td>20.34</td>\n",
              "    </tr>\n",
              "    <tr>\n",
              "      <th>4</th>\n",
              "      <td>536365</td>\n",
              "      <td>12/1/10 8:26</td>\n",
              "      <td>17850.0</td>\n",
              "      <td>20.34</td>\n",
              "    </tr>\n",
              "    <tr>\n",
              "      <th>...</th>\n",
              "      <td>...</td>\n",
              "      <td>...</td>\n",
              "      <td>...</td>\n",
              "      <td>...</td>\n",
              "    </tr>\n",
              "    <tr>\n",
              "      <th>95</th>\n",
              "      <td>536378</td>\n",
              "      <td>12/1/10 9:37</td>\n",
              "      <td>14688.0</td>\n",
              "      <td>15.30</td>\n",
              "    </tr>\n",
              "    <tr>\n",
              "      <th>96</th>\n",
              "      <td>536378</td>\n",
              "      <td>12/1/10 9:37</td>\n",
              "      <td>14688.0</td>\n",
              "      <td>50.40</td>\n",
              "    </tr>\n",
              "    <tr>\n",
              "      <th>97</th>\n",
              "      <td>536378</td>\n",
              "      <td>12/1/10 9:37</td>\n",
              "      <td>14688.0</td>\n",
              "      <td>13.20</td>\n",
              "    </tr>\n",
              "    <tr>\n",
              "      <th>98</th>\n",
              "      <td>536378</td>\n",
              "      <td>12/1/10 9:37</td>\n",
              "      <td>14688.0</td>\n",
              "      <td>13.20</td>\n",
              "    </tr>\n",
              "    <tr>\n",
              "      <th>99</th>\n",
              "      <td>536378</td>\n",
              "      <td>12/1/10 9:37</td>\n",
              "      <td>14688.0</td>\n",
              "      <td>13.20</td>\n",
              "    </tr>\n",
              "  </tbody>\n",
              "</table>\n",
              "<p>100 rows × 4 columns</p>\n",
              "</div>"
            ],
            "text/plain": [
              "   InvoiceNo   InvoiceDate  CustomerID  Total\n",
              "0     536365  12/1/10 8:26     17850.0  15.30\n",
              "1     536365  12/1/10 8:26     17850.0  20.34\n",
              "2     536365  12/1/10 8:26     17850.0  22.00\n",
              "3     536365  12/1/10 8:26     17850.0  20.34\n",
              "4     536365  12/1/10 8:26     17850.0  20.34\n",
              "..       ...           ...         ...    ...\n",
              "95    536378  12/1/10 9:37     14688.0  15.30\n",
              "96    536378  12/1/10 9:37     14688.0  50.40\n",
              "97    536378  12/1/10 9:37     14688.0  13.20\n",
              "98    536378  12/1/10 9:37     14688.0  13.20\n",
              "99    536378  12/1/10 9:37     14688.0  13.20\n",
              "\n",
              "[100 rows x 4 columns]"
            ]
          },
          "execution_count": 26,
          "metadata": {},
          "output_type": "execute_result"
        }
      ],
      "source": [
        "df2.head(100)"
      ]
    },
    {
      "cell_type": "code",
      "execution_count": 27,
      "id": "15660c59",
      "metadata": {
        "id": "15660c59"
      },
      "outputs": [],
      "source": [
        "# groupby approach - to generate the final invoice"
      ]
    },
    {
      "cell_type": "code",
      "execution_count": 28,
      "id": "dee86046",
      "metadata": {
        "id": "dee86046"
      },
      "outputs": [],
      "source": [
        "df_final=df2.groupby([\"InvoiceNo\",\"InvoiceDate\",\"CustomerID\"]).agg({\"Total\":\"sum\"}).reset_index()"
      ]
    },
    {
      "cell_type": "code",
      "execution_count": 29,
      "id": "ea6f255e",
      "metadata": {
        "id": "ea6f255e",
        "outputId": "90df4a2d-5034-4f3b-8922-416379cbd267"
      },
      "outputs": [
        {
          "data": {
            "text/html": [
              "<div>\n",
              "<style scoped>\n",
              "    .dataframe tbody tr th:only-of-type {\n",
              "        vertical-align: middle;\n",
              "    }\n",
              "\n",
              "    .dataframe tbody tr th {\n",
              "        vertical-align: top;\n",
              "    }\n",
              "\n",
              "    .dataframe thead th {\n",
              "        text-align: right;\n",
              "    }\n",
              "</style>\n",
              "<table border=\"1\" class=\"dataframe\">\n",
              "  <thead>\n",
              "    <tr style=\"text-align: right;\">\n",
              "      <th></th>\n",
              "      <th>InvoiceNo</th>\n",
              "      <th>InvoiceDate</th>\n",
              "      <th>CustomerID</th>\n",
              "      <th>Total</th>\n",
              "    </tr>\n",
              "  </thead>\n",
              "  <tbody>\n",
              "    <tr>\n",
              "      <th>0</th>\n",
              "      <td>536365</td>\n",
              "      <td>12/1/10 8:26</td>\n",
              "      <td>17850.0</td>\n",
              "      <td>139.12</td>\n",
              "    </tr>\n",
              "    <tr>\n",
              "      <th>1</th>\n",
              "      <td>536366</td>\n",
              "      <td>12/1/10 8:28</td>\n",
              "      <td>17850.0</td>\n",
              "      <td>22.20</td>\n",
              "    </tr>\n",
              "    <tr>\n",
              "      <th>2</th>\n",
              "      <td>536367</td>\n",
              "      <td>12/1/10 8:34</td>\n",
              "      <td>13047.0</td>\n",
              "      <td>278.73</td>\n",
              "    </tr>\n",
              "    <tr>\n",
              "      <th>3</th>\n",
              "      <td>536368</td>\n",
              "      <td>12/1/10 8:34</td>\n",
              "      <td>13047.0</td>\n",
              "      <td>70.05</td>\n",
              "    </tr>\n",
              "    <tr>\n",
              "      <th>4</th>\n",
              "      <td>536369</td>\n",
              "      <td>12/1/10 8:35</td>\n",
              "      <td>13047.0</td>\n",
              "      <td>17.85</td>\n",
              "    </tr>\n",
              "    <tr>\n",
              "      <th>...</th>\n",
              "      <td>...</td>\n",
              "      <td>...</td>\n",
              "      <td>...</td>\n",
              "      <td>...</td>\n",
              "    </tr>\n",
              "    <tr>\n",
              "      <th>18561</th>\n",
              "      <td>581583</td>\n",
              "      <td>12/9/11 12:23</td>\n",
              "      <td>13777.0</td>\n",
              "      <td>124.60</td>\n",
              "    </tr>\n",
              "    <tr>\n",
              "      <th>18562</th>\n",
              "      <td>581584</td>\n",
              "      <td>12/9/11 12:25</td>\n",
              "      <td>13777.0</td>\n",
              "      <td>140.64</td>\n",
              "    </tr>\n",
              "    <tr>\n",
              "      <th>18563</th>\n",
              "      <td>581585</td>\n",
              "      <td>12/9/11 12:31</td>\n",
              "      <td>15804.0</td>\n",
              "      <td>329.05</td>\n",
              "    </tr>\n",
              "    <tr>\n",
              "      <th>18564</th>\n",
              "      <td>581586</td>\n",
              "      <td>12/9/11 12:49</td>\n",
              "      <td>13113.0</td>\n",
              "      <td>339.20</td>\n",
              "    </tr>\n",
              "    <tr>\n",
              "      <th>18565</th>\n",
              "      <td>581587</td>\n",
              "      <td>12/9/11 12:50</td>\n",
              "      <td>12680.0</td>\n",
              "      <td>249.45</td>\n",
              "    </tr>\n",
              "  </tbody>\n",
              "</table>\n",
              "<p>18566 rows × 4 columns</p>\n",
              "</div>"
            ],
            "text/plain": [
              "       InvoiceNo    InvoiceDate  CustomerID   Total\n",
              "0         536365   12/1/10 8:26     17850.0  139.12\n",
              "1         536366   12/1/10 8:28     17850.0   22.20\n",
              "2         536367   12/1/10 8:34     13047.0  278.73\n",
              "3         536368   12/1/10 8:34     13047.0   70.05\n",
              "4         536369   12/1/10 8:35     13047.0   17.85\n",
              "...          ...            ...         ...     ...\n",
              "18561     581583  12/9/11 12:23     13777.0  124.60\n",
              "18562     581584  12/9/11 12:25     13777.0  140.64\n",
              "18563     581585  12/9/11 12:31     15804.0  329.05\n",
              "18564     581586  12/9/11 12:49     13113.0  339.20\n",
              "18565     581587  12/9/11 12:50     12680.0  249.45\n",
              "\n",
              "[18566 rows x 4 columns]"
            ]
          },
          "execution_count": 29,
          "metadata": {},
          "output_type": "execute_result"
        }
      ],
      "source": [
        "df_final"
      ]
    },
    {
      "cell_type": "markdown",
      "id": "4c60d0fb",
      "metadata": {
        "id": "4c60d0fb"
      },
      "source": [
        "#### now we want to calculate Recency, Frequency,Monetary\n",
        "Recency=(last business date as per record)- last purchse date(of a particular customer)\n",
        "Frequency= counting of different  invoice no. w.r.to a particular customer\n",
        "Monetary=Summation of Total w.r.to a particular customer"
      ]
    },
    {
      "cell_type": "code",
      "execution_count": 30,
      "id": "0ab4e06b",
      "metadata": {
        "id": "0ab4e06b"
      },
      "outputs": [],
      "source": [
        "# we will use groupby -- keeping customer_id as reference"
      ]
    },
    {
      "cell_type": "code",
      "execution_count": 31,
      "id": "bcf39382",
      "metadata": {
        "id": "bcf39382"
      },
      "outputs": [],
      "source": [
        "# calcualte the last business date as per dataset"
      ]
    },
    {
      "cell_type": "code",
      "execution_count": 32,
      "id": "fca03f99",
      "metadata": {
        "id": "fca03f99",
        "outputId": "bc6925d9-bcef-4374-d49b-8eb29b66c081"
      },
      "outputs": [
        {
          "data": {
            "text/plain": [
              "'9/9/11 9:52'"
            ]
          },
          "execution_count": 32,
          "metadata": {},
          "output_type": "execute_result"
        }
      ],
      "source": [
        "max(df_final[\"InvoiceDate\"])"
      ]
    },
    {
      "cell_type": "code",
      "execution_count": 33,
      "id": "60882f37",
      "metadata": {
        "id": "60882f37",
        "outputId": "af277407-8ad2-4c7e-e4eb-357e32772cf3"
      },
      "outputs": [
        {
          "data": {
            "text/plain": [
              "'1/10/11 10:32'"
            ]
          },
          "execution_count": 33,
          "metadata": {},
          "output_type": "execute_result"
        }
      ],
      "source": [
        "min(df_final[\"InvoiceDate\"])"
      ]
    },
    {
      "cell_type": "code",
      "execution_count": 34,
      "id": "63e37a31",
      "metadata": {
        "id": "63e37a31"
      },
      "outputs": [],
      "source": [
        "#last business date as per dataset=2011-12-09 12:50:00\n",
        "# we have 12 month of data(approx)"
      ]
    },
    {
      "cell_type": "code",
      "execution_count": 35,
      "id": "ec953ba8",
      "metadata": {
        "id": "ec953ba8"
      },
      "outputs": [],
      "source": [
        "# basically we want the recency in days -- not in hour, minutes etc"
      ]
    },
    {
      "cell_type": "markdown",
      "id": "2f578d9f",
      "metadata": {
        "id": "2f578d9f"
      },
      "source": [
        "latest_data or last date of business-- if we add 1 day extra the recency will be only in days .\n",
        "not in hour or minutes"
      ]
    },
    {
      "cell_type": "code",
      "execution_count": 36,
      "id": "81b7536a",
      "metadata": {
        "id": "81b7536a",
        "outputId": "3a90c05e-6b5a-42eb-c2c5-46a21a8f76fb"
      },
      "outputs": [
        {
          "data": {
            "text/plain": [
              "datetime.datetime(2011, 12, 10, 0, 0)"
            ]
          },
          "execution_count": 36,
          "metadata": {},
          "output_type": "execute_result"
        }
      ],
      "source": [
        "import datetime as dt\n",
        "latest_date=dt.datetime(2011,12,10)\n",
        "latest_date"
      ]
    },
    {
      "cell_type": "code",
      "execution_count": 37,
      "id": "92322e53",
      "metadata": {
        "id": "92322e53",
        "outputId": "38489277-9e15-4d86-8a2f-c3a7dad7110c"
      },
      "outputs": [
        {
          "data": {
            "text/html": [
              "<div>\n",
              "<style scoped>\n",
              "    .dataframe tbody tr th:only-of-type {\n",
              "        vertical-align: middle;\n",
              "    }\n",
              "\n",
              "    .dataframe tbody tr th {\n",
              "        vertical-align: top;\n",
              "    }\n",
              "\n",
              "    .dataframe thead th {\n",
              "        text-align: right;\n",
              "    }\n",
              "</style>\n",
              "<table border=\"1\" class=\"dataframe\">\n",
              "  <thead>\n",
              "    <tr style=\"text-align: right;\">\n",
              "      <th></th>\n",
              "      <th>InvoiceNo</th>\n",
              "      <th>InvoiceDate</th>\n",
              "      <th>CustomerID</th>\n",
              "      <th>Total</th>\n",
              "    </tr>\n",
              "  </thead>\n",
              "  <tbody>\n",
              "    <tr>\n",
              "      <th>0</th>\n",
              "      <td>536365</td>\n",
              "      <td>12/1/10 8:26</td>\n",
              "      <td>17850.0</td>\n",
              "      <td>139.12</td>\n",
              "    </tr>\n",
              "    <tr>\n",
              "      <th>1</th>\n",
              "      <td>536366</td>\n",
              "      <td>12/1/10 8:28</td>\n",
              "      <td>17850.0</td>\n",
              "      <td>22.20</td>\n",
              "    </tr>\n",
              "    <tr>\n",
              "      <th>2</th>\n",
              "      <td>536367</td>\n",
              "      <td>12/1/10 8:34</td>\n",
              "      <td>13047.0</td>\n",
              "      <td>278.73</td>\n",
              "    </tr>\n",
              "    <tr>\n",
              "      <th>3</th>\n",
              "      <td>536368</td>\n",
              "      <td>12/1/10 8:34</td>\n",
              "      <td>13047.0</td>\n",
              "      <td>70.05</td>\n",
              "    </tr>\n",
              "    <tr>\n",
              "      <th>4</th>\n",
              "      <td>536369</td>\n",
              "      <td>12/1/10 8:35</td>\n",
              "      <td>13047.0</td>\n",
              "      <td>17.85</td>\n",
              "    </tr>\n",
              "  </tbody>\n",
              "</table>\n",
              "</div>"
            ],
            "text/plain": [
              "   InvoiceNo   InvoiceDate  CustomerID   Total\n",
              "0     536365  12/1/10 8:26     17850.0  139.12\n",
              "1     536366  12/1/10 8:28     17850.0   22.20\n",
              "2     536367  12/1/10 8:34     13047.0  278.73\n",
              "3     536368  12/1/10 8:34     13047.0   70.05\n",
              "4     536369  12/1/10 8:35     13047.0   17.85"
            ]
          },
          "execution_count": 37,
          "metadata": {},
          "output_type": "execute_result"
        }
      ],
      "source": [
        "df_final.head()"
      ]
    },
    {
      "cell_type": "code",
      "execution_count": 38,
      "id": "7d4c63ac",
      "metadata": {
        "id": "7d4c63ac"
      },
      "outputs": [],
      "source": [
        "# we will use groupby -- keeping customer_id as reference"
      ]
    },
    {
      "cell_type": "code",
      "execution_count": 39,
      "id": "eb2bb4eb",
      "metadata": {
        "id": "eb2bb4eb"
      },
      "outputs": [],
      "source": [
        "\"\"\"RFM_score=df_final.groupby(\"CustomerID\").agg({\"InvoiceDate\":lambda x:(latest_date-x.max()).days,\n",
        "                                             \"InvoiceNo\":lambda x:x.count(),\n",
        "                                             \"Total\":lambda x:x.sum()}).reset_index()\"\"\"\n",
        "\n",
        "\n",
        "# Convert 'InvoiceDate' column to datetime\n",
        "df_final['InvoiceDate'] = pd.to_datetime(df_final['InvoiceDate'])\n",
        "\n",
        "# Calculate RFM scores\n",
        "RFM_score = df_final.groupby(\"CustomerID\").agg({\n",
        "    \"InvoiceDate\": lambda x: (latest_date - x.max()).days,\n",
        "    \"InvoiceNo\": lambda x: x.count(),\n",
        "    \"Total\": lambda x: x.sum()\n",
        "}).reset_index()\n"
      ]
    },
    {
      "cell_type": "code",
      "execution_count": 40,
      "id": "a9805ab8",
      "metadata": {
        "id": "a9805ab8",
        "outputId": "91515504-5039-4990-f713-2425e0a53269"
      },
      "outputs": [
        {
          "data": {
            "text/html": [
              "<div>\n",
              "<style scoped>\n",
              "    .dataframe tbody tr th:only-of-type {\n",
              "        vertical-align: middle;\n",
              "    }\n",
              "\n",
              "    .dataframe tbody tr th {\n",
              "        vertical-align: top;\n",
              "    }\n",
              "\n",
              "    .dataframe thead th {\n",
              "        text-align: right;\n",
              "    }\n",
              "</style>\n",
              "<table border=\"1\" class=\"dataframe\">\n",
              "  <thead>\n",
              "    <tr style=\"text-align: right;\">\n",
              "      <th></th>\n",
              "      <th>CustomerID</th>\n",
              "      <th>InvoiceDate</th>\n",
              "      <th>InvoiceNo</th>\n",
              "      <th>Total</th>\n",
              "    </tr>\n",
              "  </thead>\n",
              "  <tbody>\n",
              "    <tr>\n",
              "      <th>0</th>\n",
              "      <td>12346.0</td>\n",
              "      <td>325</td>\n",
              "      <td>1</td>\n",
              "      <td>77183.60</td>\n",
              "    </tr>\n",
              "    <tr>\n",
              "      <th>1</th>\n",
              "      <td>12347.0</td>\n",
              "      <td>2</td>\n",
              "      <td>7</td>\n",
              "      <td>4310.00</td>\n",
              "    </tr>\n",
              "    <tr>\n",
              "      <th>2</th>\n",
              "      <td>12348.0</td>\n",
              "      <td>75</td>\n",
              "      <td>4</td>\n",
              "      <td>1797.24</td>\n",
              "    </tr>\n",
              "    <tr>\n",
              "      <th>3</th>\n",
              "      <td>12349.0</td>\n",
              "      <td>18</td>\n",
              "      <td>1</td>\n",
              "      <td>1757.55</td>\n",
              "    </tr>\n",
              "    <tr>\n",
              "      <th>4</th>\n",
              "      <td>12350.0</td>\n",
              "      <td>310</td>\n",
              "      <td>1</td>\n",
              "      <td>334.40</td>\n",
              "    </tr>\n",
              "  </tbody>\n",
              "</table>\n",
              "</div>"
            ],
            "text/plain": [
              "   CustomerID  InvoiceDate  InvoiceNo     Total\n",
              "0     12346.0          325          1  77183.60\n",
              "1     12347.0            2          7   4310.00\n",
              "2     12348.0           75          4   1797.24\n",
              "3     12349.0           18          1   1757.55\n",
              "4     12350.0          310          1    334.40"
            ]
          },
          "execution_count": 40,
          "metadata": {},
          "output_type": "execute_result"
        }
      ],
      "source": [
        "RFM_score.head()"
      ]
    },
    {
      "cell_type": "code",
      "execution_count": 41,
      "id": "5adb6024",
      "metadata": {
        "id": "5adb6024"
      },
      "outputs": [],
      "source": [
        "# lets rename it as per the actual calculation"
      ]
    },
    {
      "cell_type": "code",
      "execution_count": 42,
      "id": "cde41913",
      "metadata": {
        "id": "cde41913"
      },
      "outputs": [],
      "source": [
        "RFM_score=RFM_score.rename(columns={\"InvoiceDate\":\"Recency\",\"InvoiceNo\":\"Frequency\",\"Total\":\"Monetary\"})"
      ]
    },
    {
      "cell_type": "code",
      "execution_count": 43,
      "id": "e863aaca",
      "metadata": {
        "id": "e863aaca",
        "outputId": "1f0f47f2-fb56-4bb1-a65b-455dd0a6838c"
      },
      "outputs": [
        {
          "data": {
            "text/html": [
              "<div>\n",
              "<style scoped>\n",
              "    .dataframe tbody tr th:only-of-type {\n",
              "        vertical-align: middle;\n",
              "    }\n",
              "\n",
              "    .dataframe tbody tr th {\n",
              "        vertical-align: top;\n",
              "    }\n",
              "\n",
              "    .dataframe thead th {\n",
              "        text-align: right;\n",
              "    }\n",
              "</style>\n",
              "<table border=\"1\" class=\"dataframe\">\n",
              "  <thead>\n",
              "    <tr style=\"text-align: right;\">\n",
              "      <th></th>\n",
              "      <th>CustomerID</th>\n",
              "      <th>Recency</th>\n",
              "      <th>Frequency</th>\n",
              "      <th>Monetary</th>\n",
              "    </tr>\n",
              "  </thead>\n",
              "  <tbody>\n",
              "    <tr>\n",
              "      <th>0</th>\n",
              "      <td>12346.0</td>\n",
              "      <td>325</td>\n",
              "      <td>1</td>\n",
              "      <td>77183.60</td>\n",
              "    </tr>\n",
              "    <tr>\n",
              "      <th>1</th>\n",
              "      <td>12347.0</td>\n",
              "      <td>2</td>\n",
              "      <td>7</td>\n",
              "      <td>4310.00</td>\n",
              "    </tr>\n",
              "    <tr>\n",
              "      <th>2</th>\n",
              "      <td>12348.0</td>\n",
              "      <td>75</td>\n",
              "      <td>4</td>\n",
              "      <td>1797.24</td>\n",
              "    </tr>\n",
              "    <tr>\n",
              "      <th>3</th>\n",
              "      <td>12349.0</td>\n",
              "      <td>18</td>\n",
              "      <td>1</td>\n",
              "      <td>1757.55</td>\n",
              "    </tr>\n",
              "    <tr>\n",
              "      <th>4</th>\n",
              "      <td>12350.0</td>\n",
              "      <td>310</td>\n",
              "      <td>1</td>\n",
              "      <td>334.40</td>\n",
              "    </tr>\n",
              "  </tbody>\n",
              "</table>\n",
              "</div>"
            ],
            "text/plain": [
              "   CustomerID  Recency  Frequency  Monetary\n",
              "0     12346.0      325          1  77183.60\n",
              "1     12347.0        2          7   4310.00\n",
              "2     12348.0       75          4   1797.24\n",
              "3     12349.0       18          1   1757.55\n",
              "4     12350.0      310          1    334.40"
            ]
          },
          "execution_count": 43,
          "metadata": {},
          "output_type": "execute_result"
        }
      ],
      "source": [
        "RFM_score.head()"
      ]
    },
    {
      "cell_type": "code",
      "execution_count": 44,
      "id": "7d72eaf2",
      "metadata": {
        "id": "7d72eaf2",
        "outputId": "44ab9e7d-7630-4a25-d6a0-e55d207ed603"
      },
      "outputs": [
        {
          "data": {
            "text/plain": [
              "(4339, 4)"
            ]
          },
          "execution_count": 44,
          "metadata": {},
          "output_type": "execute_result"
        }
      ],
      "source": [
        "RFM_score.shape"
      ]
    },
    {
      "cell_type": "code",
      "execution_count": 45,
      "id": "ee5f45e2",
      "metadata": {
        "id": "ee5f45e2"
      },
      "outputs": [],
      "source": [
        "# lest find the marks on the basis of ranking in individual R F M"
      ]
    },
    {
      "cell_type": "code",
      "execution_count": 46,
      "id": "5d646329",
      "metadata": {
        "id": "5d646329",
        "outputId": "7fe8e4f6-4529-40cb-e382-183a794d25b5"
      },
      "outputs": [
        {
          "data": {
            "text/plain": [
              "0        162.5\n",
              "1       4156.5\n",
              "2       1646.0\n",
              "3       3209.5\n",
              "4        227.5\n",
              "         ...  \n",
              "4334     355.0\n",
              "4335     860.0\n",
              "4336    3839.5\n",
              "4337    4064.5\n",
              "4338    2357.0\n",
              "Name: R_marks, Length: 4339, dtype: float64"
            ]
          },
          "execution_count": 46,
          "metadata": {},
          "output_type": "execute_result"
        }
      ],
      "source": [
        "RFM_score[\"R_marks\"]=RFM_score[\"Recency\"].rank(ascending=False)\n",
        "RFM_score[\"R_marks\"]"
      ]
    },
    {
      "cell_type": "code",
      "execution_count": 47,
      "id": "d4abe482",
      "metadata": {
        "id": "d4abe482"
      },
      "outputs": [],
      "source": [
        "# Frequency marks with respect to rank"
      ]
    },
    {
      "cell_type": "code",
      "execution_count": 48,
      "id": "298b55dc",
      "metadata": {
        "id": "298b55dc",
        "outputId": "545fe944-8507-4783-f7b8-45f66f1beb20"
      },
      "outputs": [
        {
          "data": {
            "text/plain": [
              "0        746.5\n",
              "1       3709.5\n",
              "2       3028.0\n",
              "3        746.5\n",
              "4        746.5\n",
              "         ...  \n",
              "4334     746.5\n",
              "4335     746.5\n",
              "4336    1910.5\n",
              "4337    4182.5\n",
              "4338    2581.5\n",
              "Name: F_marks, Length: 4339, dtype: float64"
            ]
          },
          "execution_count": 48,
          "metadata": {},
          "output_type": "execute_result"
        }
      ],
      "source": [
        "RFM_score[\"F_marks\"]=RFM_score[\"Frequency\"].rank(ascending=True)\n",
        "RFM_score[\"F_marks\"]"
      ]
    },
    {
      "cell_type": "code",
      "execution_count": 49,
      "id": "8c645395",
      "metadata": {
        "id": "8c645395"
      },
      "outputs": [],
      "source": [
        "# Monetary marks with respect to rank"
      ]
    },
    {
      "cell_type": "code",
      "execution_count": 50,
      "id": "5d4c023e",
      "metadata": {
        "id": "5d4c023e",
        "outputId": "c5f6fc6b-86d9-4268-f1f1-561d89f610a4"
      },
      "outputs": [
        {
          "data": {
            "text/plain": [
              "0       4330.0\n",
              "1       4004.0\n",
              "2       3334.0\n",
              "3       3306.0\n",
              "4       1230.0\n",
              "         ...  \n",
              "4334     564.0\n",
              "4335     105.0\n",
              "4336     547.0\n",
              "4337    3489.0\n",
              "4338    3357.0\n",
              "Name: M_marks, Length: 4339, dtype: float64"
            ]
          },
          "execution_count": 50,
          "metadata": {},
          "output_type": "execute_result"
        }
      ],
      "source": [
        "RFM_score[\"M_marks\"]=RFM_score[\"Monetary\"].rank(ascending=True)\n",
        "RFM_score[\"M_marks\"]"
      ]
    },
    {
      "cell_type": "code",
      "execution_count": 51,
      "id": "929fbbcd",
      "metadata": {
        "id": "929fbbcd"
      },
      "outputs": [],
      "source": [
        "RFM=RFM_score.copy()"
      ]
    },
    {
      "cell_type": "code",
      "execution_count": 52,
      "id": "07be63b3",
      "metadata": {
        "id": "07be63b3",
        "outputId": "ae351c01-feaa-4c6e-fdf8-733edb69427e"
      },
      "outputs": [
        {
          "data": {
            "text/html": [
              "<div>\n",
              "<style scoped>\n",
              "    .dataframe tbody tr th:only-of-type {\n",
              "        vertical-align: middle;\n",
              "    }\n",
              "\n",
              "    .dataframe tbody tr th {\n",
              "        vertical-align: top;\n",
              "    }\n",
              "\n",
              "    .dataframe thead th {\n",
              "        text-align: right;\n",
              "    }\n",
              "</style>\n",
              "<table border=\"1\" class=\"dataframe\">\n",
              "  <thead>\n",
              "    <tr style=\"text-align: right;\">\n",
              "      <th></th>\n",
              "      <th>CustomerID</th>\n",
              "      <th>Recency</th>\n",
              "      <th>Frequency</th>\n",
              "      <th>Monetary</th>\n",
              "      <th>R_marks</th>\n",
              "      <th>F_marks</th>\n",
              "      <th>M_marks</th>\n",
              "    </tr>\n",
              "  </thead>\n",
              "  <tbody>\n",
              "    <tr>\n",
              "      <th>0</th>\n",
              "      <td>12346.0</td>\n",
              "      <td>325</td>\n",
              "      <td>1</td>\n",
              "      <td>77183.60</td>\n",
              "      <td>162.5</td>\n",
              "      <td>746.5</td>\n",
              "      <td>4330.0</td>\n",
              "    </tr>\n",
              "    <tr>\n",
              "      <th>1</th>\n",
              "      <td>12347.0</td>\n",
              "      <td>2</td>\n",
              "      <td>7</td>\n",
              "      <td>4310.00</td>\n",
              "      <td>4156.5</td>\n",
              "      <td>3709.5</td>\n",
              "      <td>4004.0</td>\n",
              "    </tr>\n",
              "    <tr>\n",
              "      <th>2</th>\n",
              "      <td>12348.0</td>\n",
              "      <td>75</td>\n",
              "      <td>4</td>\n",
              "      <td>1797.24</td>\n",
              "      <td>1646.0</td>\n",
              "      <td>3028.0</td>\n",
              "      <td>3334.0</td>\n",
              "    </tr>\n",
              "    <tr>\n",
              "      <th>3</th>\n",
              "      <td>12349.0</td>\n",
              "      <td>18</td>\n",
              "      <td>1</td>\n",
              "      <td>1757.55</td>\n",
              "      <td>3209.5</td>\n",
              "      <td>746.5</td>\n",
              "      <td>3306.0</td>\n",
              "    </tr>\n",
              "    <tr>\n",
              "      <th>4</th>\n",
              "      <td>12350.0</td>\n",
              "      <td>310</td>\n",
              "      <td>1</td>\n",
              "      <td>334.40</td>\n",
              "      <td>227.5</td>\n",
              "      <td>746.5</td>\n",
              "      <td>1230.0</td>\n",
              "    </tr>\n",
              "  </tbody>\n",
              "</table>\n",
              "</div>"
            ],
            "text/plain": [
              "   CustomerID  Recency  Frequency  Monetary  R_marks  F_marks  M_marks\n",
              "0     12346.0      325          1  77183.60    162.5    746.5   4330.0\n",
              "1     12347.0        2          7   4310.00   4156.5   3709.5   4004.0\n",
              "2     12348.0       75          4   1797.24   1646.0   3028.0   3334.0\n",
              "3     12349.0       18          1   1757.55   3209.5    746.5   3306.0\n",
              "4     12350.0      310          1    334.40    227.5    746.5   1230.0"
            ]
          },
          "execution_count": 52,
          "metadata": {},
          "output_type": "execute_result"
        }
      ],
      "source": [
        "RFM.head()"
      ]
    },
    {
      "cell_type": "code",
      "execution_count": 53,
      "id": "f0e27ba2",
      "metadata": {
        "id": "f0e27ba2"
      },
      "outputs": [],
      "source": [
        "# lets convert the marks with respect to 100 marks"
      ]
    },
    {
      "cell_type": "code",
      "execution_count": 54,
      "id": "109fb372",
      "metadata": {
        "id": "109fb372"
      },
      "outputs": [],
      "source": [
        "RFM[\"R_final\"]=(RFM[\"R_marks\"]/RFM[\"R_marks\"].max())*100"
      ]
    },
    {
      "cell_type": "code",
      "execution_count": 55,
      "id": "7f9229a2",
      "metadata": {
        "id": "7f9229a2",
        "outputId": "b3ddab82-0230-4650-bd16-5109f596f780"
      },
      "outputs": [
        {
          "data": {
            "text/html": [
              "<div>\n",
              "<style scoped>\n",
              "    .dataframe tbody tr th:only-of-type {\n",
              "        vertical-align: middle;\n",
              "    }\n",
              "\n",
              "    .dataframe tbody tr th {\n",
              "        vertical-align: top;\n",
              "    }\n",
              "\n",
              "    .dataframe thead th {\n",
              "        text-align: right;\n",
              "    }\n",
              "</style>\n",
              "<table border=\"1\" class=\"dataframe\">\n",
              "  <thead>\n",
              "    <tr style=\"text-align: right;\">\n",
              "      <th></th>\n",
              "      <th>CustomerID</th>\n",
              "      <th>Recency</th>\n",
              "      <th>Frequency</th>\n",
              "      <th>Monetary</th>\n",
              "      <th>R_marks</th>\n",
              "      <th>F_marks</th>\n",
              "      <th>M_marks</th>\n",
              "      <th>R_final</th>\n",
              "    </tr>\n",
              "  </thead>\n",
              "  <tbody>\n",
              "    <tr>\n",
              "      <th>0</th>\n",
              "      <td>12346.0</td>\n",
              "      <td>325</td>\n",
              "      <td>1</td>\n",
              "      <td>77183.60</td>\n",
              "      <td>162.5</td>\n",
              "      <td>746.5</td>\n",
              "      <td>4330.0</td>\n",
              "      <td>3.759833</td>\n",
              "    </tr>\n",
              "    <tr>\n",
              "      <th>1</th>\n",
              "      <td>12347.0</td>\n",
              "      <td>2</td>\n",
              "      <td>7</td>\n",
              "      <td>4310.00</td>\n",
              "      <td>4156.5</td>\n",
              "      <td>3709.5</td>\n",
              "      <td>4004.0</td>\n",
              "      <td>96.170754</td>\n",
              "    </tr>\n",
              "    <tr>\n",
              "      <th>2</th>\n",
              "      <td>12348.0</td>\n",
              "      <td>75</td>\n",
              "      <td>4</td>\n",
              "      <td>1797.24</td>\n",
              "      <td>1646.0</td>\n",
              "      <td>3028.0</td>\n",
              "      <td>3334.0</td>\n",
              "      <td>38.084220</td>\n",
              "    </tr>\n",
              "    <tr>\n",
              "      <th>3</th>\n",
              "      <td>12349.0</td>\n",
              "      <td>18</td>\n",
              "      <td>1</td>\n",
              "      <td>1757.55</td>\n",
              "      <td>3209.5</td>\n",
              "      <td>746.5</td>\n",
              "      <td>3306.0</td>\n",
              "      <td>74.259602</td>\n",
              "    </tr>\n",
              "    <tr>\n",
              "      <th>4</th>\n",
              "      <td>12350.0</td>\n",
              "      <td>310</td>\n",
              "      <td>1</td>\n",
              "      <td>334.40</td>\n",
              "      <td>227.5</td>\n",
              "      <td>746.5</td>\n",
              "      <td>1230.0</td>\n",
              "      <td>5.263767</td>\n",
              "    </tr>\n",
              "  </tbody>\n",
              "</table>\n",
              "</div>"
            ],
            "text/plain": [
              "   CustomerID  Recency  Frequency  Monetary  R_marks  F_marks  M_marks  \\\n",
              "0     12346.0      325          1  77183.60    162.5    746.5   4330.0   \n",
              "1     12347.0        2          7   4310.00   4156.5   3709.5   4004.0   \n",
              "2     12348.0       75          4   1797.24   1646.0   3028.0   3334.0   \n",
              "3     12349.0       18          1   1757.55   3209.5    746.5   3306.0   \n",
              "4     12350.0      310          1    334.40    227.5    746.5   1230.0   \n",
              "\n",
              "     R_final  \n",
              "0   3.759833  \n",
              "1  96.170754  \n",
              "2  38.084220  \n",
              "3  74.259602  \n",
              "4   5.263767  "
            ]
          },
          "execution_count": 55,
          "metadata": {},
          "output_type": "execute_result"
        }
      ],
      "source": [
        "RFM.head()"
      ]
    },
    {
      "cell_type": "code",
      "execution_count": 56,
      "id": "97a04d6a",
      "metadata": {
        "id": "97a04d6a"
      },
      "outputs": [],
      "source": [
        "RFM[\"F_final\"]=(RFM[\"F_marks\"]/RFM[\"F_marks\"].max())*100"
      ]
    },
    {
      "cell_type": "code",
      "execution_count": 57,
      "id": "c56ce209",
      "metadata": {
        "id": "c56ce209"
      },
      "outputs": [],
      "source": [
        "RFM[\"M_final\"]=(RFM[\"M_marks\"]/RFM[\"M_marks\"].max())*100"
      ]
    },
    {
      "cell_type": "code",
      "execution_count": 58,
      "id": "fe3e9d1c",
      "metadata": {
        "id": "fe3e9d1c",
        "outputId": "224c4f79-c877-4ca2-b968-380712d080d6"
      },
      "outputs": [
        {
          "data": {
            "text/html": [
              "<div>\n",
              "<style scoped>\n",
              "    .dataframe tbody tr th:only-of-type {\n",
              "        vertical-align: middle;\n",
              "    }\n",
              "\n",
              "    .dataframe tbody tr th {\n",
              "        vertical-align: top;\n",
              "    }\n",
              "\n",
              "    .dataframe thead th {\n",
              "        text-align: right;\n",
              "    }\n",
              "</style>\n",
              "<table border=\"1\" class=\"dataframe\">\n",
              "  <thead>\n",
              "    <tr style=\"text-align: right;\">\n",
              "      <th></th>\n",
              "      <th>CustomerID</th>\n",
              "      <th>Recency</th>\n",
              "      <th>Frequency</th>\n",
              "      <th>Monetary</th>\n",
              "      <th>R_marks</th>\n",
              "      <th>F_marks</th>\n",
              "      <th>M_marks</th>\n",
              "      <th>R_final</th>\n",
              "      <th>F_final</th>\n",
              "      <th>M_final</th>\n",
              "    </tr>\n",
              "  </thead>\n",
              "  <tbody>\n",
              "    <tr>\n",
              "      <th>0</th>\n",
              "      <td>12346.0</td>\n",
              "      <td>325</td>\n",
              "      <td>1</td>\n",
              "      <td>77183.60</td>\n",
              "      <td>162.5</td>\n",
              "      <td>746.5</td>\n",
              "      <td>4330.0</td>\n",
              "      <td>3.759833</td>\n",
              "      <td>17.204425</td>\n",
              "      <td>99.792579</td>\n",
              "    </tr>\n",
              "    <tr>\n",
              "      <th>1</th>\n",
              "      <td>12347.0</td>\n",
              "      <td>2</td>\n",
              "      <td>7</td>\n",
              "      <td>4310.00</td>\n",
              "      <td>4156.5</td>\n",
              "      <td>3709.5</td>\n",
              "      <td>4004.0</td>\n",
              "      <td>96.170754</td>\n",
              "      <td>85.492049</td>\n",
              "      <td>92.279327</td>\n",
              "    </tr>\n",
              "    <tr>\n",
              "      <th>2</th>\n",
              "      <td>12348.0</td>\n",
              "      <td>75</td>\n",
              "      <td>4</td>\n",
              "      <td>1797.24</td>\n",
              "      <td>1646.0</td>\n",
              "      <td>3028.0</td>\n",
              "      <td>3334.0</td>\n",
              "      <td>38.084220</td>\n",
              "      <td>69.785665</td>\n",
              "      <td>76.837981</td>\n",
              "    </tr>\n",
              "    <tr>\n",
              "      <th>3</th>\n",
              "      <td>12349.0</td>\n",
              "      <td>18</td>\n",
              "      <td>1</td>\n",
              "      <td>1757.55</td>\n",
              "      <td>3209.5</td>\n",
              "      <td>746.5</td>\n",
              "      <td>3306.0</td>\n",
              "      <td>74.259602</td>\n",
              "      <td>17.204425</td>\n",
              "      <td>76.192671</td>\n",
              "    </tr>\n",
              "    <tr>\n",
              "      <th>4</th>\n",
              "      <td>12350.0</td>\n",
              "      <td>310</td>\n",
              "      <td>1</td>\n",
              "      <td>334.40</td>\n",
              "      <td>227.5</td>\n",
              "      <td>746.5</td>\n",
              "      <td>1230.0</td>\n",
              "      <td>5.263767</td>\n",
              "      <td>17.204425</td>\n",
              "      <td>28.347546</td>\n",
              "    </tr>\n",
              "  </tbody>\n",
              "</table>\n",
              "</div>"
            ],
            "text/plain": [
              "   CustomerID  Recency  Frequency  Monetary  R_marks  F_marks  M_marks  \\\n",
              "0     12346.0      325          1  77183.60    162.5    746.5   4330.0   \n",
              "1     12347.0        2          7   4310.00   4156.5   3709.5   4004.0   \n",
              "2     12348.0       75          4   1797.24   1646.0   3028.0   3334.0   \n",
              "3     12349.0       18          1   1757.55   3209.5    746.5   3306.0   \n",
              "4     12350.0      310          1    334.40    227.5    746.5   1230.0   \n",
              "\n",
              "     R_final    F_final    M_final  \n",
              "0   3.759833  17.204425  99.792579  \n",
              "1  96.170754  85.492049  92.279327  \n",
              "2  38.084220  69.785665  76.837981  \n",
              "3  74.259602  17.204425  76.192671  \n",
              "4   5.263767  17.204425  28.347546  "
            ]
          },
          "execution_count": 58,
          "metadata": {},
          "output_type": "execute_result"
        }
      ],
      "source": [
        "RFM.head()"
      ]
    },
    {
      "cell_type": "code",
      "execution_count": 59,
      "id": "4f27d159",
      "metadata": {
        "id": "4f27d159"
      },
      "outputs": [],
      "source": [
        "RFM[\"RFM_final\"]=0.30*RFM[\"R_final\"]+0.30*RFM[\"F_final\"]+0.50*RFM[\"M_final\"]"
      ]
    },
    {
      "cell_type": "code",
      "execution_count": 60,
      "id": "71f6b86a",
      "metadata": {
        "id": "71f6b86a",
        "outputId": "ca35813d-2ece-4fb9-8fbe-48b95303bd29"
      },
      "outputs": [
        {
          "data": {
            "text/html": [
              "<div>\n",
              "<style scoped>\n",
              "    .dataframe tbody tr th:only-of-type {\n",
              "        vertical-align: middle;\n",
              "    }\n",
              "\n",
              "    .dataframe tbody tr th {\n",
              "        vertical-align: top;\n",
              "    }\n",
              "\n",
              "    .dataframe thead th {\n",
              "        text-align: right;\n",
              "    }\n",
              "</style>\n",
              "<table border=\"1\" class=\"dataframe\">\n",
              "  <thead>\n",
              "    <tr style=\"text-align: right;\">\n",
              "      <th></th>\n",
              "      <th>CustomerID</th>\n",
              "      <th>Recency</th>\n",
              "      <th>Frequency</th>\n",
              "      <th>Monetary</th>\n",
              "      <th>R_marks</th>\n",
              "      <th>F_marks</th>\n",
              "      <th>M_marks</th>\n",
              "      <th>R_final</th>\n",
              "      <th>F_final</th>\n",
              "      <th>M_final</th>\n",
              "      <th>RFM_final</th>\n",
              "    </tr>\n",
              "  </thead>\n",
              "  <tbody>\n",
              "    <tr>\n",
              "      <th>0</th>\n",
              "      <td>12346.0</td>\n",
              "      <td>325</td>\n",
              "      <td>1</td>\n",
              "      <td>77183.60</td>\n",
              "      <td>162.5</td>\n",
              "      <td>746.5</td>\n",
              "      <td>4330.0</td>\n",
              "      <td>3.759833</td>\n",
              "      <td>17.204425</td>\n",
              "      <td>99.792579</td>\n",
              "      <td>56.185567</td>\n",
              "    </tr>\n",
              "    <tr>\n",
              "      <th>1</th>\n",
              "      <td>12347.0</td>\n",
              "      <td>2</td>\n",
              "      <td>7</td>\n",
              "      <td>4310.00</td>\n",
              "      <td>4156.5</td>\n",
              "      <td>3709.5</td>\n",
              "      <td>4004.0</td>\n",
              "      <td>96.170754</td>\n",
              "      <td>85.492049</td>\n",
              "      <td>92.279327</td>\n",
              "      <td>100.638504</td>\n",
              "    </tr>\n",
              "    <tr>\n",
              "      <th>2</th>\n",
              "      <td>12348.0</td>\n",
              "      <td>75</td>\n",
              "      <td>4</td>\n",
              "      <td>1797.24</td>\n",
              "      <td>1646.0</td>\n",
              "      <td>3028.0</td>\n",
              "      <td>3334.0</td>\n",
              "      <td>38.084220</td>\n",
              "      <td>69.785665</td>\n",
              "      <td>76.837981</td>\n",
              "      <td>70.779956</td>\n",
              "    </tr>\n",
              "    <tr>\n",
              "      <th>3</th>\n",
              "      <td>12349.0</td>\n",
              "      <td>18</td>\n",
              "      <td>1</td>\n",
              "      <td>1757.55</td>\n",
              "      <td>3209.5</td>\n",
              "      <td>746.5</td>\n",
              "      <td>3306.0</td>\n",
              "      <td>74.259602</td>\n",
              "      <td>17.204425</td>\n",
              "      <td>76.192671</td>\n",
              "      <td>65.535544</td>\n",
              "    </tr>\n",
              "    <tr>\n",
              "      <th>4</th>\n",
              "      <td>12350.0</td>\n",
              "      <td>310</td>\n",
              "      <td>1</td>\n",
              "      <td>334.40</td>\n",
              "      <td>227.5</td>\n",
              "      <td>746.5</td>\n",
              "      <td>1230.0</td>\n",
              "      <td>5.263767</td>\n",
              "      <td>17.204425</td>\n",
              "      <td>28.347546</td>\n",
              "      <td>20.914230</td>\n",
              "    </tr>\n",
              "  </tbody>\n",
              "</table>\n",
              "</div>"
            ],
            "text/plain": [
              "   CustomerID  Recency  Frequency  Monetary  R_marks  F_marks  M_marks  \\\n",
              "0     12346.0      325          1  77183.60    162.5    746.5   4330.0   \n",
              "1     12347.0        2          7   4310.00   4156.5   3709.5   4004.0   \n",
              "2     12348.0       75          4   1797.24   1646.0   3028.0   3334.0   \n",
              "3     12349.0       18          1   1757.55   3209.5    746.5   3306.0   \n",
              "4     12350.0      310          1    334.40    227.5    746.5   1230.0   \n",
              "\n",
              "     R_final    F_final    M_final   RFM_final  \n",
              "0   3.759833  17.204425  99.792579   56.185567  \n",
              "1  96.170754  85.492049  92.279327  100.638504  \n",
              "2  38.084220  69.785665  76.837981   70.779956  \n",
              "3  74.259602  17.204425  76.192671   65.535544  \n",
              "4   5.263767  17.204425  28.347546   20.914230  "
            ]
          },
          "execution_count": 60,
          "metadata": {},
          "output_type": "execute_result"
        }
      ],
      "source": [
        "RFM.head()"
      ]
    },
    {
      "cell_type": "code",
      "execution_count": 61,
      "id": "cf6ec0d8",
      "metadata": {
        "id": "cf6ec0d8",
        "outputId": "b16e7060-588b-47d5-a821-218f794d6932"
      },
      "outputs": [
        {
          "data": {
            "text/html": [
              "<div>\n",
              "<style scoped>\n",
              "    .dataframe tbody tr th:only-of-type {\n",
              "        vertical-align: middle;\n",
              "    }\n",
              "\n",
              "    .dataframe tbody tr th {\n",
              "        vertical-align: top;\n",
              "    }\n",
              "\n",
              "    .dataframe thead th {\n",
              "        text-align: right;\n",
              "    }\n",
              "</style>\n",
              "<table border=\"1\" class=\"dataframe\">\n",
              "  <thead>\n",
              "    <tr style=\"text-align: right;\">\n",
              "      <th></th>\n",
              "      <th>CustomerID</th>\n",
              "      <th>Recency</th>\n",
              "      <th>Frequency</th>\n",
              "      <th>Monetary</th>\n",
              "      <th>R_marks</th>\n",
              "      <th>F_marks</th>\n",
              "      <th>M_marks</th>\n",
              "      <th>R_final</th>\n",
              "      <th>F_final</th>\n",
              "      <th>M_final</th>\n",
              "      <th>RFM_final</th>\n",
              "    </tr>\n",
              "  </thead>\n",
              "  <tbody>\n",
              "    <tr>\n",
              "      <th>0</th>\n",
              "      <td>12346.0</td>\n",
              "      <td>325</td>\n",
              "      <td>1</td>\n",
              "      <td>77183.6</td>\n",
              "      <td>162.5</td>\n",
              "      <td>746.5</td>\n",
              "      <td>4330.0</td>\n",
              "      <td>3.76</td>\n",
              "      <td>17.20</td>\n",
              "      <td>99.79</td>\n",
              "      <td>56.19</td>\n",
              "    </tr>\n",
              "    <tr>\n",
              "      <th>1</th>\n",
              "      <td>12347.0</td>\n",
              "      <td>2</td>\n",
              "      <td>7</td>\n",
              "      <td>4310.0</td>\n",
              "      <td>4156.5</td>\n",
              "      <td>3709.5</td>\n",
              "      <td>4004.0</td>\n",
              "      <td>96.17</td>\n",
              "      <td>85.49</td>\n",
              "      <td>92.28</td>\n",
              "      <td>100.64</td>\n",
              "    </tr>\n",
              "  </tbody>\n",
              "</table>\n",
              "</div>"
            ],
            "text/plain": [
              "   CustomerID  Recency  Frequency  Monetary  R_marks  F_marks  M_marks  \\\n",
              "0     12346.0      325          1   77183.6    162.5    746.5   4330.0   \n",
              "1     12347.0        2          7    4310.0   4156.5   3709.5   4004.0   \n",
              "\n",
              "   R_final  F_final  M_final  RFM_final  \n",
              "0     3.76    17.20    99.79      56.19  \n",
              "1    96.17    85.49    92.28     100.64  "
            ]
          },
          "execution_count": 61,
          "metadata": {},
          "output_type": "execute_result"
        }
      ],
      "source": [
        "RFM=RFM.round(2)\n",
        "RFM.head(2)"
      ]
    },
    {
      "cell_type": "code",
      "execution_count": 62,
      "id": "48d4d8cf",
      "metadata": {
        "id": "48d4d8cf"
      },
      "outputs": [],
      "source": [
        "# lets we want to create four groups"
      ]
    },
    {
      "cell_type": "code",
      "execution_count": 63,
      "id": "12755f8b",
      "metadata": {
        "id": "12755f8b"
      },
      "outputs": [],
      "source": [
        "Loyality_label=[\"Silver\",\"Gold\",\"Diamond\",\"Platinum\"]"
      ]
    },
    {
      "cell_type": "code",
      "execution_count": 64,
      "id": "12483467",
      "metadata": {
        "id": "12483467"
      },
      "outputs": [],
      "source": [
        "Quantile=RFM[\"RFM_final\"].quantile(q=[0.25,0.50,0.75])"
      ]
    },
    {
      "cell_type": "code",
      "execution_count": 65,
      "id": "a6866d62",
      "metadata": {
        "id": "a6866d62",
        "outputId": "156b6d09-d5cb-439e-8696-ca5e99612d51"
      },
      "outputs": [
        {
          "data": {
            "text/plain": [
              "0.25    31.50\n",
              "0.50    53.75\n",
              "0.75    77.75\n",
              "Name: RFM_final, dtype: float64"
            ]
          },
          "execution_count": 65,
          "metadata": {},
          "output_type": "execute_result"
        }
      ],
      "source": [
        "Quantile"
      ]
    },
    {
      "cell_type": "code",
      "execution_count": 66,
      "id": "8bc6503f",
      "metadata": {
        "id": "8bc6503f"
      },
      "outputs": [],
      "source": [
        "# lets visualize the percentile to decide the quantile"
      ]
    },
    {
      "cell_type": "code",
      "execution_count": 67,
      "id": "a3fe8b93",
      "metadata": {
        "id": "a3fe8b93"
      },
      "outputs": [],
      "source": [
        "# ecdf--:- emperical cummulative distribution function plot"
      ]
    },
    {
      "cell_type": "code",
      "execution_count": 68,
      "id": "42738bf7",
      "metadata": {
        "id": "42738bf7",
        "outputId": "e7884ec2-e92d-4684-97d0-0f60645fdbb4"
      },
      "outputs": [
        {
          "data": {
            "text/plain": [
              "<AxesSubplot:xlabel='RFM_final', ylabel='Proportion'>"
            ]
          },
          "execution_count": 68,
          "metadata": {},
          "output_type": "execute_result"
        },
        {
          "data": {
            "image/png": "[encoded data removed]",
            "text/plain": [
              "<Figure size 640x480 with 1 Axes>"
            ]
          },
          "metadata": {},
          "output_type": "display_data"
        }
      ],
      "source": [
        "sns.ecdfplot(data=RFM[\"RFM_final\"])"
      ]
    },
    {
      "cell_type": "code",
      "execution_count": 69,
      "id": "2db9ab78",
      "metadata": {
        "id": "2db9ab78"
      },
      "outputs": [],
      "source": [
        "# write a function to assign the customer in different group as per their marks and quantile approach"
      ]
    },
    {
      "cell_type": "code",
      "execution_count": 70,
      "id": "935b2985",
      "metadata": {
        "id": "935b2985"
      },
      "outputs": [],
      "source": [
        "def loyality(x):\n",
        "    if x<=31:\n",
        "        return \"Silver\"\n",
        "    elif x<=54:\n",
        "        return \"Gold\"\n",
        "    elif x<=78:\n",
        "        return \"Diamond\"\n",
        "    else:\n",
        "        return \"Platinum\"\n"
      ]
    },
    {
      "cell_type": "code",
      "execution_count": 71,
      "id": "134f7583",
      "metadata": {
        "id": "134f7583"
      },
      "outputs": [],
      "source": [
        "RFM[\"Loyality\"]=RFM[\"RFM_final\"].apply(loyality)"
      ]
    },
    {
      "cell_type": "code",
      "execution_count": 72,
      "id": "66d03368",
      "metadata": {
        "id": "66d03368",
        "outputId": "1afd2ac2-e984-4ca9-fbc0-4ece50eb33e8"
      },
      "outputs": [
        {
          "data": {
            "text/html": [
              "<div>\n",
              "<style scoped>\n",
              "    .dataframe tbody tr th:only-of-type {\n",
              "        vertical-align: middle;\n",
              "    }\n",
              "\n",
              "    .dataframe tbody tr th {\n",
              "        vertical-align: top;\n",
              "    }\n",
              "\n",
              "    .dataframe thead th {\n",
              "        text-align: right;\n",
              "    }\n",
              "</style>\n",
              "<table border=\"1\" class=\"dataframe\">\n",
              "  <thead>\n",
              "    <tr style=\"text-align: right;\">\n",
              "      <th></th>\n",
              "      <th>CustomerID</th>\n",
              "      <th>Recency</th>\n",
              "      <th>Frequency</th>\n",
              "      <th>Monetary</th>\n",
              "      <th>R_marks</th>\n",
              "      <th>F_marks</th>\n",
              "      <th>M_marks</th>\n",
              "      <th>R_final</th>\n",
              "      <th>F_final</th>\n",
              "      <th>M_final</th>\n",
              "      <th>RFM_final</th>\n",
              "      <th>Loyality</th>\n",
              "    </tr>\n",
              "  </thead>\n",
              "  <tbody>\n",
              "    <tr>\n",
              "      <th>0</th>\n",
              "      <td>12346.0</td>\n",
              "      <td>325</td>\n",
              "      <td>1</td>\n",
              "      <td>77183.60</td>\n",
              "      <td>162.5</td>\n",
              "      <td>746.5</td>\n",
              "      <td>4330.0</td>\n",
              "      <td>3.76</td>\n",
              "      <td>17.20</td>\n",
              "      <td>99.79</td>\n",
              "      <td>56.19</td>\n",
              "      <td>Diamond</td>\n",
              "    </tr>\n",
              "    <tr>\n",
              "      <th>1</th>\n",
              "      <td>12347.0</td>\n",
              "      <td>2</td>\n",
              "      <td>7</td>\n",
              "      <td>4310.00</td>\n",
              "      <td>4156.5</td>\n",
              "      <td>3709.5</td>\n",
              "      <td>4004.0</td>\n",
              "      <td>96.17</td>\n",
              "      <td>85.49</td>\n",
              "      <td>92.28</td>\n",
              "      <td>100.64</td>\n",
              "      <td>Platinum</td>\n",
              "    </tr>\n",
              "    <tr>\n",
              "      <th>2</th>\n",
              "      <td>12348.0</td>\n",
              "      <td>75</td>\n",
              "      <td>4</td>\n",
              "      <td>1797.24</td>\n",
              "      <td>1646.0</td>\n",
              "      <td>3028.0</td>\n",
              "      <td>3334.0</td>\n",
              "      <td>38.08</td>\n",
              "      <td>69.79</td>\n",
              "      <td>76.84</td>\n",
              "      <td>70.78</td>\n",
              "      <td>Diamond</td>\n",
              "    </tr>\n",
              "    <tr>\n",
              "      <th>3</th>\n",
              "      <td>12349.0</td>\n",
              "      <td>18</td>\n",
              "      <td>1</td>\n",
              "      <td>1757.55</td>\n",
              "      <td>3209.5</td>\n",
              "      <td>746.5</td>\n",
              "      <td>3306.0</td>\n",
              "      <td>74.26</td>\n",
              "      <td>17.20</td>\n",
              "      <td>76.19</td>\n",
              "      <td>65.54</td>\n",
              "      <td>Diamond</td>\n",
              "    </tr>\n",
              "    <tr>\n",
              "      <th>4</th>\n",
              "      <td>12350.0</td>\n",
              "      <td>310</td>\n",
              "      <td>1</td>\n",
              "      <td>334.40</td>\n",
              "      <td>227.5</td>\n",
              "      <td>746.5</td>\n",
              "      <td>1230.0</td>\n",
              "      <td>5.26</td>\n",
              "      <td>17.20</td>\n",
              "      <td>28.35</td>\n",
              "      <td>20.91</td>\n",
              "      <td>Silver</td>\n",
              "    </tr>\n",
              "    <tr>\n",
              "      <th>5</th>\n",
              "      <td>12352.0</td>\n",
              "      <td>36</td>\n",
              "      <td>8</td>\n",
              "      <td>2506.04</td>\n",
              "      <td>2502.5</td>\n",
              "      <td>3828.0</td>\n",
              "      <td>3638.0</td>\n",
              "      <td>57.90</td>\n",
              "      <td>88.22</td>\n",
              "      <td>83.84</td>\n",
              "      <td>85.76</td>\n",
              "      <td>Platinum</td>\n",
              "    </tr>\n",
              "    <tr>\n",
              "      <th>6</th>\n",
              "      <td>12353.0</td>\n",
              "      <td>204</td>\n",
              "      <td>1</td>\n",
              "      <td>89.00</td>\n",
              "      <td>725.5</td>\n",
              "      <td>746.5</td>\n",
              "      <td>117.0</td>\n",
              "      <td>16.79</td>\n",
              "      <td>17.20</td>\n",
              "      <td>2.70</td>\n",
              "      <td>11.55</td>\n",
              "      <td>Silver</td>\n",
              "    </tr>\n",
              "    <tr>\n",
              "      <th>7</th>\n",
              "      <td>12354.0</td>\n",
              "      <td>232</td>\n",
              "      <td>1</td>\n",
              "      <td>1079.40</td>\n",
              "      <td>602.5</td>\n",
              "      <td>746.5</td>\n",
              "      <td>2780.0</td>\n",
              "      <td>13.94</td>\n",
              "      <td>17.20</td>\n",
              "      <td>64.07</td>\n",
              "      <td>41.38</td>\n",
              "      <td>Gold</td>\n",
              "    </tr>\n",
              "    <tr>\n",
              "      <th>8</th>\n",
              "      <td>12355.0</td>\n",
              "      <td>214</td>\n",
              "      <td>1</td>\n",
              "      <td>459.40</td>\n",
              "      <td>672.5</td>\n",
              "      <td>746.5</td>\n",
              "      <td>1660.0</td>\n",
              "      <td>15.56</td>\n",
              "      <td>17.20</td>\n",
              "      <td>38.26</td>\n",
              "      <td>28.96</td>\n",
              "      <td>Silver</td>\n",
              "    </tr>\n",
              "    <tr>\n",
              "      <th>9</th>\n",
              "      <td>12356.0</td>\n",
              "      <td>22</td>\n",
              "      <td>3</td>\n",
              "      <td>2811.43</td>\n",
              "      <td>3037.5</td>\n",
              "      <td>2581.5</td>\n",
              "      <td>3739.0</td>\n",
              "      <td>70.28</td>\n",
              "      <td>59.50</td>\n",
              "      <td>86.17</td>\n",
              "      <td>82.02</td>\n",
              "      <td>Platinum</td>\n",
              "    </tr>\n",
              "    <tr>\n",
              "      <th>10</th>\n",
              "      <td>12357.0</td>\n",
              "      <td>33</td>\n",
              "      <td>1</td>\n",
              "      <td>6207.67</td>\n",
              "      <td>2571.0</td>\n",
              "      <td>746.5</td>\n",
              "      <td>4138.0</td>\n",
              "      <td>59.49</td>\n",
              "      <td>17.20</td>\n",
              "      <td>95.37</td>\n",
              "      <td>70.69</td>\n",
              "      <td>Diamond</td>\n",
              "    </tr>\n",
              "    <tr>\n",
              "      <th>11</th>\n",
              "      <td>12358.0</td>\n",
              "      <td>1</td>\n",
              "      <td>2</td>\n",
              "      <td>1168.06</td>\n",
              "      <td>4253.0</td>\n",
              "      <td>1910.5</td>\n",
              "      <td>2872.0</td>\n",
              "      <td>98.40</td>\n",
              "      <td>44.03</td>\n",
              "      <td>66.19</td>\n",
              "      <td>75.83</td>\n",
              "      <td>Diamond</td>\n",
              "    </tr>\n",
              "    <tr>\n",
              "      <th>12</th>\n",
              "      <td>12359.0</td>\n",
              "      <td>57</td>\n",
              "      <td>4</td>\n",
              "      <td>6372.58</td>\n",
              "      <td>2027.0</td>\n",
              "      <td>3028.0</td>\n",
              "      <td>4145.0</td>\n",
              "      <td>46.90</td>\n",
              "      <td>69.79</td>\n",
              "      <td>95.53</td>\n",
              "      <td>82.77</td>\n",
              "      <td>Platinum</td>\n",
              "    </tr>\n",
              "    <tr>\n",
              "      <th>13</th>\n",
              "      <td>12360.0</td>\n",
              "      <td>52</td>\n",
              "      <td>3</td>\n",
              "      <td>2662.06</td>\n",
              "      <td>2121.0</td>\n",
              "      <td>2581.5</td>\n",
              "      <td>3696.0</td>\n",
              "      <td>49.07</td>\n",
              "      <td>59.50</td>\n",
              "      <td>85.18</td>\n",
              "      <td>75.16</td>\n",
              "      <td>Diamond</td>\n",
              "    </tr>\n",
              "    <tr>\n",
              "      <th>14</th>\n",
              "      <td>12361.0</td>\n",
              "      <td>287</td>\n",
              "      <td>1</td>\n",
              "      <td>189.90</td>\n",
              "      <td>313.5</td>\n",
              "      <td>746.5</td>\n",
              "      <td>600.0</td>\n",
              "      <td>7.25</td>\n",
              "      <td>17.20</td>\n",
              "      <td>13.83</td>\n",
              "      <td>14.25</td>\n",
              "      <td>Silver</td>\n",
              "    </tr>\n",
              "    <tr>\n",
              "      <th>15</th>\n",
              "      <td>12362.0</td>\n",
              "      <td>3</td>\n",
              "      <td>10</td>\n",
              "      <td>5226.23</td>\n",
              "      <td>4064.5</td>\n",
              "      <td>3974.5</td>\n",
              "      <td>4085.0</td>\n",
              "      <td>94.04</td>\n",
              "      <td>91.60</td>\n",
              "      <td>94.15</td>\n",
              "      <td>102.77</td>\n",
              "      <td>Platinum</td>\n",
              "    </tr>\n",
              "    <tr>\n",
              "      <th>16</th>\n",
              "      <td>12363.0</td>\n",
              "      <td>109</td>\n",
              "      <td>2</td>\n",
              "      <td>552.00</td>\n",
              "      <td>1294.0</td>\n",
              "      <td>1910.5</td>\n",
              "      <td>1882.0</td>\n",
              "      <td>29.94</td>\n",
              "      <td>44.03</td>\n",
              "      <td>43.37</td>\n",
              "      <td>43.88</td>\n",
              "      <td>Gold</td>\n",
              "    </tr>\n",
              "    <tr>\n",
              "      <th>17</th>\n",
              "      <td>12364.0</td>\n",
              "      <td>7</td>\n",
              "      <td>4</td>\n",
              "      <td>1313.10</td>\n",
              "      <td>3839.5</td>\n",
              "      <td>3028.0</td>\n",
              "      <td>2997.0</td>\n",
              "      <td>88.84</td>\n",
              "      <td>69.79</td>\n",
              "      <td>69.07</td>\n",
              "      <td>82.12</td>\n",
              "      <td>Platinum</td>\n",
              "    </tr>\n",
              "    <tr>\n",
              "      <th>18</th>\n",
              "      <td>12365.0</td>\n",
              "      <td>291</td>\n",
              "      <td>2</td>\n",
              "      <td>641.38</td>\n",
              "      <td>292.0</td>\n",
              "      <td>1910.5</td>\n",
              "      <td>2096.0</td>\n",
              "      <td>6.76</td>\n",
              "      <td>44.03</td>\n",
              "      <td>48.31</td>\n",
              "      <td>39.39</td>\n",
              "      <td>Gold</td>\n",
              "    </tr>\n",
              "    <tr>\n",
              "      <th>19</th>\n",
              "      <td>12367.0</td>\n",
              "      <td>4</td>\n",
              "      <td>1</td>\n",
              "      <td>168.90</td>\n",
              "      <td>3970.5</td>\n",
              "      <td>746.5</td>\n",
              "      <td>505.0</td>\n",
              "      <td>91.87</td>\n",
              "      <td>17.20</td>\n",
              "      <td>11.64</td>\n",
              "      <td>38.54</td>\n",
              "      <td>Gold</td>\n",
              "    </tr>\n",
              "  </tbody>\n",
              "</table>\n",
              "</div>"
            ],
            "text/plain": [
              "    CustomerID  Recency  Frequency  Monetary  R_marks  F_marks  M_marks  \\\n",
              "0      12346.0      325          1  77183.60    162.5    746.5   4330.0   \n",
              "1      12347.0        2          7   4310.00   4156.5   3709.5   4004.0   \n",
              "2      12348.0       75          4   1797.24   1646.0   3028.0   3334.0   \n",
              "3      12349.0       18          1   1757.55   3209.5    746.5   3306.0   \n",
              "4      12350.0      310          1    334.40    227.5    746.5   1230.0   \n",
              "5      12352.0       36          8   2506.04   2502.5   3828.0   3638.0   \n",
              "6      12353.0      204          1     89.00    725.5    746.5    117.0   \n",
              "7      12354.0      232          1   1079.40    602.5    746.5   2780.0   \n",
              "8      12355.0      214          1    459.40    672.5    746.5   1660.0   \n",
              "9      12356.0       22          3   2811.43   3037.5   2581.5   3739.0   \n",
              "10     12357.0       33          1   6207.67   2571.0    746.5   4138.0   \n",
              "11     12358.0        1          2   1168.06   4253.0   1910.5   2872.0   \n",
              "12     12359.0       57          4   6372.58   2027.0   3028.0   4145.0   \n",
              "13     12360.0       52          3   2662.06   2121.0   2581.5   3696.0   \n",
              "14     12361.0      287          1    189.90    313.5    746.5    600.0   \n",
              "15     12362.0        3         10   5226.23   4064.5   3974.5   4085.0   \n",
              "16     12363.0      109          2    552.00   1294.0   1910.5   1882.0   \n",
              "17     12364.0        7          4   1313.10   3839.5   3028.0   2997.0   \n",
              "18     12365.0      291          2    641.38    292.0   1910.5   2096.0   \n",
              "19     12367.0        4          1    168.90   3970.5    746.5    505.0   \n",
              "\n",
              "    R_final  F_final  M_final  RFM_final  Loyality  \n",
              "0      3.76    17.20    99.79      56.19   Diamond  \n",
              "1     96.17    85.49    92.28     100.64  Platinum  \n",
              "2     38.08    69.79    76.84      70.78   Diamond  \n",
              "3     74.26    17.20    76.19      65.54   Diamond  \n",
              "4      5.26    17.20    28.35      20.91    Silver  \n",
              "5     57.90    88.22    83.84      85.76  Platinum  \n",
              "6     16.79    17.20     2.70      11.55    Silver  \n",
              "7     13.94    17.20    64.07      41.38      Gold  \n",
              "8     15.56    17.20    38.26      28.96    Silver  \n",
              "9     70.28    59.50    86.17      82.02  Platinum  \n",
              "10    59.49    17.20    95.37      70.69   Diamond  \n",
              "11    98.40    44.03    66.19      75.83   Diamond  \n",
              "12    46.90    69.79    95.53      82.77  Platinum  \n",
              "13    49.07    59.50    85.18      75.16   Diamond  \n",
              "14     7.25    17.20    13.83      14.25    Silver  \n",
              "15    94.04    91.60    94.15     102.77  Platinum  \n",
              "16    29.94    44.03    43.37      43.88      Gold  \n",
              "17    88.84    69.79    69.07      82.12  Platinum  \n",
              "18     6.76    44.03    48.31      39.39      Gold  \n",
              "19    91.87    17.20    11.64      38.54      Gold  "
            ]
          },
          "execution_count": 72,
          "metadata": {},
          "output_type": "execute_result"
        }
      ],
      "source": [
        "RFM.head(20)"
      ]
    },
    {
      "cell_type": "code",
      "execution_count": 73,
      "id": "44a6b17e",
      "metadata": {
        "id": "44a6b17e",
        "outputId": "477de0b6-e4c9-4c9d-d792-232c99039951"
      },
      "outputs": [
        {
          "data": {
            "text/plain": [
              "Gold        1120\n",
              "Diamond     1088\n",
              "Platinum    1073\n",
              "Silver      1058\n",
              "Name: Loyality, dtype: int64"
            ]
          },
          "execution_count": 73,
          "metadata": {},
          "output_type": "execute_result"
        }
      ],
      "source": [
        "RFM[\"Loyality\"].value_counts()"
      ]
    },
    {
      "cell_type": "code",
      "execution_count": 74,
      "id": "ccf5d44f",
      "metadata": {
        "id": "ccf5d44f"
      },
      "outputs": [],
      "source": [
        "# we can do the cutomer segmentation with Kmeans clustering algorithm"
      ]
    },
    {
      "cell_type": "code",
      "execution_count": 75,
      "id": "512b07bf",
      "metadata": {
        "id": "512b07bf",
        "outputId": "a8bce0b6-7793-4d34-b6ac-725f7bb2eca4"
      },
      "outputs": [
        {
          "data": {
            "text/plain": [
              "0        56.19\n",
              "1       100.64\n",
              "2        70.78\n",
              "3        65.54\n",
              "4        20.91\n",
              "         ...  \n",
              "4334     14.12\n",
              "4335     12.34\n",
              "4336     46.16\n",
              "4337     97.34\n",
              "4338     72.89\n",
              "Name: RFM_final, Length: 4339, dtype: float64"
            ]
          },
          "execution_count": 75,
          "metadata": {},
          "output_type": "execute_result"
        }
      ],
      "source": [
        "Newdata=RFM[\"RFM_final\"]\n",
        "Newdata"
      ]
    },
    {
      "cell_type": "code",
      "execution_count": 76,
      "id": "2867bf76",
      "metadata": {
        "id": "2867bf76",
        "outputId": "345f30e8-677a-4043-e4b1-22af6e050fa5"
      },
      "outputs": [],
      "source": [
        "Newdata=pd.DataFrame(Newdata)"
      ]
    },
    {
      "cell_type": "code",
      "execution_count": 77,
      "id": "c1c5613b",
      "metadata": {
        "id": "c1c5613b"
      },
      "outputs": [],
      "source": [
        "from sklearn.cluster import KMeans"
      ]
    },
    {
      "cell_type": "code",
      "execution_count": 78,
      "id": "6016932d",
      "metadata": {
        "id": "6016932d",
        "outputId": "4e3c775b-20c6-453a-d6f4-837f1a5cc9f0"
      },
      "outputs": [
        {
          "data": {
            "text/plain": [
              "array([2, 0, 3, ..., 2, 0, 3])"
            ]
          },
          "execution_count": 78,
          "metadata": {},
          "output_type": "execute_result"
        }
      ],
      "source": [
        "kmeans1=KMeans(n_clusters=4,max_iter=100,random_state=100)\n",
        "y_kmeans=kmeans1.fit_predict(Newdata)\n",
        "y_kmeans"
      ]
    },
    {
      "cell_type": "code",
      "execution_count": 79,
      "id": "26227ff7",
      "metadata": {
        "id": "26227ff7"
      },
      "outputs": [],
      "source": [
        "RFM[\"Cluster\"]=kmeans1.labels_"
      ]
    },
    {
      "cell_type": "code",
      "execution_count": 80,
      "id": "72aaeb8f",
      "metadata": {
        "id": "72aaeb8f",
        "outputId": "2ad3b863-88de-4c79-ae59-122e50536a40"
      },
      "outputs": [
        {
          "data": {
            "text/html": [
              "<div>\n",
              "<style scoped>\n",
              "    .dataframe tbody tr th:only-of-type {\n",
              "        vertical-align: middle;\n",
              "    }\n",
              "\n",
              "    .dataframe tbody tr th {\n",
              "        vertical-align: top;\n",
              "    }\n",
              "\n",
              "    .dataframe thead th {\n",
              "        text-align: right;\n",
              "    }\n",
              "</style>\n",
              "<table border=\"1\" class=\"dataframe\">\n",
              "  <thead>\n",
              "    <tr style=\"text-align: right;\">\n",
              "      <th></th>\n",
              "      <th>CustomerID</th>\n",
              "      <th>Recency</th>\n",
              "      <th>Frequency</th>\n",
              "      <th>Monetary</th>\n",
              "      <th>R_marks</th>\n",
              "      <th>F_marks</th>\n",
              "      <th>M_marks</th>\n",
              "      <th>R_final</th>\n",
              "      <th>F_final</th>\n",
              "      <th>M_final</th>\n",
              "      <th>RFM_final</th>\n",
              "      <th>Loyality</th>\n",
              "      <th>Cluster</th>\n",
              "    </tr>\n",
              "  </thead>\n",
              "  <tbody>\n",
              "    <tr>\n",
              "      <th>0</th>\n",
              "      <td>12346.0</td>\n",
              "      <td>325</td>\n",
              "      <td>1</td>\n",
              "      <td>77183.60</td>\n",
              "      <td>162.5</td>\n",
              "      <td>746.5</td>\n",
              "      <td>4330.0</td>\n",
              "      <td>3.76</td>\n",
              "      <td>17.20</td>\n",
              "      <td>99.79</td>\n",
              "      <td>56.19</td>\n",
              "      <td>Diamond</td>\n",
              "      <td>2</td>\n",
              "    </tr>\n",
              "    <tr>\n",
              "      <th>1</th>\n",
              "      <td>12347.0</td>\n",
              "      <td>2</td>\n",
              "      <td>7</td>\n",
              "      <td>4310.00</td>\n",
              "      <td>4156.5</td>\n",
              "      <td>3709.5</td>\n",
              "      <td>4004.0</td>\n",
              "      <td>96.17</td>\n",
              "      <td>85.49</td>\n",
              "      <td>92.28</td>\n",
              "      <td>100.64</td>\n",
              "      <td>Platinum</td>\n",
              "      <td>0</td>\n",
              "    </tr>\n",
              "    <tr>\n",
              "      <th>2</th>\n",
              "      <td>12348.0</td>\n",
              "      <td>75</td>\n",
              "      <td>4</td>\n",
              "      <td>1797.24</td>\n",
              "      <td>1646.0</td>\n",
              "      <td>3028.0</td>\n",
              "      <td>3334.0</td>\n",
              "      <td>38.08</td>\n",
              "      <td>69.79</td>\n",
              "      <td>76.84</td>\n",
              "      <td>70.78</td>\n",
              "      <td>Diamond</td>\n",
              "      <td>3</td>\n",
              "    </tr>\n",
              "    <tr>\n",
              "      <th>3</th>\n",
              "      <td>12349.0</td>\n",
              "      <td>18</td>\n",
              "      <td>1</td>\n",
              "      <td>1757.55</td>\n",
              "      <td>3209.5</td>\n",
              "      <td>746.5</td>\n",
              "      <td>3306.0</td>\n",
              "      <td>74.26</td>\n",
              "      <td>17.20</td>\n",
              "      <td>76.19</td>\n",
              "      <td>65.54</td>\n",
              "      <td>Diamond</td>\n",
              "      <td>3</td>\n",
              "    </tr>\n",
              "    <tr>\n",
              "      <th>4</th>\n",
              "      <td>12350.0</td>\n",
              "      <td>310</td>\n",
              "      <td>1</td>\n",
              "      <td>334.40</td>\n",
              "      <td>227.5</td>\n",
              "      <td>746.5</td>\n",
              "      <td>1230.0</td>\n",
              "      <td>5.26</td>\n",
              "      <td>17.20</td>\n",
              "      <td>28.35</td>\n",
              "      <td>20.91</td>\n",
              "      <td>Silver</td>\n",
              "      <td>1</td>\n",
              "    </tr>\n",
              "  </tbody>\n",
              "</table>\n",
              "</div>"
            ],
            "text/plain": [
              "   CustomerID  Recency  Frequency  Monetary  R_marks  F_marks  M_marks  \\\n",
              "0     12346.0      325          1  77183.60    162.5    746.5   4330.0   \n",
              "1     12347.0        2          7   4310.00   4156.5   3709.5   4004.0   \n",
              "2     12348.0       75          4   1797.24   1646.0   3028.0   3334.0   \n",
              "3     12349.0       18          1   1757.55   3209.5    746.5   3306.0   \n",
              "4     12350.0      310          1    334.40    227.5    746.5   1230.0   \n",
              "\n",
              "   R_final  F_final  M_final  RFM_final  Loyality  Cluster  \n",
              "0     3.76    17.20    99.79      56.19   Diamond        2  \n",
              "1    96.17    85.49    92.28     100.64  Platinum        0  \n",
              "2    38.08    69.79    76.84      70.78   Diamond        3  \n",
              "3    74.26    17.20    76.19      65.54   Diamond        3  \n",
              "4     5.26    17.20    28.35      20.91    Silver        1  "
            ]
          },
          "execution_count": 80,
          "metadata": {},
          "output_type": "execute_result"
        }
      ],
      "source": [
        "RFM.head()"
      ]
    },
    {
      "cell_type": "code",
      "execution_count": 81,
      "id": "25744409",
      "metadata": {
        "id": "25744409",
        "outputId": "00295f54-f09e-4c57-c44d-6895d35b9f44"
      },
      "outputs": [
        {
          "data": {
            "text/plain": [
              "1    1214\n",
              "2    1179\n",
              "3    1034\n",
              "0     912\n",
              "Name: Cluster, dtype: int64"
            ]
          },
          "execution_count": 81,
          "metadata": {},
          "output_type": "execute_result"
        }
      ],
      "source": [
        "RFM[\"Cluster\"].value_counts()"
      ]
    },
    {
      "cell_type": "code",
      "execution_count": 82,
      "id": "fce23634",
      "metadata": {
        "id": "fce23634",
        "outputId": "959193f5-c89e-45c4-88c6-f2eb7405bafa"
      },
      "outputs": [
        {
          "data": {
            "text/plain": [
              "Gold        1120\n",
              "Diamond     1088\n",
              "Platinum    1073\n",
              "Silver      1058\n",
              "Name: Loyality, dtype: int64"
            ]
          },
          "execution_count": 82,
          "metadata": {},
          "output_type": "execute_result"
        }
      ],
      "source": [
        "RFM[\"Loyality\"].value_counts()"
      ]
    },
    {
      "cell_type": "code",
      "execution_count": 83,
      "id": "06dc1b3a",
      "metadata": {
        "id": "06dc1b3a"
      },
      "outputs": [],
      "source": [
        "# how to find the best no. of cluster --- elbow method -- SSE error calculate"
      ]
    },
    {
      "cell_type": "code",
      "execution_count": 84,
      "id": "4a90bf58",
      "metadata": {
        "id": "4a90bf58"
      },
      "outputs": [],
      "source": [
        "# calculate the silhouette_score"
      ]
    },
    {
      "cell_type": "code",
      "execution_count": 85,
      "id": "e84fb736",
      "metadata": {
        "id": "e84fb736",
        "outputId": "5ec17e43-98f5-4197-e921-e6bd850c9a99"
      },
      "outputs": [
        {
          "data": {
            "text/plain": [
              "Text(0, 0.5, 'Sum of square error')"
            ]
          },
          "execution_count": 85,
          "metadata": {},
          "output_type": "execute_result"
        },
        {
          "data": {
            "image/png": "[encoded data removed]",
            "text/plain": [
              "<Figure size 640x480 with 1 Axes>"
            ]
          },
          "metadata": {},
          "output_type": "display_data"
        }
      ],
      "source": [
        "SSE=[]\n",
        "for i in range(1,10):\n",
        "    kmeans1=KMeans(max_iter=100,random_state=100,n_clusters=i)\n",
        "    kmeans1.fit_predict(Newdata)\n",
        "    SSE.append(kmeans1.inertia_)\n",
        "\n",
        "plt.plot(range(1,10),SSE,marker=\"o\")\n",
        "plt.xlabel(\"no. of clusters\")\n",
        "plt.ylabel(\"Sum of square error\")"
      ]
    },
    {
      "cell_type": "markdown",
      "id": "e85db7d1",
      "metadata": {
        "id": "e85db7d1"
      },
      "source": [
        "#pip install yellowbrick\n",
        "from yellowbrick.cluster import KElbowVisualizer\n",
        "model=kmenas1\n",
        "visualizer=KElbowVisualizer(model,k=(1,10)).fit(Newdata)\n",
        "visualizer.show()"
      ]
    },
    {
      "cell_type": "code",
      "execution_count": 86,
      "id": "95ce92c4",
      "metadata": {
        "id": "95ce92c4"
      },
      "outputs": [],
      "source": [
        "#evaluation of clustering"
      ]
    },
    {
      "cell_type": "code",
      "execution_count": 87,
      "id": "84eab7eb",
      "metadata": {
        "id": "84eab7eb"
      },
      "outputs": [],
      "source": [
        "from sklearn.metrics import silhouette_score"
      ]
    },
    {
      "cell_type": "code",
      "execution_count": 88,
      "id": "1d1394b0",
      "metadata": {
        "id": "1d1394b0"
      },
      "outputs": [],
      "source": [
        "labels=kmeans1.labels_\n"
      ]
    },
    {
      "cell_type": "code",
      "execution_count": 89,
      "id": "9ae40cc6",
      "metadata": {
        "id": "9ae40cc6",
        "outputId": "4ba984f3-7539-46b1-c8ba-20ec6abe3bcd"
      },
      "outputs": [
        {
          "data": {
            "text/plain": [
              "0.5344319358734617"
            ]
          },
          "execution_count": 89,
          "metadata": {},
          "output_type": "execute_result"
        }
      ],
      "source": [
        "silhouette_score(Newdata,labels)"
      ]
    },
    {
      "cell_type": "code",
      "execution_count": null,
      "id": "038035d0",
      "metadata": {
        "id": "038035d0"
      },
      "outputs": [],
      "source": []
    },
    {
      "cell_type": "code",
      "execution_count": 90,
      "id": "90fb552f",
      "metadata": {
        "id": "90fb552f"
      },
      "outputs": [],
      "source": [
        "# goal no. 2 --- Analysing of business trend as per day, month, weekend,season,\n",
        "# timing etc..."
      ]
    },
    {
      "cell_type": "code",
      "execution_count": 91,
      "id": "d43f430c",
      "metadata": {
        "id": "d43f430c"
      },
      "outputs": [],
      "source": [
        "df10=data.copy()"
      ]
    },
    {
      "cell_type": "code",
      "execution_count": 92,
      "id": "8dc3dd98",
      "metadata": {
        "id": "8dc3dd98",
        "outputId": "1f984450-5f33-4b06-c4b7-c7310563ccf5"
      },
      "outputs": [
        {
          "data": {
            "text/html": [
              "<div>\n",
              "<style scoped>\n",
              "    .dataframe tbody tr th:only-of-type {\n",
              "        vertical-align: middle;\n",
              "    }\n",
              "\n",
              "    .dataframe tbody tr th {\n",
              "        vertical-align: top;\n",
              "    }\n",
              "\n",
              "    .dataframe thead th {\n",
              "        text-align: right;\n",
              "    }\n",
              "</style>\n",
              "<table border=\"1\" class=\"dataframe\">\n",
              "  <thead>\n",
              "    <tr style=\"text-align: right;\">\n",
              "      <th></th>\n",
              "      <th>InvoiceNo</th>\n",
              "      <th>StockCode</th>\n",
              "      <th>lower</th>\n",
              "      <th>Description</th>\n",
              "      <th>Quantity</th>\n",
              "      <th>InvoiceDate</th>\n",
              "      <th>UnitPrice</th>\n",
              "      <th>CustomerID</th>\n",
              "      <th>Country</th>\n",
              "    </tr>\n",
              "  </thead>\n",
              "  <tbody>\n",
              "    <tr>\n",
              "      <th>0</th>\n",
              "      <td>536365</td>\n",
              "      <td>85123A</td>\n",
              "      <td>white hanging heart t-light holder</td>\n",
              "      <td>WHITE HANGING HEART T-LIGHT HOLDER</td>\n",
              "      <td>6</td>\n",
              "      <td>12/1/10 8:26</td>\n",
              "      <td>2.55</td>\n",
              "      <td>17850.0</td>\n",
              "      <td>United Kingdom</td>\n",
              "    </tr>\n",
              "    <tr>\n",
              "      <th>1</th>\n",
              "      <td>536365</td>\n",
              "      <td>71053</td>\n",
              "      <td>white metal lantern</td>\n",
              "      <td>WHITE METAL LANTERN</td>\n",
              "      <td>6</td>\n",
              "      <td>12/1/10 8:26</td>\n",
              "      <td>3.39</td>\n",
              "      <td>17850.0</td>\n",
              "      <td>United Kingdom</td>\n",
              "    </tr>\n",
              "  </tbody>\n",
              "</table>\n",
              "</div>"
            ],
            "text/plain": [
              "  InvoiceNo StockCode                               lower  \\\n",
              "0    536365    85123A  white hanging heart t-light holder   \n",
              "1    536365     71053                 white metal lantern   \n",
              "\n",
              "                          Description  Quantity   InvoiceDate  UnitPrice  \\\n",
              "0  WHITE HANGING HEART T-LIGHT HOLDER         6  12/1/10 8:26       2.55   \n",
              "1                 WHITE METAL LANTERN         6  12/1/10 8:26       3.39   \n",
              "\n",
              "   CustomerID         Country  \n",
              "0     17850.0  United Kingdom  \n",
              "1     17850.0  United Kingdom  "
            ]
          },
          "execution_count": 92,
          "metadata": {},
          "output_type": "execute_result"
        }
      ],
      "source": [
        "df10.head(2)"
      ]
    },
    {
      "cell_type": "code",
      "execution_count": 93,
      "id": "b13a06d8",
      "metadata": {
        "id": "b13a06d8"
      },
      "outputs": [],
      "source": [
        "df10=df10.drop([\"StockCode\",\"Description\",\"lower\",\"Country\"],axis=1)"
      ]
    },
    {
      "cell_type": "code",
      "execution_count": 94,
      "id": "74a90f12",
      "metadata": {
        "id": "74a90f12",
        "outputId": "b9fdb3af-4f18-43b9-f96c-af0824b4eb5e"
      },
      "outputs": [
        {
          "data": {
            "text/html": [
              "<div>\n",
              "<style scoped>\n",
              "    .dataframe tbody tr th:only-of-type {\n",
              "        vertical-align: middle;\n",
              "    }\n",
              "\n",
              "    .dataframe tbody tr th {\n",
              "        vertical-align: top;\n",
              "    }\n",
              "\n",
              "    .dataframe thead th {\n",
              "        text-align: right;\n",
              "    }\n",
              "</style>\n",
              "<table border=\"1\" class=\"dataframe\">\n",
              "  <thead>\n",
              "    <tr style=\"text-align: right;\">\n",
              "      <th></th>\n",
              "      <th>InvoiceNo</th>\n",
              "      <th>Quantity</th>\n",
              "      <th>InvoiceDate</th>\n",
              "      <th>UnitPrice</th>\n",
              "      <th>CustomerID</th>\n",
              "    </tr>\n",
              "  </thead>\n",
              "  <tbody>\n",
              "    <tr>\n",
              "      <th>0</th>\n",
              "      <td>536365</td>\n",
              "      <td>6</td>\n",
              "      <td>12/1/10 8:26</td>\n",
              "      <td>2.55</td>\n",
              "      <td>17850.0</td>\n",
              "    </tr>\n",
              "    <tr>\n",
              "      <th>1</th>\n",
              "      <td>536365</td>\n",
              "      <td>6</td>\n",
              "      <td>12/1/10 8:26</td>\n",
              "      <td>3.39</td>\n",
              "      <td>17850.0</td>\n",
              "    </tr>\n",
              "  </tbody>\n",
              "</table>\n",
              "</div>"
            ],
            "text/plain": [
              "  InvoiceNo  Quantity   InvoiceDate  UnitPrice  CustomerID\n",
              "0    536365         6  12/1/10 8:26       2.55     17850.0\n",
              "1    536365         6  12/1/10 8:26       3.39     17850.0"
            ]
          },
          "execution_count": 94,
          "metadata": {},
          "output_type": "execute_result"
        }
      ],
      "source": [
        "df10.head(2)"
      ]
    },
    {
      "cell_type": "code",
      "execution_count": 95,
      "id": "65e8fba4",
      "metadata": {
        "id": "65e8fba4"
      },
      "outputs": [],
      "source": [
        "df10[\"Total\"]=df10[\"Quantity\"]*df10[\"UnitPrice\"]"
      ]
    },
    {
      "cell_type": "code",
      "execution_count": 96,
      "id": "f00c15fe",
      "metadata": {
        "id": "f00c15fe"
      },
      "outputs": [],
      "source": [
        "df10=df10.drop([\"Quantity\",\"UnitPrice\"],axis=1)"
      ]
    },
    {
      "cell_type": "code",
      "execution_count": 97,
      "id": "2e6eda9d",
      "metadata": {
        "id": "2e6eda9d",
        "outputId": "457d1787-294c-4192-ed53-d65e549ce00e"
      },
      "outputs": [
        {
          "data": {
            "text/html": [
              "<div>\n",
              "<style scoped>\n",
              "    .dataframe tbody tr th:only-of-type {\n",
              "        vertical-align: middle;\n",
              "    }\n",
              "\n",
              "    .dataframe tbody tr th {\n",
              "        vertical-align: top;\n",
              "    }\n",
              "\n",
              "    .dataframe thead th {\n",
              "        text-align: right;\n",
              "    }\n",
              "</style>\n",
              "<table border=\"1\" class=\"dataframe\">\n",
              "  <thead>\n",
              "    <tr style=\"text-align: right;\">\n",
              "      <th></th>\n",
              "      <th>InvoiceNo</th>\n",
              "      <th>InvoiceDate</th>\n",
              "      <th>CustomerID</th>\n",
              "      <th>Total</th>\n",
              "    </tr>\n",
              "  </thead>\n",
              "  <tbody>\n",
              "    <tr>\n",
              "      <th>0</th>\n",
              "      <td>536365</td>\n",
              "      <td>12/1/10 8:26</td>\n",
              "      <td>17850.0</td>\n",
              "      <td>15.30</td>\n",
              "    </tr>\n",
              "    <tr>\n",
              "      <th>1</th>\n",
              "      <td>536365</td>\n",
              "      <td>12/1/10 8:26</td>\n",
              "      <td>17850.0</td>\n",
              "      <td>20.34</td>\n",
              "    </tr>\n",
              "  </tbody>\n",
              "</table>\n",
              "</div>"
            ],
            "text/plain": [
              "  InvoiceNo   InvoiceDate  CustomerID  Total\n",
              "0    536365  12/1/10 8:26     17850.0  15.30\n",
              "1    536365  12/1/10 8:26     17850.0  20.34"
            ]
          },
          "execution_count": 97,
          "metadata": {},
          "output_type": "execute_result"
        }
      ],
      "source": [
        "df10.head(2)"
      ]
    },
    {
      "cell_type": "code",
      "execution_count": 98,
      "id": "cfda133d",
      "metadata": {
        "id": "cfda133d",
        "outputId": "2e7027e7-68c9-4101-ebe1-774780c66e5d"
      },
      "outputs": [
        {
          "name": "stdout",
          "output_type": "stream",
          "text": [
            "<class 'pandas.core.frame.DataFrame'>\n",
            "RangeIndex: 541909 entries, 0 to 541908\n",
            "Data columns (total 4 columns):\n",
            " #   Column       Non-Null Count   Dtype  \n",
            "---  ------       --------------   -----  \n",
            " 0   InvoiceNo    541909 non-null  object \n",
            " 1   InvoiceDate  541909 non-null  object \n",
            " 2   CustomerID   406829 non-null  float64\n",
            " 3   Total        541909 non-null  float64\n",
            "dtypes: float64(2), object(2)\n",
            "memory usage: 16.5+ MB\n"
          ]
        }
      ],
      "source": [
        "df10.info()"
      ]
    },
    {
      "cell_type": "code",
      "execution_count": 99,
      "id": "be87ed1c",
      "metadata": {
        "id": "be87ed1c"
      },
      "outputs": [],
      "source": [
        "import datetime as dt"
      ]
    },
    {
      "cell_type": "code",
      "execution_count": 100,
      "id": "00aa9719",
      "metadata": {
        "id": "00aa9719"
      },
      "outputs": [],
      "source": [
        "\"\"\"#Extraction of day\n",
        "df10[\"Day\"]=df10[\"InvoiceDate\"].dt.day_name()\"\"\"\n",
        "\n",
        "\n",
        "# Convert 'InvoiceDate' column to datetime\n",
        "df10['InvoiceDate'] = pd.to_datetime(df10['InvoiceDate'])\n",
        "\n",
        "# Extract day name\n",
        "df10[\"Day\"] = df10[\"InvoiceDate\"].dt.day_name()\n"
      ]
    },
    {
      "cell_type": "code",
      "execution_count": 101,
      "id": "29631606",
      "metadata": {
        "id": "29631606",
        "outputId": "9ef5b1e4-ef47-48cc-d181-8c942a3f94fc"
      },
      "outputs": [
        {
          "data": {
            "text/html": [
              "<div>\n",
              "<style scoped>\n",
              "    .dataframe tbody tr th:only-of-type {\n",
              "        vertical-align: middle;\n",
              "    }\n",
              "\n",
              "    .dataframe tbody tr th {\n",
              "        vertical-align: top;\n",
              "    }\n",
              "\n",
              "    .dataframe thead th {\n",
              "        text-align: right;\n",
              "    }\n",
              "</style>\n",
              "<table border=\"1\" class=\"dataframe\">\n",
              "  <thead>\n",
              "    <tr style=\"text-align: right;\">\n",
              "      <th></th>\n",
              "      <th>InvoiceNo</th>\n",
              "      <th>InvoiceDate</th>\n",
              "      <th>CustomerID</th>\n",
              "      <th>Total</th>\n",
              "      <th>Day</th>\n",
              "    </tr>\n",
              "  </thead>\n",
              "  <tbody>\n",
              "    <tr>\n",
              "      <th>0</th>\n",
              "      <td>536365</td>\n",
              "      <td>2010-12-01 08:26:00</td>\n",
              "      <td>17850.0</td>\n",
              "      <td>15.30</td>\n",
              "      <td>Wednesday</td>\n",
              "    </tr>\n",
              "    <tr>\n",
              "      <th>1</th>\n",
              "      <td>536365</td>\n",
              "      <td>2010-12-01 08:26:00</td>\n",
              "      <td>17850.0</td>\n",
              "      <td>20.34</td>\n",
              "      <td>Wednesday</td>\n",
              "    </tr>\n",
              "    <tr>\n",
              "      <th>2</th>\n",
              "      <td>536365</td>\n",
              "      <td>2010-12-01 08:26:00</td>\n",
              "      <td>17850.0</td>\n",
              "      <td>22.00</td>\n",
              "      <td>Wednesday</td>\n",
              "    </tr>\n",
              "    <tr>\n",
              "      <th>3</th>\n",
              "      <td>536365</td>\n",
              "      <td>2010-12-01 08:26:00</td>\n",
              "      <td>17850.0</td>\n",
              "      <td>20.34</td>\n",
              "      <td>Wednesday</td>\n",
              "    </tr>\n",
              "    <tr>\n",
              "      <th>4</th>\n",
              "      <td>536365</td>\n",
              "      <td>2010-12-01 08:26:00</td>\n",
              "      <td>17850.0</td>\n",
              "      <td>20.34</td>\n",
              "      <td>Wednesday</td>\n",
              "    </tr>\n",
              "  </tbody>\n",
              "</table>\n",
              "</div>"
            ],
            "text/plain": [
              "  InvoiceNo         InvoiceDate  CustomerID  Total        Day\n",
              "0    536365 2010-12-01 08:26:00     17850.0  15.30  Wednesday\n",
              "1    536365 2010-12-01 08:26:00     17850.0  20.34  Wednesday\n",
              "2    536365 2010-12-01 08:26:00     17850.0  22.00  Wednesday\n",
              "3    536365 2010-12-01 08:26:00     17850.0  20.34  Wednesday\n",
              "4    536365 2010-12-01 08:26:00     17850.0  20.34  Wednesday"
            ]
          },
          "execution_count": 101,
          "metadata": {},
          "output_type": "execute_result"
        }
      ],
      "source": [
        "df10.head()"
      ]
    },
    {
      "cell_type": "code",
      "execution_count": 102,
      "id": "cde440f0",
      "metadata": {
        "id": "cde440f0",
        "outputId": "77fcbf15-61e6-45ee-e7ca-1c0cc63804ad"
      },
      "outputs": [
        {
          "data": {
            "text/plain": [
              "Thursday     103857\n",
              "Tuesday      101808\n",
              "Monday        95111\n",
              "Wednesday     94565\n",
              "Friday        82193\n",
              "Sunday        64375\n",
              "Name: Day, dtype: int64"
            ]
          },
          "execution_count": 102,
          "metadata": {},
          "output_type": "execute_result"
        }
      ],
      "source": [
        "df10[\"Day\"].value_counts()"
      ]
    },
    {
      "cell_type": "code",
      "execution_count": 103,
      "id": "c38664b8",
      "metadata": {
        "id": "c38664b8"
      },
      "outputs": [],
      "source": [
        "#Extraction of Month\n",
        "\n",
        "df10[\"Month\"]=df10[\"InvoiceDate\"].dt.month\n"
      ]
    },
    {
      "cell_type": "code",
      "execution_count": 104,
      "id": "c692ba30",
      "metadata": {
        "id": "c692ba30"
      },
      "outputs": [],
      "source": [
        "#Extraction of Hour\n",
        "df10[\"Hour\"]=df10[\"InvoiceDate\"].dt.hour"
      ]
    },
    {
      "cell_type": "code",
      "execution_count": 105,
      "id": "cbe76a88",
      "metadata": {
        "id": "cbe76a88",
        "outputId": "9ddf7dc4-648f-4302-f604-e7c0a7f8b85c"
      },
      "outputs": [
        {
          "data": {
            "text/html": [
              "<div>\n",
              "<style scoped>\n",
              "    .dataframe tbody tr th:only-of-type {\n",
              "        vertical-align: middle;\n",
              "    }\n",
              "\n",
              "    .dataframe tbody tr th {\n",
              "        vertical-align: top;\n",
              "    }\n",
              "\n",
              "    .dataframe thead th {\n",
              "        text-align: right;\n",
              "    }\n",
              "</style>\n",
              "<table border=\"1\" class=\"dataframe\">\n",
              "  <thead>\n",
              "    <tr style=\"text-align: right;\">\n",
              "      <th></th>\n",
              "      <th>InvoiceNo</th>\n",
              "      <th>InvoiceDate</th>\n",
              "      <th>CustomerID</th>\n",
              "      <th>Total</th>\n",
              "      <th>Day</th>\n",
              "      <th>Month</th>\n",
              "      <th>Hour</th>\n",
              "    </tr>\n",
              "  </thead>\n",
              "  <tbody>\n",
              "    <tr>\n",
              "      <th>0</th>\n",
              "      <td>536365</td>\n",
              "      <td>2010-12-01 08:26:00</td>\n",
              "      <td>17850.0</td>\n",
              "      <td>15.30</td>\n",
              "      <td>Wednesday</td>\n",
              "      <td>12</td>\n",
              "      <td>8</td>\n",
              "    </tr>\n",
              "    <tr>\n",
              "      <th>1</th>\n",
              "      <td>536365</td>\n",
              "      <td>2010-12-01 08:26:00</td>\n",
              "      <td>17850.0</td>\n",
              "      <td>20.34</td>\n",
              "      <td>Wednesday</td>\n",
              "      <td>12</td>\n",
              "      <td>8</td>\n",
              "    </tr>\n",
              "    <tr>\n",
              "      <th>2</th>\n",
              "      <td>536365</td>\n",
              "      <td>2010-12-01 08:26:00</td>\n",
              "      <td>17850.0</td>\n",
              "      <td>22.00</td>\n",
              "      <td>Wednesday</td>\n",
              "      <td>12</td>\n",
              "      <td>8</td>\n",
              "    </tr>\n",
              "    <tr>\n",
              "      <th>3</th>\n",
              "      <td>536365</td>\n",
              "      <td>2010-12-01 08:26:00</td>\n",
              "      <td>17850.0</td>\n",
              "      <td>20.34</td>\n",
              "      <td>Wednesday</td>\n",
              "      <td>12</td>\n",
              "      <td>8</td>\n",
              "    </tr>\n",
              "    <tr>\n",
              "      <th>4</th>\n",
              "      <td>536365</td>\n",
              "      <td>2010-12-01 08:26:00</td>\n",
              "      <td>17850.0</td>\n",
              "      <td>20.34</td>\n",
              "      <td>Wednesday</td>\n",
              "      <td>12</td>\n",
              "      <td>8</td>\n",
              "    </tr>\n",
              "  </tbody>\n",
              "</table>\n",
              "</div>"
            ],
            "text/plain": [
              "  InvoiceNo         InvoiceDate  CustomerID  Total        Day  Month  Hour\n",
              "0    536365 2010-12-01 08:26:00     17850.0  15.30  Wednesday     12     8\n",
              "1    536365 2010-12-01 08:26:00     17850.0  20.34  Wednesday     12     8\n",
              "2    536365 2010-12-01 08:26:00     17850.0  22.00  Wednesday     12     8\n",
              "3    536365 2010-12-01 08:26:00     17850.0  20.34  Wednesday     12     8\n",
              "4    536365 2010-12-01 08:26:00     17850.0  20.34  Wednesday     12     8"
            ]
          },
          "execution_count": 105,
          "metadata": {},
          "output_type": "execute_result"
        }
      ],
      "source": [
        "df10.head()"
      ]
    },
    {
      "cell_type": "code",
      "execution_count": 106,
      "id": "585395f9",
      "metadata": {
        "id": "585395f9"
      },
      "outputs": [],
      "source": [
        "# creation of season on the basis of month"
      ]
    },
    {
      "cell_type": "code",
      "execution_count": 107,
      "id": "49847a88",
      "metadata": {
        "id": "49847a88"
      },
      "outputs": [],
      "source": [
        "def cal_season(x):\n",
        "    if x in [10,11,12,1]:\n",
        "        return \"Winter\"\n",
        "    if x in [2,3]:\n",
        "        return \"Spring\"\n",
        "    if x in [4,5,6]:\n",
        "        return \"Summer\"\n",
        "    else:\n",
        "        return \"Monsoon\""
      ]
    },
    {
      "cell_type": "code",
      "execution_count": 108,
      "id": "81899761",
      "metadata": {
        "id": "81899761"
      },
      "outputs": [],
      "source": [
        "# creation of timing on the basis of hour"
      ]
    },
    {
      "cell_type": "code",
      "execution_count": 109,
      "id": "ca250f05",
      "metadata": {
        "id": "ca250f05"
      },
      "outputs": [],
      "source": [
        "def cal_timing(x):\n",
        "    if x in range(0,5):\n",
        "        return \"early morning\"\n",
        "    if x in range(5,11):\n",
        "        return \"Morning\"\n",
        "    if x in range(11,16):\n",
        "        return \"afternoon\"\n",
        "    else:\n",
        "        return \"evening\""
      ]
    },
    {
      "cell_type": "code",
      "execution_count": 110,
      "id": "37fde119",
      "metadata": {
        "id": "37fde119"
      },
      "outputs": [],
      "source": [
        "df10[\"season\"]=df10[\"Month\"].apply(cal_season)"
      ]
    },
    {
      "cell_type": "code",
      "execution_count": 111,
      "id": "ae8b5a21",
      "metadata": {
        "id": "ae8b5a21"
      },
      "outputs": [],
      "source": [
        "df10[\"timing\"]=df10[\"Hour\"].apply(cal_timing)"
      ]
    },
    {
      "cell_type": "code",
      "execution_count": 112,
      "id": "f5719919",
      "metadata": {
        "id": "f5719919",
        "outputId": "2e608af7-9702-428b-cab4-58b85c6a4160"
      },
      "outputs": [
        {
          "data": {
            "text/html": [
              "<div>\n",
              "<style scoped>\n",
              "    .dataframe tbody tr th:only-of-type {\n",
              "        vertical-align: middle;\n",
              "    }\n",
              "\n",
              "    .dataframe tbody tr th {\n",
              "        vertical-align: top;\n",
              "    }\n",
              "\n",
              "    .dataframe thead th {\n",
              "        text-align: right;\n",
              "    }\n",
              "</style>\n",
              "<table border=\"1\" class=\"dataframe\">\n",
              "  <thead>\n",
              "    <tr style=\"text-align: right;\">\n",
              "      <th></th>\n",
              "      <th>InvoiceNo</th>\n",
              "      <th>InvoiceDate</th>\n",
              "      <th>CustomerID</th>\n",
              "      <th>Total</th>\n",
              "      <th>Day</th>\n",
              "      <th>Month</th>\n",
              "      <th>Hour</th>\n",
              "      <th>season</th>\n",
              "      <th>timing</th>\n",
              "    </tr>\n",
              "  </thead>\n",
              "  <tbody>\n",
              "    <tr>\n",
              "      <th>0</th>\n",
              "      <td>536365</td>\n",
              "      <td>2010-12-01 08:26:00</td>\n",
              "      <td>17850.0</td>\n",
              "      <td>15.30</td>\n",
              "      <td>Wednesday</td>\n",
              "      <td>12</td>\n",
              "      <td>8</td>\n",
              "      <td>Winter</td>\n",
              "      <td>Morning</td>\n",
              "    </tr>\n",
              "    <tr>\n",
              "      <th>1</th>\n",
              "      <td>536365</td>\n",
              "      <td>2010-12-01 08:26:00</td>\n",
              "      <td>17850.0</td>\n",
              "      <td>20.34</td>\n",
              "      <td>Wednesday</td>\n",
              "      <td>12</td>\n",
              "      <td>8</td>\n",
              "      <td>Winter</td>\n",
              "      <td>Morning</td>\n",
              "    </tr>\n",
              "    <tr>\n",
              "      <th>2</th>\n",
              "      <td>536365</td>\n",
              "      <td>2010-12-01 08:26:00</td>\n",
              "      <td>17850.0</td>\n",
              "      <td>22.00</td>\n",
              "      <td>Wednesday</td>\n",
              "      <td>12</td>\n",
              "      <td>8</td>\n",
              "      <td>Winter</td>\n",
              "      <td>Morning</td>\n",
              "    </tr>\n",
              "    <tr>\n",
              "      <th>3</th>\n",
              "      <td>536365</td>\n",
              "      <td>2010-12-01 08:26:00</td>\n",
              "      <td>17850.0</td>\n",
              "      <td>20.34</td>\n",
              "      <td>Wednesday</td>\n",
              "      <td>12</td>\n",
              "      <td>8</td>\n",
              "      <td>Winter</td>\n",
              "      <td>Morning</td>\n",
              "    </tr>\n",
              "    <tr>\n",
              "      <th>4</th>\n",
              "      <td>536365</td>\n",
              "      <td>2010-12-01 08:26:00</td>\n",
              "      <td>17850.0</td>\n",
              "      <td>20.34</td>\n",
              "      <td>Wednesday</td>\n",
              "      <td>12</td>\n",
              "      <td>8</td>\n",
              "      <td>Winter</td>\n",
              "      <td>Morning</td>\n",
              "    </tr>\n",
              "  </tbody>\n",
              "</table>\n",
              "</div>"
            ],
            "text/plain": [
              "  InvoiceNo         InvoiceDate  CustomerID  Total        Day  Month  Hour  \\\n",
              "0    536365 2010-12-01 08:26:00     17850.0  15.30  Wednesday     12     8   \n",
              "1    536365 2010-12-01 08:26:00     17850.0  20.34  Wednesday     12     8   \n",
              "2    536365 2010-12-01 08:26:00     17850.0  22.00  Wednesday     12     8   \n",
              "3    536365 2010-12-01 08:26:00     17850.0  20.34  Wednesday     12     8   \n",
              "4    536365 2010-12-01 08:26:00     17850.0  20.34  Wednesday     12     8   \n",
              "\n",
              "   season   timing  \n",
              "0  Winter  Morning  \n",
              "1  Winter  Morning  \n",
              "2  Winter  Morning  \n",
              "3  Winter  Morning  \n",
              "4  Winter  Morning  "
            ]
          },
          "execution_count": 112,
          "metadata": {},
          "output_type": "execute_result"
        }
      ],
      "source": [
        "df10.head()"
      ]
    },
    {
      "cell_type": "code",
      "execution_count": 113,
      "id": "e39f77a7",
      "metadata": {
        "id": "e39f77a7",
        "outputId": "6976fdab-0833-480b-dbdc-f8320d5ddb70"
      },
      "outputs": [
        {
          "data": {
            "text/plain": [
              "(541909, 9)"
            ]
          },
          "execution_count": 113,
          "metadata": {},
          "output_type": "execute_result"
        }
      ],
      "source": [
        "df10.shape"
      ]
    },
    {
      "cell_type": "code",
      "execution_count": 114,
      "id": "e7769dcc",
      "metadata": {
        "id": "e7769dcc",
        "outputId": "4184e68c-7308-4638-8226-b688b1c28a57"
      },
      "outputs": [
        {
          "data": {
            "text/plain": [
              "Winter     248606\n",
              "Monsoon    125028\n",
              "Summer     103820\n",
              "Spring      64455\n",
              "Name: season, dtype: int64"
            ]
          },
          "execution_count": 114,
          "metadata": {},
          "output_type": "execute_result"
        }
      ],
      "source": [
        "df10[\"season\"].value_counts()"
      ]
    },
    {
      "cell_type": "code",
      "execution_count": 115,
      "id": "fc7007e0",
      "metadata": {
        "id": "fc7007e0",
        "outputId": "cea248d3-1b2a-411b-acf0-790081ca6e9f"
      },
      "outputs": [
        {
          "data": {
            "text/plain": [
              "afternoon    353632\n",
              "evening       95575\n",
              "Morning       92702\n",
              "Name: timing, dtype: int64"
            ]
          },
          "execution_count": 115,
          "metadata": {},
          "output_type": "execute_result"
        }
      ],
      "source": [
        "df10[\"timing\"].value_counts()"
      ]
    },
    {
      "cell_type": "code",
      "execution_count": 116,
      "id": "f248d1b5",
      "metadata": {
        "id": "f248d1b5"
      },
      "outputs": [],
      "source": [
        "# create a weekend column"
      ]
    },
    {
      "cell_type": "code",
      "execution_count": 117,
      "id": "1c8f9003",
      "metadata": {
        "id": "1c8f9003"
      },
      "outputs": [],
      "source": [
        "df10[\"Weekend\"]=np.where((df10.Day==\"Saturday\")|(df10.Day==\"Sunday\"),\"Weekend\",\"Weekday\")"
      ]
    },
    {
      "cell_type": "code",
      "execution_count": 118,
      "id": "75f4eb5d",
      "metadata": {
        "id": "75f4eb5d",
        "outputId": "01a9dbba-2d31-4a16-ae91-ce25bd308877"
      },
      "outputs": [
        {
          "data": {
            "text/html": [
              "<div>\n",
              "<style scoped>\n",
              "    .dataframe tbody tr th:only-of-type {\n",
              "        vertical-align: middle;\n",
              "    }\n",
              "\n",
              "    .dataframe tbody tr th {\n",
              "        vertical-align: top;\n",
              "    }\n",
              "\n",
              "    .dataframe thead th {\n",
              "        text-align: right;\n",
              "    }\n",
              "</style>\n",
              "<table border=\"1\" class=\"dataframe\">\n",
              "  <thead>\n",
              "    <tr style=\"text-align: right;\">\n",
              "      <th></th>\n",
              "      <th>InvoiceNo</th>\n",
              "      <th>InvoiceDate</th>\n",
              "      <th>CustomerID</th>\n",
              "      <th>Total</th>\n",
              "      <th>Day</th>\n",
              "      <th>Month</th>\n",
              "      <th>Hour</th>\n",
              "      <th>season</th>\n",
              "      <th>timing</th>\n",
              "      <th>Weekend</th>\n",
              "    </tr>\n",
              "  </thead>\n",
              "  <tbody>\n",
              "    <tr>\n",
              "      <th>0</th>\n",
              "      <td>536365</td>\n",
              "      <td>2010-12-01 08:26:00</td>\n",
              "      <td>17850.0</td>\n",
              "      <td>15.30</td>\n",
              "      <td>Wednesday</td>\n",
              "      <td>12</td>\n",
              "      <td>8</td>\n",
              "      <td>Winter</td>\n",
              "      <td>Morning</td>\n",
              "      <td>Weekday</td>\n",
              "    </tr>\n",
              "    <tr>\n",
              "      <th>1</th>\n",
              "      <td>536365</td>\n",
              "      <td>2010-12-01 08:26:00</td>\n",
              "      <td>17850.0</td>\n",
              "      <td>20.34</td>\n",
              "      <td>Wednesday</td>\n",
              "      <td>12</td>\n",
              "      <td>8</td>\n",
              "      <td>Winter</td>\n",
              "      <td>Morning</td>\n",
              "      <td>Weekday</td>\n",
              "    </tr>\n",
              "  </tbody>\n",
              "</table>\n",
              "</div>"
            ],
            "text/plain": [
              "  InvoiceNo         InvoiceDate  CustomerID  Total        Day  Month  Hour  \\\n",
              "0    536365 2010-12-01 08:26:00     17850.0  15.30  Wednesday     12     8   \n",
              "1    536365 2010-12-01 08:26:00     17850.0  20.34  Wednesday     12     8   \n",
              "\n",
              "   season   timing  Weekend  \n",
              "0  Winter  Morning  Weekday  \n",
              "1  Winter  Morning  Weekday  "
            ]
          },
          "execution_count": 118,
          "metadata": {},
          "output_type": "execute_result"
        }
      ],
      "source": [
        "df10.head(2)"
      ]
    },
    {
      "cell_type": "code",
      "execution_count": 119,
      "id": "d93348a5",
      "metadata": {
        "id": "d93348a5"
      },
      "outputs": [],
      "source": [
        "df10[\"Month_name\"]=df10[\"InvoiceDate\"].dt.month_name()"
      ]
    },
    {
      "cell_type": "code",
      "execution_count": 120,
      "id": "22cace1f",
      "metadata": {
        "id": "22cace1f",
        "outputId": "bdc3c589-0ba0-4642-d037-89a7c62a0fb2"
      },
      "outputs": [
        {
          "data": {
            "text/html": [
              "<div>\n",
              "<style scoped>\n",
              "    .dataframe tbody tr th:only-of-type {\n",
              "        vertical-align: middle;\n",
              "    }\n",
              "\n",
              "    .dataframe tbody tr th {\n",
              "        vertical-align: top;\n",
              "    }\n",
              "\n",
              "    .dataframe thead th {\n",
              "        text-align: right;\n",
              "    }\n",
              "</style>\n",
              "<table border=\"1\" class=\"dataframe\">\n",
              "  <thead>\n",
              "    <tr style=\"text-align: right;\">\n",
              "      <th></th>\n",
              "      <th>InvoiceNo</th>\n",
              "      <th>InvoiceDate</th>\n",
              "      <th>CustomerID</th>\n",
              "      <th>Total</th>\n",
              "      <th>Day</th>\n",
              "      <th>Month</th>\n",
              "      <th>Hour</th>\n",
              "      <th>season</th>\n",
              "      <th>timing</th>\n",
              "      <th>Weekend</th>\n",
              "      <th>Month_name</th>\n",
              "    </tr>\n",
              "  </thead>\n",
              "  <tbody>\n",
              "    <tr>\n",
              "      <th>0</th>\n",
              "      <td>536365</td>\n",
              "      <td>2010-12-01 08:26:00</td>\n",
              "      <td>17850.0</td>\n",
              "      <td>15.30</td>\n",
              "      <td>Wednesday</td>\n",
              "      <td>12</td>\n",
              "      <td>8</td>\n",
              "      <td>Winter</td>\n",
              "      <td>Morning</td>\n",
              "      <td>Weekday</td>\n",
              "      <td>December</td>\n",
              "    </tr>\n",
              "    <tr>\n",
              "      <th>1</th>\n",
              "      <td>536365</td>\n",
              "      <td>2010-12-01 08:26:00</td>\n",
              "      <td>17850.0</td>\n",
              "      <td>20.34</td>\n",
              "      <td>Wednesday</td>\n",
              "      <td>12</td>\n",
              "      <td>8</td>\n",
              "      <td>Winter</td>\n",
              "      <td>Morning</td>\n",
              "      <td>Weekday</td>\n",
              "      <td>December</td>\n",
              "    </tr>\n",
              "  </tbody>\n",
              "</table>\n",
              "</div>"
            ],
            "text/plain": [
              "  InvoiceNo         InvoiceDate  CustomerID  Total        Day  Month  Hour  \\\n",
              "0    536365 2010-12-01 08:26:00     17850.0  15.30  Wednesday     12     8   \n",
              "1    536365 2010-12-01 08:26:00     17850.0  20.34  Wednesday     12     8   \n",
              "\n",
              "   season   timing  Weekend Month_name  \n",
              "0  Winter  Morning  Weekday   December  \n",
              "1  Winter  Morning  Weekday   December  "
            ]
          },
          "execution_count": 120,
          "metadata": {},
          "output_type": "execute_result"
        }
      ],
      "source": [
        "df10.head(2)"
      ]
    },
    {
      "cell_type": "code",
      "execution_count": 121,
      "id": "5e8cebed",
      "metadata": {
        "id": "5e8cebed"
      },
      "outputs": [],
      "source": [
        "# analysing the most busy day"
      ]
    },
    {
      "cell_type": "code",
      "execution_count": 122,
      "id": "52d8dc05",
      "metadata": {
        "id": "52d8dc05"
      },
      "outputs": [],
      "source": [
        "day_count=df10.groupby(\"Day\")[\"InvoiceNo\"].count().to_frame(\"no.of invoices\").reset_index()"
      ]
    },
    {
      "cell_type": "code",
      "execution_count": 123,
      "id": "a8089dd3",
      "metadata": {
        "id": "a8089dd3",
        "outputId": "f490cb6b-eefe-4183-a53e-5babed75b8a3"
      },
      "outputs": [
        {
          "data": {
            "text/html": [
              "<div>\n",
              "<style scoped>\n",
              "    .dataframe tbody tr th:only-of-type {\n",
              "        vertical-align: middle;\n",
              "    }\n",
              "\n",
              "    .dataframe tbody tr th {\n",
              "        vertical-align: top;\n",
              "    }\n",
              "\n",
              "    .dataframe thead th {\n",
              "        text-align: right;\n",
              "    }\n",
              "</style>\n",
              "<table border=\"1\" class=\"dataframe\">\n",
              "  <thead>\n",
              "    <tr style=\"text-align: right;\">\n",
              "      <th></th>\n",
              "      <th>Day</th>\n",
              "      <th>no.of invoices</th>\n",
              "    </tr>\n",
              "  </thead>\n",
              "  <tbody>\n",
              "    <tr>\n",
              "      <th>0</th>\n",
              "      <td>Friday</td>\n",
              "      <td>82193</td>\n",
              "    </tr>\n",
              "    <tr>\n",
              "      <th>1</th>\n",
              "      <td>Monday</td>\n",
              "      <td>95111</td>\n",
              "    </tr>\n",
              "    <tr>\n",
              "      <th>2</th>\n",
              "      <td>Sunday</td>\n",
              "      <td>64375</td>\n",
              "    </tr>\n",
              "    <tr>\n",
              "      <th>3</th>\n",
              "      <td>Thursday</td>\n",
              "      <td>103857</td>\n",
              "    </tr>\n",
              "    <tr>\n",
              "      <th>4</th>\n",
              "      <td>Tuesday</td>\n",
              "      <td>101808</td>\n",
              "    </tr>\n",
              "    <tr>\n",
              "      <th>5</th>\n",
              "      <td>Wednesday</td>\n",
              "      <td>94565</td>\n",
              "    </tr>\n",
              "  </tbody>\n",
              "</table>\n",
              "</div>"
            ],
            "text/plain": [
              "         Day  no.of invoices\n",
              "0     Friday           82193\n",
              "1     Monday           95111\n",
              "2     Sunday           64375\n",
              "3   Thursday          103857\n",
              "4    Tuesday          101808\n",
              "5  Wednesday           94565"
            ]
          },
          "execution_count": 123,
          "metadata": {},
          "output_type": "execute_result"
        }
      ],
      "source": [
        "day_count"
      ]
    },
    {
      "cell_type": "code",
      "execution_count": 124,
      "id": "cc6ae1ef",
      "metadata": {
        "id": "cc6ae1ef"
      },
      "outputs": [],
      "source": [
        "#creation of pieplot"
      ]
    },
    {
      "cell_type": "code",
      "execution_count": 125,
      "id": "8bdd078d",
      "metadata": {
        "id": "8bdd078d",
        "outputId": "57b51712-bfc3-45d6-8fa4-2a58409f7317"
      },
      "outputs": [
        {
          "data": {
            "image/png": "[encoded data removed]",
            "text/plain": [
              "<Figure size 640x480 with 1 Axes>"
            ]
          },
          "metadata": {},
          "output_type": "display_data"
        }
      ],
      "source": [
        "plt.pie(day_count[\"no.of invoices\"],labels=day_count[\"Day\"],autopct=\"%.1f%%\")\n",
        "plt.show()"
      ]
    },
    {
      "cell_type": "code",
      "execution_count": 126,
      "id": "a2893103",
      "metadata": {
        "id": "a2893103",
        "outputId": "c21bfb63-a04a-4269-ba24-abf2b5245bcf"
      },
      "outputs": [
        {
          "data": {
            "text/plain": [
              "<AxesSubplot:xlabel='Day', ylabel='no.of invoices'>"
            ]
          },
          "execution_count": 126,
          "metadata": {},
          "output_type": "execute_result"
        },
        {
          "data": {
            "image/png": "[encoded data removed]",
            "text/plain": [
              "<Figure size 640x480 with 1 Axes>"
            ]
          },
          "metadata": {},
          "output_type": "display_data"
        }
      ],
      "source": [
        "sns.barplot(x=day_count.Day,y=day_count[\"no.of invoices\"])"
      ]
    },
    {
      "cell_type": "code",
      "execution_count": 127,
      "id": "750e2cae",
      "metadata": {
        "id": "750e2cae"
      },
      "outputs": [],
      "source": [
        "season_count=df10.groupby(\"season\")[\"InvoiceNo\"].count().to_frame(\"no.of invoices\").reset_index()"
      ]
    },
    {
      "cell_type": "code",
      "execution_count": 128,
      "id": "7b584a6d",
      "metadata": {
        "id": "7b584a6d",
        "outputId": "2e1dc653-1508-4604-d255-004aba90302b"
      },
      "outputs": [
        {
          "data": {
            "text/html": [
              "<div>\n",
              "<style scoped>\n",
              "    .dataframe tbody tr th:only-of-type {\n",
              "        vertical-align: middle;\n",
              "    }\n",
              "\n",
              "    .dataframe tbody tr th {\n",
              "        vertical-align: top;\n",
              "    }\n",
              "\n",
              "    .dataframe thead th {\n",
              "        text-align: right;\n",
              "    }\n",
              "</style>\n",
              "<table border=\"1\" class=\"dataframe\">\n",
              "  <thead>\n",
              "    <tr style=\"text-align: right;\">\n",
              "      <th></th>\n",
              "      <th>season</th>\n",
              "      <th>no.of invoices</th>\n",
              "    </tr>\n",
              "  </thead>\n",
              "  <tbody>\n",
              "    <tr>\n",
              "      <th>0</th>\n",
              "      <td>Monsoon</td>\n",
              "      <td>125028</td>\n",
              "    </tr>\n",
              "    <tr>\n",
              "      <th>1</th>\n",
              "      <td>Spring</td>\n",
              "      <td>64455</td>\n",
              "    </tr>\n",
              "    <tr>\n",
              "      <th>2</th>\n",
              "      <td>Summer</td>\n",
              "      <td>103820</td>\n",
              "    </tr>\n",
              "    <tr>\n",
              "      <th>3</th>\n",
              "      <td>Winter</td>\n",
              "      <td>248606</td>\n",
              "    </tr>\n",
              "  </tbody>\n",
              "</table>\n",
              "</div>"
            ],
            "text/plain": [
              "    season  no.of invoices\n",
              "0  Monsoon          125028\n",
              "1   Spring           64455\n",
              "2   Summer          103820\n",
              "3   Winter          248606"
            ]
          },
          "execution_count": 128,
          "metadata": {},
          "output_type": "execute_result"
        }
      ],
      "source": [
        "season_count"
      ]
    },
    {
      "cell_type": "code",
      "execution_count": 129,
      "id": "f251cf57",
      "metadata": {
        "id": "f251cf57",
        "outputId": "7a0cc9b8-e779-42d9-ea00-341bca412871"
      },
      "outputs": [
        {
          "data": {
            "image/png": "[encoded data removed]",
            "text/plain": [
              "<Figure size 640x480 with 1 Axes>"
            ]
          },
          "metadata": {},
          "output_type": "display_data"
        }
      ],
      "source": [
        "plt.pie(season_count[\"no.of invoices\"],labels=season_count[\"season\"],autopct=\"%.1f%%\")\n",
        "plt.show()"
      ]
    },
    {
      "cell_type": "code",
      "execution_count": 130,
      "id": "017a5f32",
      "metadata": {
        "id": "017a5f32",
        "outputId": "9bfba05c-8822-4039-f024-8afbb482e2b3"
      },
      "outputs": [
        {
          "data": {
            "text/plain": [
              "<AxesSubplot:xlabel='season', ylabel='no.of invoices'>"
            ]
          },
          "execution_count": 130,
          "metadata": {},
          "output_type": "execute_result"
        },
        {
          "data": {
            "image/png": "[encoded data removed]",
            "text/plain": [
              "<Figure size 640x480 with 1 Axes>"
            ]
          },
          "metadata": {},
          "output_type": "display_data"
        }
      ],
      "source": [
        "sns.barplot(x=season_count.season,y=season_count[\"no.of invoices\"])"
      ]
    },
    {
      "cell_type": "code",
      "execution_count": 131,
      "id": "f8faba79",
      "metadata": {
        "id": "f8faba79"
      },
      "outputs": [],
      "source": [
        "# Time series Revenue"
      ]
    },
    {
      "cell_type": "code",
      "execution_count": 132,
      "id": "355fb68e",
      "metadata": {
        "id": "355fb68e",
        "outputId": "c5615338-77da-4182-8118-3b2db04199b7"
      },
      "outputs": [
        {
          "data": {
            "text/plain": [
              "0    15.30\n",
              "1    20.34\n",
              "2    22.00\n",
              "3    20.34\n",
              "4    20.34\n",
              "Name: Total, dtype: float64"
            ]
          },
          "execution_count": 132,
          "metadata": {},
          "output_type": "execute_result"
        }
      ],
      "source": [
        "df10[\"Total\"].head()"
      ]
    },
    {
      "cell_type": "code",
      "execution_count": 133,
      "id": "cc7e4dcc",
      "metadata": {
        "id": "cc7e4dcc"
      },
      "outputs": [],
      "source": [
        "monthly_revenue=df10.set_index(\"InvoiceDate\")[\"Total\"].resample(\"M\").sum()"
      ]
    },
    {
      "cell_type": "code",
      "execution_count": 134,
      "id": "4e394096",
      "metadata": {
        "id": "4e394096",
        "outputId": "1645eba7-15ab-44ea-934b-06b7692b65d6"
      },
      "outputs": [
        {
          "data": {
            "text/plain": [
              "InvoiceDate\n",
              "2010-12-31     748957.020\n",
              "2011-01-31     560000.260\n",
              "2011-02-28     498062.650\n",
              "2011-03-31     683267.080\n",
              "2011-04-30     493207.121\n",
              "2011-05-31     723333.510\n",
              "2011-06-30     691123.120\n",
              "2011-07-31     681300.111\n",
              "2011-08-31     682680.510\n",
              "2011-09-30    1019687.622\n",
              "2011-10-31    1070704.670\n",
              "2011-11-30    1461756.250\n",
              "2011-12-31     433668.010\n",
              "Freq: M, Name: Total, dtype: float64"
            ]
          },
          "execution_count": 134,
          "metadata": {},
          "output_type": "execute_result"
        }
      ],
      "source": [
        "monthly_revenue"
      ]
    },
    {
      "cell_type": "code",
      "execution_count": 135,
      "id": "450cbda1",
      "metadata": {
        "id": "450cbda1",
        "outputId": "52c824f8-f779-4026-eac3-d08e8fa86c6c"
      },
      "outputs": [
        {
          "data": {
            "text/plain": [
              "([<matplotlib.axis.XTick at 0x27760b6f2c8>,\n",
              "  <matplotlib.axis.XTick at 0x27760b6fd08>,\n",
              "  <matplotlib.axis.XTick at 0x27760a50ec8>,\n",
              "  <matplotlib.axis.XTick at 0x27760a5f788>,\n",
              "  <matplotlib.axis.XTick at 0x27760a64488>,\n",
              "  <matplotlib.axis.XTick at 0x27760a67308>,\n",
              "  <matplotlib.axis.XTick at 0x27760a6c208>,\n",
              "  <matplotlib.axis.XTick at 0x27760a710c8>,\n",
              "  <matplotlib.axis.XTick at 0x27760a75408>,\n",
              "  <matplotlib.axis.XTick at 0x2776091ef88>,\n",
              "  <matplotlib.axis.XTick at 0x27760a5f348>,\n",
              "  <matplotlib.axis.XTick at 0x27760a7aa08>,\n",
              "  <matplotlib.axis.XTick at 0x27760a7c748>],\n",
              " [Text(0, 0, '12.2010'),\n",
              "  Text(1, 0, '01.2011'),\n",
              "  Text(2, 0, '02.2011'),\n",
              "  Text(3, 0, '03.2011'),\n",
              "  Text(4, 0, '04.2011'),\n",
              "  Text(5, 0, '05.2011'),\n",
              "  Text(6, 0, '06.2011'),\n",
              "  Text(7, 0, '07.2011'),\n",
              "  Text(8, 0, '08.2011'),\n",
              "  Text(9, 0, '09.2011'),\n",
              "  Text(10, 0, '10.2011'),\n",
              "  Text(11, 0, '11.2011'),\n",
              "  Text(12, 0, '12.2011')])"
            ]
          },
          "execution_count": 135,
          "metadata": {},
          "output_type": "execute_result"
        },
        {
          "data": {
            "image/png": "[encoded data removed]",
            "text/plain": [
              "<Figure size 640x480 with 1 Axes>"
            ]
          },
          "metadata": {},
          "output_type": "display_data"
        }
      ],
      "source": [
        "ax=pd.DataFrame(monthly_revenue.values).plot()\n",
        "ax.set_xlabel(\"DATE\")\n",
        "ax.set_ylabel(\"sales\")\n",
        "plt.xticks(range(len(monthly_revenue.index)),[x.strftime(\"%m.%Y\")for x in monthly_revenue.index],rotation=90)"
      ]
    },
    {
      "cell_type": "markdown",
      "id": "9b98b167",
      "metadata": {
        "id": "9b98b167"
      },
      "source": [
        "#More problem we can solve-- it will be a 10-15 days duration project\n",
        "#In ur Resume you can mention its a 3 month project\n",
        "(1)Repeat customer information\n",
        "(2)percentage of business from repeat customer\n",
        "(3)Plot business revenue graph All customer vs repeat customer\n",
        "(4)find the Customer life time valuation(LTV)\n",
        "# after the calculation of LTV , we can use this column as dependent variable.\n",
        "# we can train our model (Regression problem) for future predition of a customer--- LTV\n"
      ]
    },
    {
      "cell_type": "markdown",
      "id": "4a7d79d1",
      "metadata": {
        "id": "4a7d79d1"
      },
      "source": [
        "# Most important"
      ]
    },
    {
      "cell_type": "markdown",
      "id": "f9463e68",
      "metadata": {
        "id": "f9463e68"
      },
      "source": [
        "# Recommendation Engine"
      ]
    },
    {
      "cell_type": "markdown",
      "id": "708da207",
      "metadata": {
        "id": "708da207"
      },
      "source": [
        "-->data filteration system which operate on different ML algorithm to recommend\n",
        "product services etc.\n",
        "--> it works on the principal of finding pattern / similarity in services,\n",
        "product"
      ]
    },
    {
      "cell_type": "code",
      "execution_count": 136,
      "id": "4627b824",
      "metadata": {
        "id": "4627b824"
      },
      "outputs": [],
      "source": [
        "# NLP -- Natural language processing -- based many recommendation engine and\n",
        "#filteration approach."
      ]
    },
    {
      "cell_type": "markdown",
      "id": "59a24fc4",
      "metadata": {
        "id": "59a24fc4"
      },
      "source": [
        "Different techniques--\n",
        "\n",
        "(1)Collaborative filtering-- analyze the data -- online activities,\n",
        "product preference\n",
        "based on the similarities with other users-- it uses the matrix style formule\n",
        "# similar to correlation matrix\n",
        "it calculate the degree of similaries between two customers.\n",
        "and recommend the product, service accordingly.\n",
        "\n",
        "Amit---purchased Book A, BOOK B,BOOK C\n",
        "pRIYA --- Purchased A,B,D\n",
        "\n",
        "For Amit-- Book D will recommendation\n",
        "For Priya-  Book C will recommend\n"
      ]
    },
    {
      "cell_type": "markdown",
      "id": "88de3f58",
      "metadata": {
        "id": "88de3f58"
      },
      "source": [
        "(2)Content based--- work on the principal of describing a product."
      ]
    },
    {
      "cell_type": "markdown",
      "id": "0928e0b0",
      "metadata": {
        "id": "0928e0b0"
      },
      "source": [
        "(3)Hybrid Model--meta collaboration of Collaborative & content based filtering"
      ]
    },
    {
      "cell_type": "code",
      "execution_count": null,
      "id": "f5062a34",
      "metadata": {
        "id": "f5062a34"
      },
      "outputs": [],
      "source": []
    },
    {
      "cell_type": "code",
      "execution_count": 137,
      "id": "2bd93348",
      "metadata": {
        "id": "2bd93348"
      },
      "outputs": [],
      "source": [
        "df100=data.copy()"
      ]
    },
    {
      "cell_type": "code",
      "execution_count": 138,
      "id": "4740bf2b",
      "metadata": {
        "id": "4740bf2b",
        "outputId": "b989a106-d12a-447d-e046-1746b7aaf14a"
      },
      "outputs": [
        {
          "data": {
            "text/html": [
              "<div>\n",
              "<style scoped>\n",
              "    .dataframe tbody tr th:only-of-type {\n",
              "        vertical-align: middle;\n",
              "    }\n",
              "\n",
              "    .dataframe tbody tr th {\n",
              "        vertical-align: top;\n",
              "    }\n",
              "\n",
              "    .dataframe thead th {\n",
              "        text-align: right;\n",
              "    }\n",
              "</style>\n",
              "<table border=\"1\" class=\"dataframe\">\n",
              "  <thead>\n",
              "    <tr style=\"text-align: right;\">\n",
              "      <th></th>\n",
              "      <th>InvoiceNo</th>\n",
              "      <th>StockCode</th>\n",
              "      <th>lower</th>\n",
              "      <th>Description</th>\n",
              "      <th>Quantity</th>\n",
              "      <th>InvoiceDate</th>\n",
              "      <th>UnitPrice</th>\n",
              "      <th>CustomerID</th>\n",
              "      <th>Country</th>\n",
              "    </tr>\n",
              "  </thead>\n",
              "  <tbody>\n",
              "    <tr>\n",
              "      <th>0</th>\n",
              "      <td>536365</td>\n",
              "      <td>85123A</td>\n",
              "      <td>white hanging heart t-light holder</td>\n",
              "      <td>WHITE HANGING HEART T-LIGHT HOLDER</td>\n",
              "      <td>6</td>\n",
              "      <td>12/1/10 8:26</td>\n",
              "      <td>2.55</td>\n",
              "      <td>17850.0</td>\n",
              "      <td>United Kingdom</td>\n",
              "    </tr>\n",
              "    <tr>\n",
              "      <th>1</th>\n",
              "      <td>536365</td>\n",
              "      <td>71053</td>\n",
              "      <td>white metal lantern</td>\n",
              "      <td>WHITE METAL LANTERN</td>\n",
              "      <td>6</td>\n",
              "      <td>12/1/10 8:26</td>\n",
              "      <td>3.39</td>\n",
              "      <td>17850.0</td>\n",
              "      <td>United Kingdom</td>\n",
              "    </tr>\n",
              "    <tr>\n",
              "      <th>2</th>\n",
              "      <td>536365</td>\n",
              "      <td>84406B</td>\n",
              "      <td>cream cupid hearts coat hanger</td>\n",
              "      <td>CREAM CUPID HEARTS COAT HANGER</td>\n",
              "      <td>8</td>\n",
              "      <td>12/1/10 8:26</td>\n",
              "      <td>2.75</td>\n",
              "      <td>17850.0</td>\n",
              "      <td>United Kingdom</td>\n",
              "    </tr>\n",
              "    <tr>\n",
              "      <th>3</th>\n",
              "      <td>536365</td>\n",
              "      <td>84029G</td>\n",
              "      <td>knitted union flag hot water bottle</td>\n",
              "      <td>KNITTED UNION FLAG HOT WATER BOTTLE</td>\n",
              "      <td>6</td>\n",
              "      <td>12/1/10 8:26</td>\n",
              "      <td>3.39</td>\n",
              "      <td>17850.0</td>\n",
              "      <td>United Kingdom</td>\n",
              "    </tr>\n",
              "    <tr>\n",
              "      <th>4</th>\n",
              "      <td>536365</td>\n",
              "      <td>84029E</td>\n",
              "      <td>red woolly hottie white heart.</td>\n",
              "      <td>RED WOOLLY HOTTIE WHITE HEART.</td>\n",
              "      <td>6</td>\n",
              "      <td>12/1/10 8:26</td>\n",
              "      <td>3.39</td>\n",
              "      <td>17850.0</td>\n",
              "      <td>United Kingdom</td>\n",
              "    </tr>\n",
              "  </tbody>\n",
              "</table>\n",
              "</div>"
            ],
            "text/plain": [
              "  InvoiceNo StockCode                                lower  \\\n",
              "0    536365    85123A   white hanging heart t-light holder   \n",
              "1    536365     71053                  white metal lantern   \n",
              "2    536365    84406B       cream cupid hearts coat hanger   \n",
              "3    536365    84029G  knitted union flag hot water bottle   \n",
              "4    536365    84029E       red woolly hottie white heart.   \n",
              "\n",
              "                           Description  Quantity   InvoiceDate  UnitPrice  \\\n",
              "0   WHITE HANGING HEART T-LIGHT HOLDER         6  12/1/10 8:26       2.55   \n",
              "1                  WHITE METAL LANTERN         6  12/1/10 8:26       3.39   \n",
              "2       CREAM CUPID HEARTS COAT HANGER         8  12/1/10 8:26       2.75   \n",
              "3  KNITTED UNION FLAG HOT WATER BOTTLE         6  12/1/10 8:26       3.39   \n",
              "4       RED WOOLLY HOTTIE WHITE HEART.         6  12/1/10 8:26       3.39   \n",
              "\n",
              "   CustomerID         Country  \n",
              "0     17850.0  United Kingdom  \n",
              "1     17850.0  United Kingdom  \n",
              "2     17850.0  United Kingdom  \n",
              "3     17850.0  United Kingdom  \n",
              "4     17850.0  United Kingdom  "
            ]
          },
          "execution_count": 138,
          "metadata": {},
          "output_type": "execute_result"
        }
      ],
      "source": [
        "df100.head()"
      ]
    },
    {
      "cell_type": "code",
      "execution_count": 139,
      "id": "76f9559b",
      "metadata": {
        "id": "76f9559b",
        "outputId": "ffd54b6f-fe1b-476c-ce6b-60a34d381e2e"
      },
      "outputs": [
        {
          "data": {
            "text/plain": [
              "InvoiceNo           0\n",
              "StockCode           0\n",
              "lower          540093\n",
              "Description      1454\n",
              "Quantity            0\n",
              "InvoiceDate         0\n",
              "UnitPrice           0\n",
              "CustomerID     135080\n",
              "Country             0\n",
              "dtype: int64"
            ]
          },
          "execution_count": 139,
          "metadata": {},
          "output_type": "execute_result"
        }
      ],
      "source": [
        "df100.isnull().sum()"
      ]
    },
    {
      "cell_type": "code",
      "execution_count": 140,
      "id": "4a9e1f29",
      "metadata": {
        "id": "4a9e1f29"
      },
      "outputs": [],
      "source": [
        "df100=df100.drop([\"lower\"],axis=1)"
      ]
    },
    {
      "cell_type": "code",
      "execution_count": 141,
      "id": "831be87d",
      "metadata": {
        "id": "831be87d"
      },
      "outputs": [],
      "source": [
        "df100.dropna(axis=0,inplace=True)"
      ]
    },
    {
      "cell_type": "code",
      "execution_count": 142,
      "id": "56a7fa0c",
      "metadata": {
        "id": "56a7fa0c",
        "outputId": "9cf7433b-c1a0-49d2-bf58-b482c81b3954"
      },
      "outputs": [
        {
          "data": {
            "text/plain": [
              "(406829, 8)"
            ]
          },
          "execution_count": 142,
          "metadata": {},
          "output_type": "execute_result"
        }
      ],
      "source": [
        "df100.shape"
      ]
    },
    {
      "cell_type": "code",
      "execution_count": 143,
      "id": "d16a4591",
      "metadata": {
        "id": "d16a4591"
      },
      "outputs": [],
      "source": [
        "# cosine_similarity-- function\n",
        "# it give us the degree of similarities"
      ]
    },
    {
      "cell_type": "code",
      "execution_count": 144,
      "id": "1d13ed82",
      "metadata": {
        "id": "1d13ed82",
        "outputId": "d3b275b5-a994-458c-c0fb-fc24e8be2f21"
      },
      "outputs": [
        {
          "data": {
            "text/html": [
              "<div>\n",
              "<style scoped>\n",
              "    .dataframe tbody tr th:only-of-type {\n",
              "        vertical-align: middle;\n",
              "    }\n",
              "\n",
              "    .dataframe tbody tr th {\n",
              "        vertical-align: top;\n",
              "    }\n",
              "\n",
              "    .dataframe thead th {\n",
              "        text-align: right;\n",
              "    }\n",
              "</style>\n",
              "<table border=\"1\" class=\"dataframe\">\n",
              "  <thead>\n",
              "    <tr style=\"text-align: right;\">\n",
              "      <th></th>\n",
              "      <th>InvoiceNo</th>\n",
              "      <th>StockCode</th>\n",
              "      <th>Description</th>\n",
              "      <th>Quantity</th>\n",
              "      <th>InvoiceDate</th>\n",
              "      <th>UnitPrice</th>\n",
              "      <th>CustomerID</th>\n",
              "      <th>Country</th>\n",
              "    </tr>\n",
              "  </thead>\n",
              "  <tbody>\n",
              "    <tr>\n",
              "      <th>0</th>\n",
              "      <td>536365</td>\n",
              "      <td>85123A</td>\n",
              "      <td>WHITE HANGING HEART T-LIGHT HOLDER</td>\n",
              "      <td>6</td>\n",
              "      <td>12/1/10 8:26</td>\n",
              "      <td>2.55</td>\n",
              "      <td>17850.0</td>\n",
              "      <td>United Kingdom</td>\n",
              "    </tr>\n",
              "    <tr>\n",
              "      <th>1</th>\n",
              "      <td>536365</td>\n",
              "      <td>71053</td>\n",
              "      <td>WHITE METAL LANTERN</td>\n",
              "      <td>6</td>\n",
              "      <td>12/1/10 8:26</td>\n",
              "      <td>3.39</td>\n",
              "      <td>17850.0</td>\n",
              "      <td>United Kingdom</td>\n",
              "    </tr>\n",
              "    <tr>\n",
              "      <th>2</th>\n",
              "      <td>536365</td>\n",
              "      <td>84406B</td>\n",
              "      <td>CREAM CUPID HEARTS COAT HANGER</td>\n",
              "      <td>8</td>\n",
              "      <td>12/1/10 8:26</td>\n",
              "      <td>2.75</td>\n",
              "      <td>17850.0</td>\n",
              "      <td>United Kingdom</td>\n",
              "    </tr>\n",
              "    <tr>\n",
              "      <th>3</th>\n",
              "      <td>536365</td>\n",
              "      <td>84029G</td>\n",
              "      <td>KNITTED UNION FLAG HOT WATER BOTTLE</td>\n",
              "      <td>6</td>\n",
              "      <td>12/1/10 8:26</td>\n",
              "      <td>3.39</td>\n",
              "      <td>17850.0</td>\n",
              "      <td>United Kingdom</td>\n",
              "    </tr>\n",
              "    <tr>\n",
              "      <th>4</th>\n",
              "      <td>536365</td>\n",
              "      <td>84029E</td>\n",
              "      <td>RED WOOLLY HOTTIE WHITE HEART.</td>\n",
              "      <td>6</td>\n",
              "      <td>12/1/10 8:26</td>\n",
              "      <td>3.39</td>\n",
              "      <td>17850.0</td>\n",
              "      <td>United Kingdom</td>\n",
              "    </tr>\n",
              "  </tbody>\n",
              "</table>\n",
              "</div>"
            ],
            "text/plain": [
              "  InvoiceNo StockCode                          Description  Quantity  \\\n",
              "0    536365    85123A   WHITE HANGING HEART T-LIGHT HOLDER         6   \n",
              "1    536365     71053                  WHITE METAL LANTERN         6   \n",
              "2    536365    84406B       CREAM CUPID HEARTS COAT HANGER         8   \n",
              "3    536365    84029G  KNITTED UNION FLAG HOT WATER BOTTLE         6   \n",
              "4    536365    84029E       RED WOOLLY HOTTIE WHITE HEART.         6   \n",
              "\n",
              "    InvoiceDate  UnitPrice  CustomerID         Country  \n",
              "0  12/1/10 8:26       2.55     17850.0  United Kingdom  \n",
              "1  12/1/10 8:26       3.39     17850.0  United Kingdom  \n",
              "2  12/1/10 8:26       2.75     17850.0  United Kingdom  \n",
              "3  12/1/10 8:26       3.39     17850.0  United Kingdom  \n",
              "4  12/1/10 8:26       3.39     17850.0  United Kingdom  "
            ]
          },
          "execution_count": 144,
          "metadata": {},
          "output_type": "execute_result"
        }
      ],
      "source": [
        "df100.head()"
      ]
    },
    {
      "cell_type": "code",
      "execution_count": 145,
      "id": "071b9048",
      "metadata": {
        "id": "071b9048"
      },
      "outputs": [],
      "source": [
        "# creation of pivot_table is required--\n",
        "# We are creating customerID based Matrix\n",
        "# On this metrix we will apply the cosine similarity"
      ]
    },
    {
      "cell_type": "code",
      "execution_count": 146,
      "id": "dede2de0",
      "metadata": {
        "id": "dede2de0"
      },
      "outputs": [],
      "source": [
        "custID_matrix=df100.pivot_table(index=\"CustomerID\",columns=\"StockCode\",values=\"Quantity\",aggfunc=\"sum\")"
      ]
    },
    {
      "cell_type": "code",
      "execution_count": 147,
      "id": "ec3792e9",
      "metadata": {
        "id": "ec3792e9",
        "outputId": "b8bcc5d3-1f9a-410c-bacd-35ff37c4a86e"
      },
      "outputs": [
        {
          "data": {
            "text/html": [
              "<div>\n",
              "<style scoped>\n",
              "    .dataframe tbody tr th:only-of-type {\n",
              "        vertical-align: middle;\n",
              "    }\n",
              "\n",
              "    .dataframe tbody tr th {\n",
              "        vertical-align: top;\n",
              "    }\n",
              "\n",
              "    .dataframe thead th {\n",
              "        text-align: right;\n",
              "    }\n",
              "</style>\n",
              "<table border=\"1\" class=\"dataframe\">\n",
              "  <thead>\n",
              "    <tr style=\"text-align: right;\">\n",
              "      <th>StockCode</th>\n",
              "      <th>10002</th>\n",
              "      <th>10080</th>\n",
              "      <th>10120</th>\n",
              "      <th>10123C</th>\n",
              "      <th>10124A</th>\n",
              "      <th>10124G</th>\n",
              "      <th>10125</th>\n",
              "      <th>10133</th>\n",
              "      <th>10135</th>\n",
              "      <th>11001</th>\n",
              "      <th>...</th>\n",
              "      <th>90214Y</th>\n",
              "      <th>90214Z</th>\n",
              "      <th>BANK CHARGES</th>\n",
              "      <th>C2</th>\n",
              "      <th>CRUK</th>\n",
              "      <th>D</th>\n",
              "      <th>DOT</th>\n",
              "      <th>M</th>\n",
              "      <th>PADS</th>\n",
              "      <th>POST</th>\n",
              "    </tr>\n",
              "    <tr>\n",
              "      <th>CustomerID</th>\n",
              "      <th></th>\n",
              "      <th></th>\n",
              "      <th></th>\n",
              "      <th></th>\n",
              "      <th></th>\n",
              "      <th></th>\n",
              "      <th></th>\n",
              "      <th></th>\n",
              "      <th></th>\n",
              "      <th></th>\n",
              "      <th></th>\n",
              "      <th></th>\n",
              "      <th></th>\n",
              "      <th></th>\n",
              "      <th></th>\n",
              "      <th></th>\n",
              "      <th></th>\n",
              "      <th></th>\n",
              "      <th></th>\n",
              "      <th></th>\n",
              "      <th></th>\n",
              "    </tr>\n",
              "  </thead>\n",
              "  <tbody>\n",
              "    <tr>\n",
              "      <th>18280.0</th>\n",
              "      <td>NaN</td>\n",
              "      <td>NaN</td>\n",
              "      <td>NaN</td>\n",
              "      <td>NaN</td>\n",
              "      <td>NaN</td>\n",
              "      <td>NaN</td>\n",
              "      <td>NaN</td>\n",
              "      <td>NaN</td>\n",
              "      <td>NaN</td>\n",
              "      <td>NaN</td>\n",
              "      <td>...</td>\n",
              "      <td>NaN</td>\n",
              "      <td>NaN</td>\n",
              "      <td>NaN</td>\n",
              "      <td>NaN</td>\n",
              "      <td>NaN</td>\n",
              "      <td>NaN</td>\n",
              "      <td>NaN</td>\n",
              "      <td>NaN</td>\n",
              "      <td>NaN</td>\n",
              "      <td>NaN</td>\n",
              "    </tr>\n",
              "    <tr>\n",
              "      <th>18281.0</th>\n",
              "      <td>NaN</td>\n",
              "      <td>NaN</td>\n",
              "      <td>NaN</td>\n",
              "      <td>NaN</td>\n",
              "      <td>NaN</td>\n",
              "      <td>NaN</td>\n",
              "      <td>NaN</td>\n",
              "      <td>NaN</td>\n",
              "      <td>NaN</td>\n",
              "      <td>NaN</td>\n",
              "      <td>...</td>\n",
              "      <td>NaN</td>\n",
              "      <td>NaN</td>\n",
              "      <td>NaN</td>\n",
              "      <td>NaN</td>\n",
              "      <td>NaN</td>\n",
              "      <td>NaN</td>\n",
              "      <td>NaN</td>\n",
              "      <td>NaN</td>\n",
              "      <td>NaN</td>\n",
              "      <td>NaN</td>\n",
              "    </tr>\n",
              "    <tr>\n",
              "      <th>18282.0</th>\n",
              "      <td>NaN</td>\n",
              "      <td>NaN</td>\n",
              "      <td>NaN</td>\n",
              "      <td>NaN</td>\n",
              "      <td>NaN</td>\n",
              "      <td>NaN</td>\n",
              "      <td>NaN</td>\n",
              "      <td>NaN</td>\n",
              "      <td>NaN</td>\n",
              "      <td>NaN</td>\n",
              "      <td>...</td>\n",
              "      <td>NaN</td>\n",
              "      <td>NaN</td>\n",
              "      <td>NaN</td>\n",
              "      <td>NaN</td>\n",
              "      <td>NaN</td>\n",
              "      <td>NaN</td>\n",
              "      <td>NaN</td>\n",
              "      <td>NaN</td>\n",
              "      <td>NaN</td>\n",
              "      <td>NaN</td>\n",
              "    </tr>\n",
              "    <tr>\n",
              "      <th>18283.0</th>\n",
              "      <td>NaN</td>\n",
              "      <td>NaN</td>\n",
              "      <td>NaN</td>\n",
              "      <td>NaN</td>\n",
              "      <td>NaN</td>\n",
              "      <td>NaN</td>\n",
              "      <td>NaN</td>\n",
              "      <td>NaN</td>\n",
              "      <td>NaN</td>\n",
              "      <td>NaN</td>\n",
              "      <td>...</td>\n",
              "      <td>NaN</td>\n",
              "      <td>NaN</td>\n",
              "      <td>NaN</td>\n",
              "      <td>NaN</td>\n",
              "      <td>NaN</td>\n",
              "      <td>NaN</td>\n",
              "      <td>NaN</td>\n",
              "      <td>2.0</td>\n",
              "      <td>NaN</td>\n",
              "      <td>NaN</td>\n",
              "    </tr>\n",
              "    <tr>\n",
              "      <th>18287.0</th>\n",
              "      <td>NaN</td>\n",
              "      <td>NaN</td>\n",
              "      <td>NaN</td>\n",
              "      <td>NaN</td>\n",
              "      <td>NaN</td>\n",
              "      <td>NaN</td>\n",
              "      <td>NaN</td>\n",
              "      <td>NaN</td>\n",
              "      <td>NaN</td>\n",
              "      <td>NaN</td>\n",
              "      <td>...</td>\n",
              "      <td>NaN</td>\n",
              "      <td>NaN</td>\n",
              "      <td>NaN</td>\n",
              "      <td>NaN</td>\n",
              "      <td>NaN</td>\n",
              "      <td>NaN</td>\n",
              "      <td>NaN</td>\n",
              "      <td>NaN</td>\n",
              "      <td>NaN</td>\n",
              "      <td>NaN</td>\n",
              "    </tr>\n",
              "  </tbody>\n",
              "</table>\n",
              "<p>5 rows × 3684 columns</p>\n",
              "</div>"
            ],
            "text/plain": [
              "StockCode   10002  10080  10120  10123C  10124A  10124G  10125  10133  10135  \\\n",
              "CustomerID                                                                     \n",
              "18280.0       NaN    NaN    NaN     NaN     NaN     NaN    NaN    NaN    NaN   \n",
              "18281.0       NaN    NaN    NaN     NaN     NaN     NaN    NaN    NaN    NaN   \n",
              "18282.0       NaN    NaN    NaN     NaN     NaN     NaN    NaN    NaN    NaN   \n",
              "18283.0       NaN    NaN    NaN     NaN     NaN     NaN    NaN    NaN    NaN   \n",
              "18287.0       NaN    NaN    NaN     NaN     NaN     NaN    NaN    NaN    NaN   \n",
              "\n",
              "StockCode   11001  ...  90214Y  90214Z  BANK CHARGES  C2  CRUK   D  DOT    M  \\\n",
              "CustomerID         ...                                                         \n",
              "18280.0       NaN  ...     NaN     NaN           NaN NaN   NaN NaN  NaN  NaN   \n",
              "18281.0       NaN  ...     NaN     NaN           NaN NaN   NaN NaN  NaN  NaN   \n",
              "18282.0       NaN  ...     NaN     NaN           NaN NaN   NaN NaN  NaN  NaN   \n",
              "18283.0       NaN  ...     NaN     NaN           NaN NaN   NaN NaN  NaN  2.0   \n",
              "18287.0       NaN  ...     NaN     NaN           NaN NaN   NaN NaN  NaN  NaN   \n",
              "\n",
              "StockCode   PADS  POST  \n",
              "CustomerID              \n",
              "18280.0      NaN   NaN  \n",
              "18281.0      NaN   NaN  \n",
              "18282.0      NaN   NaN  \n",
              "18283.0      NaN   NaN  \n",
              "18287.0      NaN   NaN  \n",
              "\n",
              "[5 rows x 3684 columns]"
            ]
          },
          "execution_count": 147,
          "metadata": {},
          "output_type": "execute_result"
        }
      ],
      "source": [
        "custID_matrix.tail()"
      ]
    },
    {
      "cell_type": "code",
      "execution_count": 148,
      "id": "337374f2",
      "metadata": {
        "id": "337374f2"
      },
      "outputs": [],
      "source": [
        "custID_matrix=custID_matrix.applymap(lambda x:1 if x>0 else 0)"
      ]
    },
    {
      "cell_type": "code",
      "execution_count": 149,
      "id": "98c862ba",
      "metadata": {
        "id": "98c862ba",
        "outputId": "32a56f24-dcc9-4232-c306-670682853adb"
      },
      "outputs": [
        {
          "data": {
            "text/html": [
              "<div>\n",
              "<style scoped>\n",
              "    .dataframe tbody tr th:only-of-type {\n",
              "        vertical-align: middle;\n",
              "    }\n",
              "\n",
              "    .dataframe tbody tr th {\n",
              "        vertical-align: top;\n",
              "    }\n",
              "\n",
              "    .dataframe thead th {\n",
              "        text-align: right;\n",
              "    }\n",
              "</style>\n",
              "<table border=\"1\" class=\"dataframe\">\n",
              "  <thead>\n",
              "    <tr style=\"text-align: right;\">\n",
              "      <th>StockCode</th>\n",
              "      <th>10002</th>\n",
              "      <th>10080</th>\n",
              "      <th>10120</th>\n",
              "      <th>10123C</th>\n",
              "      <th>10124A</th>\n",
              "      <th>10124G</th>\n",
              "      <th>10125</th>\n",
              "      <th>10133</th>\n",
              "      <th>10135</th>\n",
              "      <th>11001</th>\n",
              "      <th>...</th>\n",
              "      <th>90214Y</th>\n",
              "      <th>90214Z</th>\n",
              "      <th>BANK CHARGES</th>\n",
              "      <th>C2</th>\n",
              "      <th>CRUK</th>\n",
              "      <th>D</th>\n",
              "      <th>DOT</th>\n",
              "      <th>M</th>\n",
              "      <th>PADS</th>\n",
              "      <th>POST</th>\n",
              "    </tr>\n",
              "    <tr>\n",
              "      <th>CustomerID</th>\n",
              "      <th></th>\n",
              "      <th></th>\n",
              "      <th></th>\n",
              "      <th></th>\n",
              "      <th></th>\n",
              "      <th></th>\n",
              "      <th></th>\n",
              "      <th></th>\n",
              "      <th></th>\n",
              "      <th></th>\n",
              "      <th></th>\n",
              "      <th></th>\n",
              "      <th></th>\n",
              "      <th></th>\n",
              "      <th></th>\n",
              "      <th></th>\n",
              "      <th></th>\n",
              "      <th></th>\n",
              "      <th></th>\n",
              "      <th></th>\n",
              "      <th></th>\n",
              "    </tr>\n",
              "  </thead>\n",
              "  <tbody>\n",
              "    <tr>\n",
              "      <th>12346.0</th>\n",
              "      <td>0</td>\n",
              "      <td>0</td>\n",
              "      <td>0</td>\n",
              "      <td>0</td>\n",
              "      <td>0</td>\n",
              "      <td>0</td>\n",
              "      <td>0</td>\n",
              "      <td>0</td>\n",
              "      <td>0</td>\n",
              "      <td>0</td>\n",
              "      <td>...</td>\n",
              "      <td>0</td>\n",
              "      <td>0</td>\n",
              "      <td>0</td>\n",
              "      <td>0</td>\n",
              "      <td>0</td>\n",
              "      <td>0</td>\n",
              "      <td>0</td>\n",
              "      <td>0</td>\n",
              "      <td>0</td>\n",
              "      <td>0</td>\n",
              "    </tr>\n",
              "    <tr>\n",
              "      <th>12347.0</th>\n",
              "      <td>0</td>\n",
              "      <td>0</td>\n",
              "      <td>0</td>\n",
              "      <td>0</td>\n",
              "      <td>0</td>\n",
              "      <td>0</td>\n",
              "      <td>0</td>\n",
              "      <td>0</td>\n",
              "      <td>0</td>\n",
              "      <td>0</td>\n",
              "      <td>...</td>\n",
              "      <td>0</td>\n",
              "      <td>0</td>\n",
              "      <td>0</td>\n",
              "      <td>0</td>\n",
              "      <td>0</td>\n",
              "      <td>0</td>\n",
              "      <td>0</td>\n",
              "      <td>0</td>\n",
              "      <td>0</td>\n",
              "      <td>0</td>\n",
              "    </tr>\n",
              "    <tr>\n",
              "      <th>12348.0</th>\n",
              "      <td>0</td>\n",
              "      <td>0</td>\n",
              "      <td>0</td>\n",
              "      <td>0</td>\n",
              "      <td>0</td>\n",
              "      <td>0</td>\n",
              "      <td>0</td>\n",
              "      <td>0</td>\n",
              "      <td>0</td>\n",
              "      <td>0</td>\n",
              "      <td>...</td>\n",
              "      <td>0</td>\n",
              "      <td>0</td>\n",
              "      <td>0</td>\n",
              "      <td>0</td>\n",
              "      <td>0</td>\n",
              "      <td>0</td>\n",
              "      <td>0</td>\n",
              "      <td>0</td>\n",
              "      <td>0</td>\n",
              "      <td>1</td>\n",
              "    </tr>\n",
              "    <tr>\n",
              "      <th>12349.0</th>\n",
              "      <td>0</td>\n",
              "      <td>0</td>\n",
              "      <td>0</td>\n",
              "      <td>0</td>\n",
              "      <td>0</td>\n",
              "      <td>0</td>\n",
              "      <td>0</td>\n",
              "      <td>0</td>\n",
              "      <td>0</td>\n",
              "      <td>0</td>\n",
              "      <td>...</td>\n",
              "      <td>0</td>\n",
              "      <td>0</td>\n",
              "      <td>0</td>\n",
              "      <td>0</td>\n",
              "      <td>0</td>\n",
              "      <td>0</td>\n",
              "      <td>0</td>\n",
              "      <td>0</td>\n",
              "      <td>0</td>\n",
              "      <td>1</td>\n",
              "    </tr>\n",
              "    <tr>\n",
              "      <th>12350.0</th>\n",
              "      <td>0</td>\n",
              "      <td>0</td>\n",
              "      <td>0</td>\n",
              "      <td>0</td>\n",
              "      <td>0</td>\n",
              "      <td>0</td>\n",
              "      <td>0</td>\n",
              "      <td>0</td>\n",
              "      <td>0</td>\n",
              "      <td>0</td>\n",
              "      <td>...</td>\n",
              "      <td>0</td>\n",
              "      <td>0</td>\n",
              "      <td>0</td>\n",
              "      <td>0</td>\n",
              "      <td>0</td>\n",
              "      <td>0</td>\n",
              "      <td>0</td>\n",
              "      <td>0</td>\n",
              "      <td>0</td>\n",
              "      <td>1</td>\n",
              "    </tr>\n",
              "    <tr>\n",
              "      <th>...</th>\n",
              "      <td>...</td>\n",
              "      <td>...</td>\n",
              "      <td>...</td>\n",
              "      <td>...</td>\n",
              "      <td>...</td>\n",
              "      <td>...</td>\n",
              "      <td>...</td>\n",
              "      <td>...</td>\n",
              "      <td>...</td>\n",
              "      <td>...</td>\n",
              "      <td>...</td>\n",
              "      <td>...</td>\n",
              "      <td>...</td>\n",
              "      <td>...</td>\n",
              "      <td>...</td>\n",
              "      <td>...</td>\n",
              "      <td>...</td>\n",
              "      <td>...</td>\n",
              "      <td>...</td>\n",
              "      <td>...</td>\n",
              "      <td>...</td>\n",
              "    </tr>\n",
              "    <tr>\n",
              "      <th>18280.0</th>\n",
              "      <td>0</td>\n",
              "      <td>0</td>\n",
              "      <td>0</td>\n",
              "      <td>0</td>\n",
              "      <td>0</td>\n",
              "      <td>0</td>\n",
              "      <td>0</td>\n",
              "      <td>0</td>\n",
              "      <td>0</td>\n",
              "      <td>0</td>\n",
              "      <td>...</td>\n",
              "      <td>0</td>\n",
              "      <td>0</td>\n",
              "      <td>0</td>\n",
              "      <td>0</td>\n",
              "      <td>0</td>\n",
              "      <td>0</td>\n",
              "      <td>0</td>\n",
              "      <td>0</td>\n",
              "      <td>0</td>\n",
              "      <td>0</td>\n",
              "    </tr>\n",
              "    <tr>\n",
              "      <th>18281.0</th>\n",
              "      <td>0</td>\n",
              "      <td>0</td>\n",
              "      <td>0</td>\n",
              "      <td>0</td>\n",
              "      <td>0</td>\n",
              "      <td>0</td>\n",
              "      <td>0</td>\n",
              "      <td>0</td>\n",
              "      <td>0</td>\n",
              "      <td>0</td>\n",
              "      <td>...</td>\n",
              "      <td>0</td>\n",
              "      <td>0</td>\n",
              "      <td>0</td>\n",
              "      <td>0</td>\n",
              "      <td>0</td>\n",
              "      <td>0</td>\n",
              "      <td>0</td>\n",
              "      <td>0</td>\n",
              "      <td>0</td>\n",
              "      <td>0</td>\n",
              "    </tr>\n",
              "    <tr>\n",
              "      <th>18282.0</th>\n",
              "      <td>0</td>\n",
              "      <td>0</td>\n",
              "      <td>0</td>\n",
              "      <td>0</td>\n",
              "      <td>0</td>\n",
              "      <td>0</td>\n",
              "      <td>0</td>\n",
              "      <td>0</td>\n",
              "      <td>0</td>\n",
              "      <td>0</td>\n",
              "      <td>...</td>\n",
              "      <td>0</td>\n",
              "      <td>0</td>\n",
              "      <td>0</td>\n",
              "      <td>0</td>\n",
              "      <td>0</td>\n",
              "      <td>0</td>\n",
              "      <td>0</td>\n",
              "      <td>0</td>\n",
              "      <td>0</td>\n",
              "      <td>0</td>\n",
              "    </tr>\n",
              "    <tr>\n",
              "      <th>18283.0</th>\n",
              "      <td>0</td>\n",
              "      <td>0</td>\n",
              "      <td>0</td>\n",
              "      <td>0</td>\n",
              "      <td>0</td>\n",
              "      <td>0</td>\n",
              "      <td>0</td>\n",
              "      <td>0</td>\n",
              "      <td>0</td>\n",
              "      <td>0</td>\n",
              "      <td>...</td>\n",
              "      <td>0</td>\n",
              "      <td>0</td>\n",
              "      <td>0</td>\n",
              "      <td>0</td>\n",
              "      <td>0</td>\n",
              "      <td>0</td>\n",
              "      <td>0</td>\n",
              "      <td>1</td>\n",
              "      <td>0</td>\n",
              "      <td>0</td>\n",
              "    </tr>\n",
              "    <tr>\n",
              "      <th>18287.0</th>\n",
              "      <td>0</td>\n",
              "      <td>0</td>\n",
              "      <td>0</td>\n",
              "      <td>0</td>\n",
              "      <td>0</td>\n",
              "      <td>0</td>\n",
              "      <td>0</td>\n",
              "      <td>0</td>\n",
              "      <td>0</td>\n",
              "      <td>0</td>\n",
              "      <td>...</td>\n",
              "      <td>0</td>\n",
              "      <td>0</td>\n",
              "      <td>0</td>\n",
              "      <td>0</td>\n",
              "      <td>0</td>\n",
              "      <td>0</td>\n",
              "      <td>0</td>\n",
              "      <td>0</td>\n",
              "      <td>0</td>\n",
              "      <td>0</td>\n",
              "    </tr>\n",
              "  </tbody>\n",
              "</table>\n",
              "<p>4372 rows × 3684 columns</p>\n",
              "</div>"
            ],
            "text/plain": [
              "StockCode   10002  10080  10120  10123C  10124A  10124G  10125  10133  10135  \\\n",
              "CustomerID                                                                     \n",
              "12346.0         0      0      0       0       0       0      0      0      0   \n",
              "12347.0         0      0      0       0       0       0      0      0      0   \n",
              "12348.0         0      0      0       0       0       0      0      0      0   \n",
              "12349.0         0      0      0       0       0       0      0      0      0   \n",
              "12350.0         0      0      0       0       0       0      0      0      0   \n",
              "...           ...    ...    ...     ...     ...     ...    ...    ...    ...   \n",
              "18280.0         0      0      0       0       0       0      0      0      0   \n",
              "18281.0         0      0      0       0       0       0      0      0      0   \n",
              "18282.0         0      0      0       0       0       0      0      0      0   \n",
              "18283.0         0      0      0       0       0       0      0      0      0   \n",
              "18287.0         0      0      0       0       0       0      0      0      0   \n",
              "\n",
              "StockCode   11001  ...  90214Y  90214Z  BANK CHARGES  C2  CRUK  D  DOT  M  \\\n",
              "CustomerID         ...                                                      \n",
              "12346.0         0  ...       0       0             0   0     0  0    0  0   \n",
              "12347.0         0  ...       0       0             0   0     0  0    0  0   \n",
              "12348.0         0  ...       0       0             0   0     0  0    0  0   \n",
              "12349.0         0  ...       0       0             0   0     0  0    0  0   \n",
              "12350.0         0  ...       0       0             0   0     0  0    0  0   \n",
              "...           ...  ...     ...     ...           ...  ..   ... ..  ... ..   \n",
              "18280.0         0  ...       0       0             0   0     0  0    0  0   \n",
              "18281.0         0  ...       0       0             0   0     0  0    0  0   \n",
              "18282.0         0  ...       0       0             0   0     0  0    0  0   \n",
              "18283.0         0  ...       0       0             0   0     0  0    0  1   \n",
              "18287.0         0  ...       0       0             0   0     0  0    0  0   \n",
              "\n",
              "StockCode   PADS  POST  \n",
              "CustomerID              \n",
              "12346.0        0     0  \n",
              "12347.0        0     0  \n",
              "12348.0        0     1  \n",
              "12349.0        0     1  \n",
              "12350.0        0     1  \n",
              "...          ...   ...  \n",
              "18280.0        0     0  \n",
              "18281.0        0     0  \n",
              "18282.0        0     0  \n",
              "18283.0        0     0  \n",
              "18287.0        0     0  \n",
              "\n",
              "[4372 rows x 3684 columns]"
            ]
          },
          "execution_count": 149,
          "metadata": {},
          "output_type": "execute_result"
        }
      ],
      "source": [
        "custID_matrix"
      ]
    },
    {
      "cell_type": "code",
      "execution_count": 150,
      "id": "e0d6460c",
      "metadata": {
        "id": "e0d6460c"
      },
      "outputs": [],
      "source": [
        "# we want to find the degree of similarities between customer.. on the basis of\n",
        "# product they have purchased."
      ]
    },
    {
      "cell_type": "code",
      "execution_count": 151,
      "id": "e9e81b43",
      "metadata": {
        "id": "e9e81b43"
      },
      "outputs": [],
      "source": [
        "from sklearn.metrics.pairwise import cosine_similarity"
      ]
    },
    {
      "cell_type": "code",
      "execution_count": 152,
      "id": "d4479b94",
      "metadata": {
        "id": "d4479b94"
      },
      "outputs": [],
      "source": [
        "similarity=cosine_similarity(custID_matrix)"
      ]
    },
    {
      "cell_type": "code",
      "execution_count": 153,
      "id": "81baffa8",
      "metadata": {
        "id": "81baffa8",
        "outputId": "4b88f5a4-ede0-4756-e404-cc24441f6f73"
      },
      "outputs": [
        {
          "data": {
            "text/plain": [
              "(4372, 4372)"
            ]
          },
          "execution_count": 153,
          "metadata": {},
          "output_type": "execute_result"
        }
      ],
      "source": [
        "similarity.shape"
      ]
    },
    {
      "cell_type": "code",
      "execution_count": 154,
      "id": "52d7d71c",
      "metadata": {
        "id": "52d7d71c",
        "outputId": "7533d47e-16dd-4ba4-88cd-a9c8a69294fa"
      },
      "outputs": [
        {
          "data": {
            "text/plain": [
              "array([[0.        , 0.        , 0.        , ..., 0.        , 0.        ,\n",
              "        0.        ],\n",
              "       [0.        , 1.        , 0.06302187, ..., 0.11377602, 0.10936441,\n",
              "        0.01282789],\n",
              "       [0.        , 0.06302187, 1.        , ..., 0.        , 0.17090475,\n",
              "        0.08326911],\n",
              "       ...,\n",
              "       [0.        , 0.11377602, 0.        , ..., 1.        , 0.01780047,\n",
              "        0.        ],\n",
              "       [0.        , 0.10936441, 0.17090475, ..., 0.01780047, 1.        ,\n",
              "        0.09633351],\n",
              "       [0.        , 0.01282789, 0.08326911, ..., 0.        , 0.09633351,\n",
              "        1.        ]])"
            ]
          },
          "execution_count": 154,
          "metadata": {},
          "output_type": "execute_result"
        }
      ],
      "source": [
        "similarity"
      ]
    },
    {
      "cell_type": "code",
      "execution_count": 155,
      "id": "1d2579b7",
      "metadata": {
        "id": "1d2579b7"
      },
      "outputs": [],
      "source": [
        "final=pd.DataFrame(similarity,columns=custID_matrix.index)"
      ]
    },
    {
      "cell_type": "code",
      "execution_count": 156,
      "id": "29e849cc",
      "metadata": {
        "id": "29e849cc",
        "outputId": "a07261e1-229e-488a-acf7-96714e8b5f4d"
      },
      "outputs": [
        {
          "data": {
            "text/html": [
              "<div>\n",
              "<style scoped>\n",
              "    .dataframe tbody tr th:only-of-type {\n",
              "        vertical-align: middle;\n",
              "    }\n",
              "\n",
              "    .dataframe tbody tr th {\n",
              "        vertical-align: top;\n",
              "    }\n",
              "\n",
              "    .dataframe thead th {\n",
              "        text-align: right;\n",
              "    }\n",
              "</style>\n",
              "<table border=\"1\" class=\"dataframe\">\n",
              "  <thead>\n",
              "    <tr style=\"text-align: right;\">\n",
              "      <th>CustomerID</th>\n",
              "      <th>12346.0</th>\n",
              "      <th>12347.0</th>\n",
              "      <th>12348.0</th>\n",
              "      <th>12349.0</th>\n",
              "      <th>12350.0</th>\n",
              "      <th>12352.0</th>\n",
              "      <th>12353.0</th>\n",
              "      <th>12354.0</th>\n",
              "      <th>12355.0</th>\n",
              "      <th>12356.0</th>\n",
              "      <th>...</th>\n",
              "      <th>18273.0</th>\n",
              "      <th>18274.0</th>\n",
              "      <th>18276.0</th>\n",
              "      <th>18277.0</th>\n",
              "      <th>18278.0</th>\n",
              "      <th>18280.0</th>\n",
              "      <th>18281.0</th>\n",
              "      <th>18282.0</th>\n",
              "      <th>18283.0</th>\n",
              "      <th>18287.0</th>\n",
              "    </tr>\n",
              "  </thead>\n",
              "  <tbody>\n",
              "    <tr>\n",
              "      <th>0</th>\n",
              "      <td>0.0</td>\n",
              "      <td>0.000000</td>\n",
              "      <td>0.000000</td>\n",
              "      <td>0.000000</td>\n",
              "      <td>0.000000</td>\n",
              "      <td>0.000000</td>\n",
              "      <td>0.0</td>\n",
              "      <td>0.000000</td>\n",
              "      <td>0.000000</td>\n",
              "      <td>0.000000</td>\n",
              "      <td>...</td>\n",
              "      <td>0.0</td>\n",
              "      <td>0.0</td>\n",
              "      <td>0.000000</td>\n",
              "      <td>0.0</td>\n",
              "      <td>0.000000</td>\n",
              "      <td>0.000000</td>\n",
              "      <td>0.0</td>\n",
              "      <td>0.000000</td>\n",
              "      <td>0.000000</td>\n",
              "      <td>0.000000</td>\n",
              "    </tr>\n",
              "    <tr>\n",
              "      <th>1</th>\n",
              "      <td>0.0</td>\n",
              "      <td>1.000000</td>\n",
              "      <td>0.063022</td>\n",
              "      <td>0.046130</td>\n",
              "      <td>0.047795</td>\n",
              "      <td>0.038814</td>\n",
              "      <td>0.0</td>\n",
              "      <td>0.025876</td>\n",
              "      <td>0.136641</td>\n",
              "      <td>0.094742</td>\n",
              "      <td>...</td>\n",
              "      <td>0.0</td>\n",
              "      <td>0.0</td>\n",
              "      <td>0.054656</td>\n",
              "      <td>0.0</td>\n",
              "      <td>0.032844</td>\n",
              "      <td>0.062318</td>\n",
              "      <td>0.0</td>\n",
              "      <td>0.113776</td>\n",
              "      <td>0.109364</td>\n",
              "      <td>0.012828</td>\n",
              "    </tr>\n",
              "    <tr>\n",
              "      <th>2</th>\n",
              "      <td>0.0</td>\n",
              "      <td>0.063022</td>\n",
              "      <td>1.000000</td>\n",
              "      <td>0.024953</td>\n",
              "      <td>0.051709</td>\n",
              "      <td>0.027995</td>\n",
              "      <td>0.0</td>\n",
              "      <td>0.027995</td>\n",
              "      <td>0.118262</td>\n",
              "      <td>0.146427</td>\n",
              "      <td>...</td>\n",
              "      <td>0.0</td>\n",
              "      <td>0.0</td>\n",
              "      <td>0.118262</td>\n",
              "      <td>0.0</td>\n",
              "      <td>0.000000</td>\n",
              "      <td>0.000000</td>\n",
              "      <td>0.0</td>\n",
              "      <td>0.000000</td>\n",
              "      <td>0.170905</td>\n",
              "      <td>0.083269</td>\n",
              "    </tr>\n",
              "    <tr>\n",
              "      <th>3</th>\n",
              "      <td>0.0</td>\n",
              "      <td>0.046130</td>\n",
              "      <td>0.024953</td>\n",
              "      <td>1.000000</td>\n",
              "      <td>0.056773</td>\n",
              "      <td>0.138314</td>\n",
              "      <td>0.0</td>\n",
              "      <td>0.030737</td>\n",
              "      <td>0.032461</td>\n",
              "      <td>0.144692</td>\n",
              "      <td>...</td>\n",
              "      <td>0.0</td>\n",
              "      <td>0.0</td>\n",
              "      <td>0.000000</td>\n",
              "      <td>0.0</td>\n",
              "      <td>0.039014</td>\n",
              "      <td>0.000000</td>\n",
              "      <td>0.0</td>\n",
              "      <td>0.067574</td>\n",
              "      <td>0.137124</td>\n",
              "      <td>0.030475</td>\n",
              "    </tr>\n",
              "    <tr>\n",
              "      <th>4</th>\n",
              "      <td>0.0</td>\n",
              "      <td>0.047795</td>\n",
              "      <td>0.051709</td>\n",
              "      <td>0.056773</td>\n",
              "      <td>1.000000</td>\n",
              "      <td>0.031846</td>\n",
              "      <td>0.0</td>\n",
              "      <td>0.000000</td>\n",
              "      <td>0.000000</td>\n",
              "      <td>0.033315</td>\n",
              "      <td>...</td>\n",
              "      <td>0.0</td>\n",
              "      <td>0.0</td>\n",
              "      <td>0.000000</td>\n",
              "      <td>0.0</td>\n",
              "      <td>0.000000</td>\n",
              "      <td>0.000000</td>\n",
              "      <td>0.0</td>\n",
              "      <td>0.000000</td>\n",
              "      <td>0.044866</td>\n",
              "      <td>0.000000</td>\n",
              "    </tr>\n",
              "  </tbody>\n",
              "</table>\n",
              "<p>5 rows × 4372 columns</p>\n",
              "</div>"
            ],
            "text/plain": [
              "CustomerID  12346.0   12347.0   12348.0   12349.0   12350.0   12352.0  \\\n",
              "0               0.0  0.000000  0.000000  0.000000  0.000000  0.000000   \n",
              "1               0.0  1.000000  0.063022  0.046130  0.047795  0.038814   \n",
              "2               0.0  0.063022  1.000000  0.024953  0.051709  0.027995   \n",
              "3               0.0  0.046130  0.024953  1.000000  0.056773  0.138314   \n",
              "4               0.0  0.047795  0.051709  0.056773  1.000000  0.031846   \n",
              "\n",
              "CustomerID  12353.0   12354.0   12355.0   12356.0  ...  18273.0  18274.0  \\\n",
              "0               0.0  0.000000  0.000000  0.000000  ...      0.0      0.0   \n",
              "1               0.0  0.025876  0.136641  0.094742  ...      0.0      0.0   \n",
              "2               0.0  0.027995  0.118262  0.146427  ...      0.0      0.0   \n",
              "3               0.0  0.030737  0.032461  0.144692  ...      0.0      0.0   \n",
              "4               0.0  0.000000  0.000000  0.033315  ...      0.0      0.0   \n",
              "\n",
              "CustomerID   18276.0  18277.0   18278.0   18280.0  18281.0   18282.0  \\\n",
              "0           0.000000      0.0  0.000000  0.000000      0.0  0.000000   \n",
              "1           0.054656      0.0  0.032844  0.062318      0.0  0.113776   \n",
              "2           0.118262      0.0  0.000000  0.000000      0.0  0.000000   \n",
              "3           0.000000      0.0  0.039014  0.000000      0.0  0.067574   \n",
              "4           0.000000      0.0  0.000000  0.000000      0.0  0.000000   \n",
              "\n",
              "CustomerID   18283.0   18287.0  \n",
              "0           0.000000  0.000000  \n",
              "1           0.109364  0.012828  \n",
              "2           0.170905  0.083269  \n",
              "3           0.137124  0.030475  \n",
              "4           0.044866  0.000000  \n",
              "\n",
              "[5 rows x 4372 columns]"
            ]
          },
          "execution_count": 156,
          "metadata": {},
          "output_type": "execute_result"
        }
      ],
      "source": [
        "final.head()"
      ]
    },
    {
      "cell_type": "code",
      "execution_count": 157,
      "id": "d0ab7c22",
      "metadata": {
        "id": "d0ab7c22"
      },
      "outputs": [],
      "source": [
        "final=final.set_index(custID_matrix.index)"
      ]
    },
    {
      "cell_type": "code",
      "execution_count": 158,
      "id": "f510e34e",
      "metadata": {
        "id": "f510e34e",
        "outputId": "9b373c4c-378d-4ade-b1fe-070932361415"
      },
      "outputs": [
        {
          "data": {
            "text/html": [
              "<div>\n",
              "<style scoped>\n",
              "    .dataframe tbody tr th:only-of-type {\n",
              "        vertical-align: middle;\n",
              "    }\n",
              "\n",
              "    .dataframe tbody tr th {\n",
              "        vertical-align: top;\n",
              "    }\n",
              "\n",
              "    .dataframe thead th {\n",
              "        text-align: right;\n",
              "    }\n",
              "</style>\n",
              "<table border=\"1\" class=\"dataframe\">\n",
              "  <thead>\n",
              "    <tr style=\"text-align: right;\">\n",
              "      <th>CustomerID</th>\n",
              "      <th>12346.0</th>\n",
              "      <th>12347.0</th>\n",
              "      <th>12348.0</th>\n",
              "      <th>12349.0</th>\n",
              "      <th>12350.0</th>\n",
              "      <th>12352.0</th>\n",
              "      <th>12353.0</th>\n",
              "      <th>12354.0</th>\n",
              "      <th>12355.0</th>\n",
              "      <th>12356.0</th>\n",
              "      <th>...</th>\n",
              "      <th>18273.0</th>\n",
              "      <th>18274.0</th>\n",
              "      <th>18276.0</th>\n",
              "      <th>18277.0</th>\n",
              "      <th>18278.0</th>\n",
              "      <th>18280.0</th>\n",
              "      <th>18281.0</th>\n",
              "      <th>18282.0</th>\n",
              "      <th>18283.0</th>\n",
              "      <th>18287.0</th>\n",
              "    </tr>\n",
              "    <tr>\n",
              "      <th>CustomerID</th>\n",
              "      <th></th>\n",
              "      <th></th>\n",
              "      <th></th>\n",
              "      <th></th>\n",
              "      <th></th>\n",
              "      <th></th>\n",
              "      <th></th>\n",
              "      <th></th>\n",
              "      <th></th>\n",
              "      <th></th>\n",
              "      <th></th>\n",
              "      <th></th>\n",
              "      <th></th>\n",
              "      <th></th>\n",
              "      <th></th>\n",
              "      <th></th>\n",
              "      <th></th>\n",
              "      <th></th>\n",
              "      <th></th>\n",
              "      <th></th>\n",
              "      <th></th>\n",
              "    </tr>\n",
              "  </thead>\n",
              "  <tbody>\n",
              "    <tr>\n",
              "      <th>12346.0</th>\n",
              "      <td>0.0</td>\n",
              "      <td>0.000000</td>\n",
              "      <td>0.000000</td>\n",
              "      <td>0.000000</td>\n",
              "      <td>0.000000</td>\n",
              "      <td>0.000000</td>\n",
              "      <td>0.0</td>\n",
              "      <td>0.000000</td>\n",
              "      <td>0.000000</td>\n",
              "      <td>0.000000</td>\n",
              "      <td>...</td>\n",
              "      <td>0.0</td>\n",
              "      <td>0.0</td>\n",
              "      <td>0.000000</td>\n",
              "      <td>0.0</td>\n",
              "      <td>0.000000</td>\n",
              "      <td>0.000000</td>\n",
              "      <td>0.0</td>\n",
              "      <td>0.000000</td>\n",
              "      <td>0.000000</td>\n",
              "      <td>0.000000</td>\n",
              "    </tr>\n",
              "    <tr>\n",
              "      <th>12347.0</th>\n",
              "      <td>0.0</td>\n",
              "      <td>1.000000</td>\n",
              "      <td>0.063022</td>\n",
              "      <td>0.046130</td>\n",
              "      <td>0.047795</td>\n",
              "      <td>0.038814</td>\n",
              "      <td>0.0</td>\n",
              "      <td>0.025876</td>\n",
              "      <td>0.136641</td>\n",
              "      <td>0.094742</td>\n",
              "      <td>...</td>\n",
              "      <td>0.0</td>\n",
              "      <td>0.0</td>\n",
              "      <td>0.054656</td>\n",
              "      <td>0.0</td>\n",
              "      <td>0.032844</td>\n",
              "      <td>0.062318</td>\n",
              "      <td>0.0</td>\n",
              "      <td>0.113776</td>\n",
              "      <td>0.109364</td>\n",
              "      <td>0.012828</td>\n",
              "    </tr>\n",
              "    <tr>\n",
              "      <th>12348.0</th>\n",
              "      <td>0.0</td>\n",
              "      <td>0.063022</td>\n",
              "      <td>1.000000</td>\n",
              "      <td>0.024953</td>\n",
              "      <td>0.051709</td>\n",
              "      <td>0.027995</td>\n",
              "      <td>0.0</td>\n",
              "      <td>0.027995</td>\n",
              "      <td>0.118262</td>\n",
              "      <td>0.146427</td>\n",
              "      <td>...</td>\n",
              "      <td>0.0</td>\n",
              "      <td>0.0</td>\n",
              "      <td>0.118262</td>\n",
              "      <td>0.0</td>\n",
              "      <td>0.000000</td>\n",
              "      <td>0.000000</td>\n",
              "      <td>0.0</td>\n",
              "      <td>0.000000</td>\n",
              "      <td>0.170905</td>\n",
              "      <td>0.083269</td>\n",
              "    </tr>\n",
              "    <tr>\n",
              "      <th>12349.0</th>\n",
              "      <td>0.0</td>\n",
              "      <td>0.046130</td>\n",
              "      <td>0.024953</td>\n",
              "      <td>1.000000</td>\n",
              "      <td>0.056773</td>\n",
              "      <td>0.138314</td>\n",
              "      <td>0.0</td>\n",
              "      <td>0.030737</td>\n",
              "      <td>0.032461</td>\n",
              "      <td>0.144692</td>\n",
              "      <td>...</td>\n",
              "      <td>0.0</td>\n",
              "      <td>0.0</td>\n",
              "      <td>0.000000</td>\n",
              "      <td>0.0</td>\n",
              "      <td>0.039014</td>\n",
              "      <td>0.000000</td>\n",
              "      <td>0.0</td>\n",
              "      <td>0.067574</td>\n",
              "      <td>0.137124</td>\n",
              "      <td>0.030475</td>\n",
              "    </tr>\n",
              "    <tr>\n",
              "      <th>12350.0</th>\n",
              "      <td>0.0</td>\n",
              "      <td>0.047795</td>\n",
              "      <td>0.051709</td>\n",
              "      <td>0.056773</td>\n",
              "      <td>1.000000</td>\n",
              "      <td>0.031846</td>\n",
              "      <td>0.0</td>\n",
              "      <td>0.000000</td>\n",
              "      <td>0.000000</td>\n",
              "      <td>0.033315</td>\n",
              "      <td>...</td>\n",
              "      <td>0.0</td>\n",
              "      <td>0.0</td>\n",
              "      <td>0.000000</td>\n",
              "      <td>0.0</td>\n",
              "      <td>0.000000</td>\n",
              "      <td>0.000000</td>\n",
              "      <td>0.0</td>\n",
              "      <td>0.000000</td>\n",
              "      <td>0.044866</td>\n",
              "      <td>0.000000</td>\n",
              "    </tr>\n",
              "  </tbody>\n",
              "</table>\n",
              "<p>5 rows × 4372 columns</p>\n",
              "</div>"
            ],
            "text/plain": [
              "CustomerID  12346.0   12347.0   12348.0   12349.0   12350.0   12352.0  \\\n",
              "CustomerID                                                              \n",
              "12346.0         0.0  0.000000  0.000000  0.000000  0.000000  0.000000   \n",
              "12347.0         0.0  1.000000  0.063022  0.046130  0.047795  0.038814   \n",
              "12348.0         0.0  0.063022  1.000000  0.024953  0.051709  0.027995   \n",
              "12349.0         0.0  0.046130  0.024953  1.000000  0.056773  0.138314   \n",
              "12350.0         0.0  0.047795  0.051709  0.056773  1.000000  0.031846   \n",
              "\n",
              "CustomerID  12353.0   12354.0   12355.0   12356.0  ...  18273.0  18274.0  \\\n",
              "CustomerID                                         ...                     \n",
              "12346.0         0.0  0.000000  0.000000  0.000000  ...      0.0      0.0   \n",
              "12347.0         0.0  0.025876  0.136641  0.094742  ...      0.0      0.0   \n",
              "12348.0         0.0  0.027995  0.118262  0.146427  ...      0.0      0.0   \n",
              "12349.0         0.0  0.030737  0.032461  0.144692  ...      0.0      0.0   \n",
              "12350.0         0.0  0.000000  0.000000  0.033315  ...      0.0      0.0   \n",
              "\n",
              "CustomerID   18276.0  18277.0   18278.0   18280.0  18281.0   18282.0  \\\n",
              "CustomerID                                                             \n",
              "12346.0     0.000000      0.0  0.000000  0.000000      0.0  0.000000   \n",
              "12347.0     0.054656      0.0  0.032844  0.062318      0.0  0.113776   \n",
              "12348.0     0.118262      0.0  0.000000  0.000000      0.0  0.000000   \n",
              "12349.0     0.000000      0.0  0.039014  0.000000      0.0  0.067574   \n",
              "12350.0     0.000000      0.0  0.000000  0.000000      0.0  0.000000   \n",
              "\n",
              "CustomerID   18283.0   18287.0  \n",
              "CustomerID                      \n",
              "12346.0     0.000000  0.000000  \n",
              "12347.0     0.109364  0.012828  \n",
              "12348.0     0.170905  0.083269  \n",
              "12349.0     0.137124  0.030475  \n",
              "12350.0     0.044866  0.000000  \n",
              "\n",
              "[5 rows x 4372 columns]"
            ]
          },
          "execution_count": 158,
          "metadata": {},
          "output_type": "execute_result"
        }
      ],
      "source": [
        "final.head()"
      ]
    },
    {
      "cell_type": "code",
      "execution_count": 159,
      "id": "31dff31d",
      "metadata": {},
      "outputs": [],
      "source": [
        "import pickle\n",
        "\n",
        "# Save the cosine similarity matrix as a pickle file\n",
        "with open('cosine_similarity.pkl', 'wb') as f:\n",
        "    pickle.dump(final, f)\n",
        "\n",
        "# Save the customer-item matrix as a pickle file\n",
        "with open('customer_item_matrix.pkl', 'wb') as f:\n",
        "    pickle.dump(custID_matrix, f)\n"
      ]
    },
    {
      "cell_type": "code",
      "execution_count": 160,
      "id": "3a28181d",
      "metadata": {
        "id": "3a28181d"
      },
      "outputs": [],
      "source": [
        "# just take the reference of a customer"
      ]
    },
    {
      "cell_type": "code",
      "execution_count": 161,
      "id": "1e6ae2b1",
      "metadata": {
        "id": "1e6ae2b1",
        "outputId": "e86c8209-a39c-464a-bad5-cad8013d815b"
      },
      "outputs": [
        {
          "data": {
            "text/plain": [
              "CustomerID\n",
              "12347.0    1.000000\n",
              "17396.0    0.301694\n",
              "13324.0    0.256186\n",
              "13759.0    0.241355\n",
              "16855.0    0.226050\n",
              "             ...   \n",
              "15049.0    0.000000\n",
              "16965.0    0.000000\n",
              "16963.0    0.000000\n",
              "16961.0    0.000000\n",
              "12346.0    0.000000\n",
              "Name: 12347.0, Length: 4372, dtype: float64"
            ]
          },
          "execution_count": 161,
          "metadata": {},
          "output_type": "execute_result"
        }
      ],
      "source": [
        "final.loc[12347].sort_values(ascending=False)"
      ]
    },
    {
      "cell_type": "code",
      "execution_count": 162,
      "id": "7604a0be",
      "metadata": {
        "id": "7604a0be"
      },
      "outputs": [],
      "source": [
        "# assume cust_A= 12347---- item purchased by him\n",
        "# assume cust_B= 17396---- item purchased by him"
      ]
    },
    {
      "cell_type": "code",
      "execution_count": 163,
      "id": "c2ec29d1",
      "metadata": {
        "id": "c2ec29d1"
      },
      "outputs": [],
      "source": [
        "item_cust_A=set(custID_matrix.loc[12347].iloc[custID_matrix.loc[12347].to_numpy().nonzero()].index)"
      ]
    },
    {
      "cell_type": "code",
      "execution_count": 164,
      "id": "e0f52b40",
      "metadata": {
        "id": "e0f52b40",
        "outputId": "7f9d1647-cbbb-47d3-e26f-6220f3d586ff"
      },
      "outputs": [
        {
          "data": {
            "text/plain": [
              "{'16008',\n",
              " '17021',\n",
              " '20665',\n",
              " '20719',\n",
              " '20780',\n",
              " '20782',\n",
              " '20966',\n",
              " '21035',\n",
              " '21041',\n",
              " '21064',\n",
              " '21154',\n",
              " '21171',\n",
              " '21265',\n",
              " '21578',\n",
              " '21636',\n",
              " '21731',\n",
              " '21791',\n",
              " '21832',\n",
              " '21975',\n",
              " '21976',\n",
              " '22131',\n",
              " '22134',\n",
              " '22195',\n",
              " '22196',\n",
              " '22212',\n",
              " '22252',\n",
              " '22371',\n",
              " '22372',\n",
              " '22374',\n",
              " '22375',\n",
              " '22376',\n",
              " '22417',\n",
              " '22422',\n",
              " '22423',\n",
              " '22432',\n",
              " '22492',\n",
              " '22494',\n",
              " '22497',\n",
              " '22550',\n",
              " '22561',\n",
              " '22621',\n",
              " '22697',\n",
              " '22698',\n",
              " '22699',\n",
              " '22725',\n",
              " '22726',\n",
              " '22727',\n",
              " '22728',\n",
              " '22729',\n",
              " '22771',\n",
              " '22772',\n",
              " '22773',\n",
              " '22774',\n",
              " '22775',\n",
              " '22805',\n",
              " '22821',\n",
              " '22945',\n",
              " '22992',\n",
              " '23076',\n",
              " '23084',\n",
              " '23146',\n",
              " '23147',\n",
              " '23162',\n",
              " '23170',\n",
              " '23171',\n",
              " '23172',\n",
              " '23173',\n",
              " '23174',\n",
              " '23175',\n",
              " '23177',\n",
              " '23271',\n",
              " '23297',\n",
              " '23308',\n",
              " '23316',\n",
              " '23420',\n",
              " '23421',\n",
              " '23422',\n",
              " '23480',\n",
              " '23497',\n",
              " '23503',\n",
              " '23506',\n",
              " '23508',\n",
              " '23552',\n",
              " '47559B',\n",
              " '47567B',\n",
              " '47580',\n",
              " '51014C',\n",
              " '71477',\n",
              " '84558A',\n",
              " '84559A',\n",
              " '84559B',\n",
              " '84625A',\n",
              " '84625C',\n",
              " '84969',\n",
              " '84991',\n",
              " '84992',\n",
              " '84997B',\n",
              " '84997C',\n",
              " '84997D',\n",
              " '85116',\n",
              " '85167B',\n",
              " '85178',\n",
              " '85232D'}"
            ]
          },
          "execution_count": 164,
          "metadata": {},
          "output_type": "execute_result"
        }
      ],
      "source": [
        "item_cust_A"
      ]
    },
    {
      "cell_type": "code",
      "execution_count": 165,
      "id": "dc5a29aa",
      "metadata": {
        "id": "dc5a29aa"
      },
      "outputs": [],
      "source": [
        "item_cust_B=set(custID_matrix.loc[17396].iloc[custID_matrix.loc[17396].to_numpy().nonzero()].index)"
      ]
    },
    {
      "cell_type": "code",
      "execution_count": 166,
      "id": "5976bb16",
      "metadata": {
        "id": "5976bb16",
        "outputId": "e2c80ad5-8d6b-41a3-a764-091014345720"
      },
      "outputs": [
        {
          "data": {
            "text/plain": [
              "{'22141',\n",
              " '22142',\n",
              " '22144',\n",
              " '22191',\n",
              " '22192',\n",
              " '22193',\n",
              " '22423',\n",
              " '22697',\n",
              " '22698',\n",
              " '22699',\n",
              " '22725',\n",
              " '22726',\n",
              " '22727',\n",
              " '22728',\n",
              " '22729',\n",
              " '22730',\n",
              " '23170',\n",
              " '23171',\n",
              " '23172',\n",
              " '23173',\n",
              " '23174',\n",
              " '23175',\n",
              " '23245',\n",
              " 'M'}"
            ]
          },
          "execution_count": 166,
          "metadata": {},
          "output_type": "execute_result"
        }
      ],
      "source": [
        "item_cust_B"
      ]
    },
    {
      "cell_type": "code",
      "execution_count": 167,
      "id": "ae840c92",
      "metadata": {
        "id": "ae840c92"
      },
      "outputs": [],
      "source": [
        "Recommended_item_cust_A=item_cust_B-item_cust_A"
      ]
    },
    {
      "cell_type": "code",
      "execution_count": 168,
      "id": "338b33af",
      "metadata": {
        "id": "338b33af",
        "outputId": "2c84b0a2-684e-4ed1-a5d7-b07bd985fb6b"
      },
      "outputs": [
        {
          "data": {
            "text/plain": [
              "{'22141', '22142', '22144', '22191', '22192', '22193', '22730', '23245', 'M'}"
            ]
          },
          "execution_count": 168,
          "metadata": {},
          "output_type": "execute_result"
        }
      ],
      "source": [
        "Recommended_item_cust_A"
      ]
    },
    {
      "cell_type": "code",
      "execution_count": 169,
      "id": "a22c0c85",
      "metadata": {
        "id": "a22c0c85",
        "outputId": "0595771c-d527-42e7-b01e-c9280214fa9d"
      },
      "outputs": [
        {
          "data": {
            "text/html": [
              "<div>\n",
              "<style scoped>\n",
              "    .dataframe tbody tr th:only-of-type {\n",
              "        vertical-align: middle;\n",
              "    }\n",
              "\n",
              "    .dataframe tbody tr th {\n",
              "        vertical-align: top;\n",
              "    }\n",
              "\n",
              "    .dataframe thead th {\n",
              "        text-align: right;\n",
              "    }\n",
              "</style>\n",
              "<table border=\"1\" class=\"dataframe\">\n",
              "  <thead>\n",
              "    <tr style=\"text-align: right;\">\n",
              "      <th></th>\n",
              "      <th>Description</th>\n",
              "    </tr>\n",
              "    <tr>\n",
              "      <th>StockCode</th>\n",
              "      <th></th>\n",
              "    </tr>\n",
              "  </thead>\n",
              "  <tbody>\n",
              "    <tr>\n",
              "      <th>22193</th>\n",
              "      <td>RED DINER WALL CLOCK</td>\n",
              "    </tr>\n",
              "    <tr>\n",
              "      <th>22192</th>\n",
              "      <td>BLUE DINER WALL CLOCK</td>\n",
              "    </tr>\n",
              "    <tr>\n",
              "      <th>22191</th>\n",
              "      <td>IVORY DINER WALL CLOCK</td>\n",
              "    </tr>\n",
              "    <tr>\n",
              "      <th>22730</th>\n",
              "      <td>ALARM CLOCK BAKELIKE IVORY</td>\n",
              "    </tr>\n",
              "    <tr>\n",
              "      <th>22141</th>\n",
              "      <td>CHRISTMAS CRAFT TREE TOP ANGEL</td>\n",
              "    </tr>\n",
              "    <tr>\n",
              "      <th>22144</th>\n",
              "      <td>CHRISTMAS CRAFT LITTLE FRIENDS</td>\n",
              "    </tr>\n",
              "    <tr>\n",
              "      <th>22142</th>\n",
              "      <td>CHRISTMAS CRAFT WHITE FAIRY</td>\n",
              "    </tr>\n",
              "    <tr>\n",
              "      <th>M</th>\n",
              "      <td>Manual</td>\n",
              "    </tr>\n",
              "    <tr>\n",
              "      <th>23245</th>\n",
              "      <td>SET OF 3 REGENCY CAKE TINS</td>\n",
              "    </tr>\n",
              "  </tbody>\n",
              "</table>\n",
              "</div>"
            ],
            "text/plain": [
              "                              Description\n",
              "StockCode                                \n",
              "22193                RED DINER WALL CLOCK\n",
              "22192               BLUE DINER WALL CLOCK\n",
              "22191              IVORY DINER WALL CLOCK\n",
              "22730          ALARM CLOCK BAKELIKE IVORY\n",
              "22141      CHRISTMAS CRAFT TREE TOP ANGEL\n",
              "22144      CHRISTMAS CRAFT LITTLE FRIENDS\n",
              "22142         CHRISTMAS CRAFT WHITE FAIRY\n",
              "M                                  Manual\n",
              "23245          SET OF 3 REGENCY CAKE TINS"
            ]
          },
          "execution_count": 169,
          "metadata": {},
          "output_type": "execute_result"
        }
      ],
      "source": [
        "df100.loc[df100[\"StockCode\"].isin(Recommended_item_cust_A),[\"StockCode\",\"Description\"]].drop_duplicates().set_index(\"StockCode\")"
      ]
    },
    {
      "cell_type": "code",
      "execution_count": 170,
      "id": "a2ea2d69",
      "metadata": {},
      "outputs": [],
      "source": [
        "def recommend_items(customer_id, custID_matrix, df100):\n",
        "    # Find the most similar customer based on cosine similarity\n",
        "    similar_customer = final.loc[customer_id].sort_values(ascending=False).index[1]\n",
        "    \n",
        "    # Get the items purchased by the input customer\n",
        "    items_customer_id = set(custID_matrix.loc[customer_id].iloc[custID_matrix.loc[customer_id].to_numpy().nonzero()].index)\n",
        "    \n",
        "    # Get the items purchased by the similar customer\n",
        "    items_similar_customer = set(custID_matrix.loc[similar_customer].iloc[custID_matrix.loc[similar_customer].to_numpy().nonzero()].index)\n",
        "    \n",
        "    # Find the items recommended to the input customer\n",
        "    recommended_items = items_similar_customer - items_customer_id\n",
        "    \n",
        "    # Filter out the recommended items from the dataframe and drop duplicates\n",
        "    recommended_items_df = df100.loc[df100[\"StockCode\"].isin(recommended_items), [\"StockCode\", \"Description\"]].drop_duplicates().set_index(\"StockCode\")\n",
        "    \n",
        "    return recommended_items_df\n"
      ]
    },
    {
      "cell_type": "code",
      "execution_count": 171,
      "id": "b5b45d0b",
      "metadata": {},
      "outputs": [
        {
          "name": "stdout",
          "output_type": "stream",
          "text": [
            "                              Description\n",
            "StockCode                                \n",
            "22926      IVORY GIANT GARDEN THERMOMETER\n",
            "22583        PACK OF 6 HANDBAG GIFT BOXES\n",
            "22584      PACK OF 6 PANNETONE GIFT BOXES\n",
            "22605           WOODEN CROQUET GARDEN SET\n",
            "22691             DOORMAT WELCOME SUNRISE\n",
            "22584      PACK OF 6 PANETTONE GIFT BOXES\n"
          ]
        }
      ],
      "source": [
        "recommendations = recommend_items(17396, custID_matrix, df100)\n",
        "print(recommendations)\n"
      ]
    },
    {
      "cell_type": "code",
      "execution_count": null,
      "id": "9a8fb9ad",
      "metadata": {},
      "outputs": [],
      "source": []
    }
  ],
  "metadata": {
    "colab": {
      "provenance": []
    },
    "kernelspec": {
      "display_name": "Python 3 (ipykernel)",
      "language": "python",
      "name": "python3"
    },
    "language_info": {
      "codemirror_mode": {
        "name": "ipython",
        "version": 3
      },
      "file_extension": ".py",
      "mimetype": "text/x-python",
      "name": "python",
      "nbconvert_exporter": "python",
      "pygments_lexer": "ipython3",
      "version": "3.7.4"
    }
  },
  "nbformat": 4,
  "nbformat_minor": 5
}
